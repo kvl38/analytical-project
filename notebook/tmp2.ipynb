{
 "cells": [
  {
   "cell_type": "markdown",
   "id": "f4a565e8",
   "metadata": {},
   "source": [
    "# Прогнозирование оттока клиентов телекоммуникационного оператора"
   ]
  },
  {
   "cell_type": "markdown",
   "id": "2e913af1",
   "metadata": {
    "toc": true
   },
   "source": [
    "<h1>Содержание<span class=\"tocSkip\"></span></h1>\n",
    "<div class=\"toc\"><ul class=\"toc-item\"><li><span><a href=\"#Загрузка-данных\" data-toc-modified-id=\"Загрузка-данных-1\"><span class=\"toc-item-num\">1&nbsp;&nbsp;</span>Загрузка данных</a></span><ul class=\"toc-item\"><li><span><a href=\"#Информация-о-договоре\" data-toc-modified-id=\"Информация-о-договоре-1.1\"><span class=\"toc-item-num\">1.1&nbsp;&nbsp;</span>Информация о договоре</a></span></li><li><span><a href=\"#Персональные-данные-клиента\" data-toc-modified-id=\"Персональные-данные-клиента-1.2\"><span class=\"toc-item-num\">1.2&nbsp;&nbsp;</span>Персональные данные клиента</a></span></li><li><span><a href=\"#Информация-об-интернет-услугах\" data-toc-modified-id=\"Информация-об-интернет-услугах-1.3\"><span class=\"toc-item-num\">1.3&nbsp;&nbsp;</span>Информация об интернет-услугах</a></span></li><li><span><a href=\"#Информация-об-услугах-телефонии\" data-toc-modified-id=\"Информация-об-услугах-телефонии-1.4\"><span class=\"toc-item-num\">1.4&nbsp;&nbsp;</span>Информация об услугах телефонии</a></span></li><li><span><a href=\"#Вывод-по-разделу\" data-toc-modified-id=\"Вывод-по-разделу-1.5\"><span class=\"toc-item-num\">1.5&nbsp;&nbsp;</span>Вывод по разделу</a></span></li></ul></li><li><span><a href=\"#Предобработка-данных-и-исследовательский-анализ\" data-toc-modified-id=\"Предобработка-данных-и-исследовательский-анализ-2\"><span class=\"toc-item-num\">2&nbsp;&nbsp;</span>Предобработка данных и исследовательский анализ</a></span><ul class=\"toc-item\"><li><span><a href=\"#contract_df\" data-toc-modified-id=\"contract_df-2.1\"><span class=\"toc-item-num\">2.1&nbsp;&nbsp;</span>contract_df</a></span></li><li><span><a href=\"#personal_df\" data-toc-modified-id=\"personal_df-2.2\"><span class=\"toc-item-num\">2.2&nbsp;&nbsp;</span>personal_df</a></span></li><li><span><a href=\"#internet_df\" data-toc-modified-id=\"internet_df-2.3\"><span class=\"toc-item-num\">2.3&nbsp;&nbsp;</span>internet_df</a></span></li><li><span><a href=\"#phone_df\" data-toc-modified-id=\"phone_df-2.4\"><span class=\"toc-item-num\">2.4&nbsp;&nbsp;</span>phone_df</a></span></li><li><span><a href=\"#Вывод-по-разделу\" data-toc-modified-id=\"Вывод-по-разделу-2.5\"><span class=\"toc-item-num\">2.5&nbsp;&nbsp;</span>Вывод по разделу</a></span></li></ul></li><li><span><a href=\"#Объединение-данных\" data-toc-modified-id=\"Объединение-данных-3\"><span class=\"toc-item-num\">3&nbsp;&nbsp;</span>Объединение данных</a></span></li><li><span><a href=\"#Подготовка-данных\" data-toc-modified-id=\"Подготовка-данных-4\"><span class=\"toc-item-num\">4&nbsp;&nbsp;</span>Подготовка данных</a></span></li><li><span><a href=\"#Обучение-ML-моделей\" data-toc-modified-id=\"Обучение-ML-моделей-5\"><span class=\"toc-item-num\">5&nbsp;&nbsp;</span>Обучение ML-моделей</a></span></li><li><span><a href=\"#Выбор-лучшей-модели\" data-toc-modified-id=\"Выбор-лучшей-модели-6\"><span class=\"toc-item-num\">6&nbsp;&nbsp;</span>Выбор лучшей модели</a></span></li><li><span><a href=\"#Общий-вывод\" data-toc-modified-id=\"Общий-вывод-7\"><span class=\"toc-item-num\">7&nbsp;&nbsp;</span>Общий вывод</a></span></li></ul></div>"
   ]
  },
  {
   "cell_type": "markdown",
   "id": "74d55b23",
   "metadata": {},
   "source": [
    "**Описание проекта:**\n",
    "\n",
    "Компания «ТелеДом», один из игроков телекоммуникационного рынка, заинтересована в снижении уровня оттока клиентов. Для этого планируется внедрение системы, которая будет прогнозировать вероятность расторжения договора на основе имеющихся клиентских данных. Это позволит сотрудникам «ТелеДом» своевременно выявлять склонных к оттоку клиентов и предлагать им промокоды или специальные условия, чтобы повысить уровень удержания.\n",
    "\n",
    "**Цель проекта:**\n",
    "\n",
    "Разработать модель машинного обучения для прогнозирования расторжения договора абонентом.\n",
    "\n",
    "**Задачи:**\n",
    "\n",
    "- Загрузить данные\n",
    "- Предобработать данные\n",
    "- Провести исследовательский анализ и выявить ключевые факторы, влияющие на отток\n",
    "- Обучить и сравнить модели машинного обучения\n",
    "- Разработать финальную классификационную модель для прогнозирования вероятности оттока клиентов\n",
    "\n",
    "**Описание данных:**\n",
    "\n",
    "Данные состоят из нескольких файлов, полученных из разных источников:\n",
    "\n",
    "1) Файл *contract_new.csv* — информация о договоре\n",
    "\n",
    "* customerID — идентификатор абонента;\n",
    "* BeginDate — дата начала действия договора;\n",
    "* EndDate — дата окончания действия договора;\n",
    "* Type — тип оплаты: раз в год-два или ежемесячно;\n",
    "* PaperlessBilling — электронный расчётный лист;\n",
    "* PaymentMethod — тип платежа;\n",
    "* MonthlyCharges — расходы за месяц;\n",
    "* TotalCharges — общие расходы абонента.\n",
    "\n",
    "2) Файл *personal_new.csv* — персональные данные клиента\n",
    "\n",
    "* customerID — идентификатор пользователя;\n",
    "* gender — пол;\n",
    "* SeniorCitizen — является ли абонент пенсионером;\n",
    "* Partner — есть ли у абонента супруг или супруга;\n",
    "* Dependents — есть ли у абонента дети.\n",
    "\n",
    "3) Файл *internet_new.csv* — информация об интернет-услугах\n",
    "\n",
    "* customerID — идентификатор пользователя;\n",
    "* InternetService — тип подключения;\n",
    "* OnlineSecurity — блокировка опасных сайтов;\n",
    "* OnlineBackup — облачное хранилище файлов для резервного копирования данных;\n",
    "* DeviceProtection — антивирус;\n",
    "* TechSupport — выделенная линия технической поддержки;\n",
    "* StreamingTV — стриминговое телевидение;\n",
    "* StreamingMovies — каталог фильмов.\n",
    "\n",
    "4) Файл *phone_new.csv* — информация об услугах телефонии\n",
    "\n",
    "* customerID — идентификатор пользователя;\n",
    "* MultipleLines — подключение телефона к нескольким линиям одновременно."
   ]
  },
  {
   "cell_type": "markdown",
   "id": "be1d097a",
   "metadata": {},
   "source": [
    "## Загрузка данных"
   ]
  },
  {
   "cell_type": "code",
   "execution_count": 1,
   "id": "88c53eed",
   "metadata": {},
   "outputs": [],
   "source": [
    "# Импортируем нужные библиотеки\n",
    "import pandas as pd\n",
    "import re\n",
    "import numpy as np\n",
    "from datetime import datetime\n",
    "import matplotlib.pyplot as plt\n",
    "import seaborn as sns"
   ]
  },
  {
   "cell_type": "code",
   "execution_count": 2,
   "id": "bb529d9c",
   "metadata": {},
   "outputs": [],
   "source": [
    "# # Установим библиотеку\n",
    "# !pip install phik -q\n",
    "# !pip install --upgrade scikit-learn -q"
   ]
  },
  {
   "cell_type": "code",
   "execution_count": 3,
   "id": "3f5defca",
   "metadata": {},
   "outputs": [],
   "source": [
    "# Задаем значения констант\n",
    "RANDOM_STATE = 42\n",
    "TEST_SIZE = 0.25\n",
    "CV = 5\n",
    "\n",
    "contract_link = 'https://code.s3.yandex.net/datasets/contract_new.csv'\n",
    "personal_link = 'https://code.s3.yandex.net/datasets/personal_new.csv'\n",
    "internet_link = 'https://code.s3.yandex.net/datasets/internet_new.csv'\n",
    "phone_link = 'https://code.s3.yandex.net/datasets/phone_new.csv'"
   ]
  },
  {
   "cell_type": "code",
   "execution_count": 4,
   "id": "75acd676",
   "metadata": {},
   "outputs": [],
   "source": [
    "def data_loader(link: str) -> pd.DataFrame:\n",
    "    \n",
    "    \"\"\"\n",
    "    Загружает данные из CSV-файла по указанному пути или URL.\n",
    "\n",
    "    Параметры:\n",
    "    ----------\n",
    "    link : str\n",
    "        Путь к локальному CSV-файлу или URL к удалённому источнику.\n",
    "\n",
    "    Возвращает:\n",
    "    ----------\n",
    "    pd.DataFrame\n",
    "        DataFrame с загруженными данными. \n",
    "        В случае ошибки возвращается пустой DataFrame, а сообщение об ошибке выводится в консоль.\n",
    "    \"\"\"\n",
    "    \n",
    "    try:\n",
    "        df = pd.read_csv(link)\n",
    "        return df\n",
    "    \n",
    "    except Exception as e:\n",
    "        print(f\"Произошла ошибка: {e}\")\n",
    "        return pd.DataFrame()"
   ]
  },
  {
   "cell_type": "code",
   "execution_count": 5,
   "id": "690f0c28",
   "metadata": {},
   "outputs": [],
   "source": [
    "def renaming_columns(df: pd.DataFrame) -> pd.DataFrame:\n",
    "    \n",
    "    \"\"\"\n",
    "    Переименовывает столбцы DataFrame из camelCase/PascalCase в snake_case.\n",
    "\n",
    "    Параметры:\n",
    "    -----------\n",
    "    df : pd.DataFrame\n",
    "        Исходный DataFrame с названиями столбцов в camelCase или PascalCase.\n",
    "\n",
    "    Возвращает:\n",
    "    -----------\n",
    "    pd.DataFrame\n",
    "        Новый DataFrame с переименованными столбцами в формате snake_case.\n",
    "    \"\"\"\n",
    "    \n",
    "    def to_snake_case(col_name: str) -> str:\n",
    "        \n",
    "        \"\"\"\n",
    "        Преобразует отдельное имя столбца, заменяя переходы от строчных букв к заглавным \n",
    "        на нижние подчёркивания и приводит строку к нижнему регистру.\n",
    "\n",
    "        Параметры:\n",
    "        -----------\n",
    "        name : str\n",
    "            Исходное имя столбца.\n",
    "\n",
    "        Возвращает:\n",
    "        -----------\n",
    "        str\n",
    "            Имя столбца, преобразованное в snake_case.\n",
    "        \"\"\"\n",
    "        \n",
    "        stage_1 = re.sub('(.)([A-Z][a-z]+)', r'\\1_\\2', col_name)\n",
    "        stage_2 = re.sub('([a-z0-9])([A-Z])', r'\\1_\\2', stage_1)\n",
    "        return stage_2.lower()\n",
    "\n",
    "    new_columns = {col: to_snake_case(col) for col in df.columns}\n",
    "    return df.rename(columns=new_columns)"
   ]
  },
  {
   "cell_type": "code",
   "execution_count": 6,
   "id": "afce38a2",
   "metadata": {},
   "outputs": [],
   "source": [
    "def df_analysis(df: pd.DataFrame, df_name: str = '') -> None:\n",
    "    \n",
    "    \"\"\"\n",
    "    Выполняет базовый анализ переданного DataFrame и выводит ключевую информацию.\n",
    "\n",
    "    Параметры:\n",
    "    -----------\n",
    "    df : pd.DataFrame\n",
    "        Датафрейм для анализа.\n",
    "    df_name : str, optional\n",
    "        Имя датафрейма.\n",
    "\n",
    "    Функция выводит:\n",
    "    -----------\n",
    "    - Название датафрейма.\n",
    "    - Количество явных дубликатов.\n",
    "    - Количество пропущенных значений по каждому столбцу.\n",
    "    - Для каждого столбца — число уникальных значений.\n",
    "    \"\"\"\n",
    "    \n",
    "    print(f\"Для датафрейма {df_name} характерно:\")\n",
    "    print('\\nЧисло явных дубликатов: ', df.duplicated().sum(),\n",
    "          '\\n\\nПропущенные значения:\\n', df.isnull().sum(), sep='')\n",
    "    \n",
    "    for column in df.columns:\n",
    "        print(f'\\nВ столбце \\'{column}\\'', df[column].nunique(), 'уникальных значений')"
   ]
  },
  {
   "cell_type": "code",
   "execution_count": 7,
   "id": "74ac7fbc",
   "metadata": {},
   "outputs": [],
   "source": [
    "def months_between(start_date: datetime, end_date: datetime) -> int:\n",
    "    \n",
    "    \"\"\"\n",
    "    Вычисляет целое количество месяцев между двумя датами.\n",
    "\n",
    "    Параметры:\n",
    "    -----------\n",
    "    start_date : datetime\n",
    "        Начальная дата.\n",
    "    end_date : datetime\n",
    "        Конечная дата.\n",
    "\n",
    "    Возвращает:\n",
    "    -----------\n",
    "    int\n",
    "        Количество полных месяцев между start_date и end_date. \n",
    "    \"\"\"\n",
    "    \n",
    "    year_diff = end_date.year - start_date.year\n",
    "    month_diff = end_date.month - start_date.month\n",
    "    \n",
    "    return year_diff * 12 + month_diff"
   ]
  },
  {
   "cell_type": "code",
   "execution_count": 8,
   "id": "975c8f8c",
   "metadata": {},
   "outputs": [],
   "source": [
    "def graph_quant_feature(df: pd.DataFrame, col_name: str, col_title: str) -> None:\n",
    "    \n",
    "    \"\"\"\n",
    "    Строит гистограмму и диаграмму размаха для визуального анализа количественного признака.\n",
    "\n",
    "    Параметры:\n",
    "    ----------\n",
    "    df : pd.DataFrame\n",
    "        Исходный датафрейм с данными.\n",
    "\n",
    "    col_name : str\n",
    "        Название столбца, для которого необходимо построить графики.\n",
    "\n",
    "    col_title : str\n",
    "        Общее название для графиков.\n",
    "\n",
    "    Возвращает:\n",
    "    -----------\n",
    "    None\n",
    "        Функция не возвращает значения, а отображает графики и печатает описательную статистику.\n",
    "    \"\"\"\n",
    "    \n",
    "    fig, axes = plt.subplots(nrows=1, ncols=2, figsize=(12, 6))\n",
    "    \n",
    "    bins = int(np.log2(len(df[col_name])) + 1)\n",
    "\n",
    "    sns.histplot(df[col_name], bins=bins, ax=axes[0], edgecolor='black')\n",
    "    axes[0].set_xlabel(f'Количественный признак: {col_name}')\n",
    "    axes[0].set_ylabel('Количество абонентов')\n",
    "    axes[0].set_title('Гистограмма')\n",
    "    axes[0].grid(True)\n",
    "\n",
    "    sns.boxplot(x=df[col_name], ax=axes[1], color='orange')\n",
    "    axes[1].set_xlabel(f'{col_name}')\n",
    "    axes[1].set_title('Диаграмма размаха')\n",
    "\n",
    "    plt.suptitle(col_title)\n",
    "    plt.tight_layout()\n",
    "    plt.show()\n",
    "\n",
    "    print(f'Рассмотрим описательную статистику по признаку \"{col_name}\":\\n{df[col_name].describe()}')"
   ]
  },
  {
   "cell_type": "code",
   "execution_count": 9,
   "id": "293888f7",
   "metadata": {},
   "outputs": [],
   "source": [
    "def graph_cat_feature(df: pd.DataFrame, col_name: str, col_title: str) -> None:\n",
    "    \n",
    "    \"\"\"\n",
    "    Строит столбчатую диаграмму для категориального признака и выводит\n",
    "    распределение значений по категориям.\n",
    "\n",
    "    Параметры:\n",
    "    ----------\n",
    "    df : pd.DataFrame\n",
    "        Исходный датафрейм с данными.\n",
    "\n",
    "    col_name : str\n",
    "        Название категориального столбца, который необходимо визуализировать.\n",
    "\n",
    "    col_title : str\n",
    "        Заголовок графика.\n",
    "\n",
    "    Возвращает:\n",
    "    -----------\n",
    "    None\n",
    "        Функция не возвращает значения, а отображает график.\n",
    "    \"\"\"\n",
    "    \n",
    "    plt.figure(figsize=(6, 6))\n",
    "    sns.countplot(data=df, x=col_name, palette='deep', edgecolor='black')\n",
    "    plt.title(col_title)\n",
    "    plt.ylabel('Количество абонентов')\n",
    "    plt.xlabel(f'Значения признака: {col_name}')\n",
    "    plt.xticks(rotation=0)\n",
    "    plt.tight_layout()\n",
    "    plt.show()\n",
    "    \n",
    "    print('Распределение по категориям:', df[col_name].value_counts(), sep='\\n')"
   ]
  },
  {
   "cell_type": "markdown",
   "id": "b10721be",
   "metadata": {},
   "source": [
    "### Информация о договоре"
   ]
  },
  {
   "cell_type": "code",
   "execution_count": 10,
   "id": "777361c6",
   "metadata": {
    "scrolled": true
   },
   "outputs": [
    {
     "data": {
      "text/html": [
       "<div>\n",
       "<style scoped>\n",
       "    .dataframe tbody tr th:only-of-type {\n",
       "        vertical-align: middle;\n",
       "    }\n",
       "\n",
       "    .dataframe tbody tr th {\n",
       "        vertical-align: top;\n",
       "    }\n",
       "\n",
       "    .dataframe thead th {\n",
       "        text-align: right;\n",
       "    }\n",
       "</style>\n",
       "<table border=\"1\" class=\"dataframe\">\n",
       "  <thead>\n",
       "    <tr style=\"text-align: right;\">\n",
       "      <th></th>\n",
       "      <th>customerID</th>\n",
       "      <th>BeginDate</th>\n",
       "      <th>EndDate</th>\n",
       "      <th>Type</th>\n",
       "      <th>PaperlessBilling</th>\n",
       "      <th>PaymentMethod</th>\n",
       "      <th>MonthlyCharges</th>\n",
       "      <th>TotalCharges</th>\n",
       "    </tr>\n",
       "  </thead>\n",
       "  <tbody>\n",
       "    <tr>\n",
       "      <th>0</th>\n",
       "      <td>7590-VHVEG</td>\n",
       "      <td>2020-01-01</td>\n",
       "      <td>No</td>\n",
       "      <td>Month-to-month</td>\n",
       "      <td>Yes</td>\n",
       "      <td>Electronic check</td>\n",
       "      <td>29.85</td>\n",
       "      <td>31.04</td>\n",
       "    </tr>\n",
       "    <tr>\n",
       "      <th>1</th>\n",
       "      <td>5575-GNVDE</td>\n",
       "      <td>2017-04-01</td>\n",
       "      <td>No</td>\n",
       "      <td>One year</td>\n",
       "      <td>No</td>\n",
       "      <td>Mailed check</td>\n",
       "      <td>56.95</td>\n",
       "      <td>2071.84</td>\n",
       "    </tr>\n",
       "    <tr>\n",
       "      <th>2</th>\n",
       "      <td>3668-QPYBK</td>\n",
       "      <td>2019-10-01</td>\n",
       "      <td>No</td>\n",
       "      <td>Month-to-month</td>\n",
       "      <td>Yes</td>\n",
       "      <td>Mailed check</td>\n",
       "      <td>53.85</td>\n",
       "      <td>226.17</td>\n",
       "    </tr>\n",
       "    <tr>\n",
       "      <th>3</th>\n",
       "      <td>7795-CFOCW</td>\n",
       "      <td>2016-05-01</td>\n",
       "      <td>No</td>\n",
       "      <td>One year</td>\n",
       "      <td>No</td>\n",
       "      <td>Bank transfer (automatic)</td>\n",
       "      <td>42.30</td>\n",
       "      <td>1960.6</td>\n",
       "    </tr>\n",
       "    <tr>\n",
       "      <th>4</th>\n",
       "      <td>9237-HQITU</td>\n",
       "      <td>2019-09-01</td>\n",
       "      <td>No</td>\n",
       "      <td>Month-to-month</td>\n",
       "      <td>Yes</td>\n",
       "      <td>Electronic check</td>\n",
       "      <td>70.70</td>\n",
       "      <td>353.5</td>\n",
       "    </tr>\n",
       "  </tbody>\n",
       "</table>\n",
       "</div>"
      ],
      "text/plain": [
       "   customerID   BeginDate EndDate            Type PaperlessBilling  \\\n",
       "0  7590-VHVEG  2020-01-01      No  Month-to-month              Yes   \n",
       "1  5575-GNVDE  2017-04-01      No        One year               No   \n",
       "2  3668-QPYBK  2019-10-01      No  Month-to-month              Yes   \n",
       "3  7795-CFOCW  2016-05-01      No        One year               No   \n",
       "4  9237-HQITU  2019-09-01      No  Month-to-month              Yes   \n",
       "\n",
       "               PaymentMethod  MonthlyCharges TotalCharges  \n",
       "0           Electronic check           29.85        31.04  \n",
       "1               Mailed check           56.95      2071.84  \n",
       "2               Mailed check           53.85       226.17  \n",
       "3  Bank transfer (automatic)           42.30       1960.6  \n",
       "4           Electronic check           70.70        353.5  "
      ]
     },
     "execution_count": 10,
     "metadata": {},
     "output_type": "execute_result"
    }
   ],
   "source": [
    "# Загружаем данные информации о договоре\n",
    "contract_df = data_loader(contract_link)\n",
    "\n",
    "# Выводим первые 5 строк загруженных данных\n",
    "contract_df.head()"
   ]
  },
  {
   "cell_type": "code",
   "execution_count": 11,
   "id": "2ed15791",
   "metadata": {
    "scrolled": true
   },
   "outputs": [
    {
     "name": "stdout",
     "output_type": "stream",
     "text": [
      "<class 'pandas.core.frame.DataFrame'>\n",
      "RangeIndex: 7043 entries, 0 to 7042\n",
      "Data columns (total 8 columns):\n",
      " #   Column            Non-Null Count  Dtype  \n",
      "---  ------            --------------  -----  \n",
      " 0   customerID        7043 non-null   object \n",
      " 1   BeginDate         7043 non-null   object \n",
      " 2   EndDate           7043 non-null   object \n",
      " 3   Type              7043 non-null   object \n",
      " 4   PaperlessBilling  7043 non-null   object \n",
      " 5   PaymentMethod     7043 non-null   object \n",
      " 6   MonthlyCharges    7043 non-null   float64\n",
      " 7   TotalCharges      7043 non-null   object \n",
      "dtypes: float64(1), object(7)\n",
      "memory usage: 440.3+ KB\n"
     ]
    }
   ],
   "source": [
    "# Выводим основную информацию по загруженным данным\n",
    "contract_df.info()"
   ]
  },
  {
   "cell_type": "markdown",
   "id": "8b7b2243",
   "metadata": {},
   "source": [
    "**Первые выводы:**\n",
    "- В датасете представлена информация о 7043 абонентах; пропущенных значений не обнаружено.\n",
    "- Столбцы *BeginDate* и *EndDate* необходимо привести к временному типу (datetime) для удобства работы, а *TotalCharges* к типу float.\n",
    "- Столбцы *Type*, *PaperlessBilling* и *PaymentMethod* можно обработать как категориальные признаки.\n",
    "- Требуется создать целевой столбец *subscriber_left*, отражающий факт ухода клиента, на основе значений в столбце *EndDate*: если указана дата — клиент ушёл (присваивается 1), если указано 'No' — клиент остался (присваивается 0).\n",
    "- Необходимо создать столбец *num_of_months*, отражающий количество месяцев подписки абонента, исходя из того, что данные актуальны на 1 февраля 2020 года.\n",
    "- Рекомендуется привести имена столбцов к змеиному регистру."
   ]
  },
  {
   "cell_type": "markdown",
   "id": "6c82f511",
   "metadata": {},
   "source": [
    "### Персональные данные клиента"
   ]
  },
  {
   "cell_type": "code",
   "execution_count": 12,
   "id": "a1c5d173",
   "metadata": {},
   "outputs": [
    {
     "data": {
      "text/html": [
       "<div>\n",
       "<style scoped>\n",
       "    .dataframe tbody tr th:only-of-type {\n",
       "        vertical-align: middle;\n",
       "    }\n",
       "\n",
       "    .dataframe tbody tr th {\n",
       "        vertical-align: top;\n",
       "    }\n",
       "\n",
       "    .dataframe thead th {\n",
       "        text-align: right;\n",
       "    }\n",
       "</style>\n",
       "<table border=\"1\" class=\"dataframe\">\n",
       "  <thead>\n",
       "    <tr style=\"text-align: right;\">\n",
       "      <th></th>\n",
       "      <th>customerID</th>\n",
       "      <th>gender</th>\n",
       "      <th>SeniorCitizen</th>\n",
       "      <th>Partner</th>\n",
       "      <th>Dependents</th>\n",
       "    </tr>\n",
       "  </thead>\n",
       "  <tbody>\n",
       "    <tr>\n",
       "      <th>0</th>\n",
       "      <td>7590-VHVEG</td>\n",
       "      <td>Female</td>\n",
       "      <td>0</td>\n",
       "      <td>Yes</td>\n",
       "      <td>No</td>\n",
       "    </tr>\n",
       "    <tr>\n",
       "      <th>1</th>\n",
       "      <td>5575-GNVDE</td>\n",
       "      <td>Male</td>\n",
       "      <td>0</td>\n",
       "      <td>No</td>\n",
       "      <td>No</td>\n",
       "    </tr>\n",
       "    <tr>\n",
       "      <th>2</th>\n",
       "      <td>3668-QPYBK</td>\n",
       "      <td>Male</td>\n",
       "      <td>0</td>\n",
       "      <td>No</td>\n",
       "      <td>No</td>\n",
       "    </tr>\n",
       "    <tr>\n",
       "      <th>3</th>\n",
       "      <td>7795-CFOCW</td>\n",
       "      <td>Male</td>\n",
       "      <td>0</td>\n",
       "      <td>No</td>\n",
       "      <td>No</td>\n",
       "    </tr>\n",
       "    <tr>\n",
       "      <th>4</th>\n",
       "      <td>9237-HQITU</td>\n",
       "      <td>Female</td>\n",
       "      <td>0</td>\n",
       "      <td>No</td>\n",
       "      <td>No</td>\n",
       "    </tr>\n",
       "  </tbody>\n",
       "</table>\n",
       "</div>"
      ],
      "text/plain": [
       "   customerID  gender  SeniorCitizen Partner Dependents\n",
       "0  7590-VHVEG  Female              0     Yes         No\n",
       "1  5575-GNVDE    Male              0      No         No\n",
       "2  3668-QPYBK    Male              0      No         No\n",
       "3  7795-CFOCW    Male              0      No         No\n",
       "4  9237-HQITU  Female              0      No         No"
      ]
     },
     "execution_count": 12,
     "metadata": {},
     "output_type": "execute_result"
    }
   ],
   "source": [
    "# Загружаем персональные данные клиента\n",
    "personal_df = data_loader(personal_link)\n",
    "\n",
    "# Выводим первые 5 строк загруженных данных\n",
    "personal_df.head()"
   ]
  },
  {
   "cell_type": "code",
   "execution_count": 13,
   "id": "b8f681ca",
   "metadata": {
    "scrolled": true
   },
   "outputs": [
    {
     "name": "stdout",
     "output_type": "stream",
     "text": [
      "<class 'pandas.core.frame.DataFrame'>\n",
      "RangeIndex: 7043 entries, 0 to 7042\n",
      "Data columns (total 5 columns):\n",
      " #   Column         Non-Null Count  Dtype \n",
      "---  ------         --------------  ----- \n",
      " 0   customerID     7043 non-null   object\n",
      " 1   gender         7043 non-null   object\n",
      " 2   SeniorCitizen  7043 non-null   int64 \n",
      " 3   Partner        7043 non-null   object\n",
      " 4   Dependents     7043 non-null   object\n",
      "dtypes: int64(1), object(4)\n",
      "memory usage: 275.2+ KB\n"
     ]
    }
   ],
   "source": [
    "# Выводим основную информацию по загруженным данным\n",
    "personal_df.info()"
   ]
  },
  {
   "cell_type": "markdown",
   "id": "adf3fee2",
   "metadata": {},
   "source": [
    "**Первые выводы:**\n",
    "- В датасете представлена информация о 7043 абонентах; пропущенных значений не обнаружено.\n",
    "- Все признаки, за исключением *customerID*, являются бинарными категориальными признаками.\n",
    "- Рекомендуется привести имена столбцов к змеиному регистру."
   ]
  },
  {
   "cell_type": "markdown",
   "id": "8fc0b98a",
   "metadata": {},
   "source": [
    "### Информация об интернет-услугах"
   ]
  },
  {
   "cell_type": "code",
   "execution_count": 14,
   "id": "9f02ff86",
   "metadata": {},
   "outputs": [
    {
     "data": {
      "text/html": [
       "<div>\n",
       "<style scoped>\n",
       "    .dataframe tbody tr th:only-of-type {\n",
       "        vertical-align: middle;\n",
       "    }\n",
       "\n",
       "    .dataframe tbody tr th {\n",
       "        vertical-align: top;\n",
       "    }\n",
       "\n",
       "    .dataframe thead th {\n",
       "        text-align: right;\n",
       "    }\n",
       "</style>\n",
       "<table border=\"1\" class=\"dataframe\">\n",
       "  <thead>\n",
       "    <tr style=\"text-align: right;\">\n",
       "      <th></th>\n",
       "      <th>customerID</th>\n",
       "      <th>InternetService</th>\n",
       "      <th>OnlineSecurity</th>\n",
       "      <th>OnlineBackup</th>\n",
       "      <th>DeviceProtection</th>\n",
       "      <th>TechSupport</th>\n",
       "      <th>StreamingTV</th>\n",
       "      <th>StreamingMovies</th>\n",
       "    </tr>\n",
       "  </thead>\n",
       "  <tbody>\n",
       "    <tr>\n",
       "      <th>0</th>\n",
       "      <td>7590-VHVEG</td>\n",
       "      <td>DSL</td>\n",
       "      <td>No</td>\n",
       "      <td>Yes</td>\n",
       "      <td>No</td>\n",
       "      <td>No</td>\n",
       "      <td>No</td>\n",
       "      <td>No</td>\n",
       "    </tr>\n",
       "    <tr>\n",
       "      <th>1</th>\n",
       "      <td>5575-GNVDE</td>\n",
       "      <td>DSL</td>\n",
       "      <td>Yes</td>\n",
       "      <td>No</td>\n",
       "      <td>Yes</td>\n",
       "      <td>No</td>\n",
       "      <td>No</td>\n",
       "      <td>No</td>\n",
       "    </tr>\n",
       "    <tr>\n",
       "      <th>2</th>\n",
       "      <td>3668-QPYBK</td>\n",
       "      <td>DSL</td>\n",
       "      <td>Yes</td>\n",
       "      <td>Yes</td>\n",
       "      <td>No</td>\n",
       "      <td>No</td>\n",
       "      <td>No</td>\n",
       "      <td>No</td>\n",
       "    </tr>\n",
       "    <tr>\n",
       "      <th>3</th>\n",
       "      <td>7795-CFOCW</td>\n",
       "      <td>DSL</td>\n",
       "      <td>Yes</td>\n",
       "      <td>No</td>\n",
       "      <td>Yes</td>\n",
       "      <td>Yes</td>\n",
       "      <td>No</td>\n",
       "      <td>No</td>\n",
       "    </tr>\n",
       "    <tr>\n",
       "      <th>4</th>\n",
       "      <td>9237-HQITU</td>\n",
       "      <td>Fiber optic</td>\n",
       "      <td>No</td>\n",
       "      <td>No</td>\n",
       "      <td>No</td>\n",
       "      <td>No</td>\n",
       "      <td>No</td>\n",
       "      <td>No</td>\n",
       "    </tr>\n",
       "  </tbody>\n",
       "</table>\n",
       "</div>"
      ],
      "text/plain": [
       "   customerID InternetService OnlineSecurity OnlineBackup DeviceProtection  \\\n",
       "0  7590-VHVEG             DSL             No          Yes               No   \n",
       "1  5575-GNVDE             DSL            Yes           No              Yes   \n",
       "2  3668-QPYBK             DSL            Yes          Yes               No   \n",
       "3  7795-CFOCW             DSL            Yes           No              Yes   \n",
       "4  9237-HQITU     Fiber optic             No           No               No   \n",
       "\n",
       "  TechSupport StreamingTV StreamingMovies  \n",
       "0          No          No              No  \n",
       "1          No          No              No  \n",
       "2          No          No              No  \n",
       "3         Yes          No              No  \n",
       "4          No          No              No  "
      ]
     },
     "execution_count": 14,
     "metadata": {},
     "output_type": "execute_result"
    }
   ],
   "source": [
    "# Загружаем информацию об интернет-услугах\n",
    "internet_df = data_loader(internet_link)\n",
    "\n",
    "# Выводим первые 5 строк загруженных данных\n",
    "internet_df.head()"
   ]
  },
  {
   "cell_type": "code",
   "execution_count": 15,
   "id": "907bc6a1",
   "metadata": {
    "scrolled": true
   },
   "outputs": [
    {
     "name": "stdout",
     "output_type": "stream",
     "text": [
      "<class 'pandas.core.frame.DataFrame'>\n",
      "RangeIndex: 5517 entries, 0 to 5516\n",
      "Data columns (total 8 columns):\n",
      " #   Column            Non-Null Count  Dtype \n",
      "---  ------            --------------  ----- \n",
      " 0   customerID        5517 non-null   object\n",
      " 1   InternetService   5517 non-null   object\n",
      " 2   OnlineSecurity    5517 non-null   object\n",
      " 3   OnlineBackup      5517 non-null   object\n",
      " 4   DeviceProtection  5517 non-null   object\n",
      " 5   TechSupport       5517 non-null   object\n",
      " 6   StreamingTV       5517 non-null   object\n",
      " 7   StreamingMovies   5517 non-null   object\n",
      "dtypes: object(8)\n",
      "memory usage: 344.9+ KB\n"
     ]
    }
   ],
   "source": [
    "# Выводим основную информацию по загруженным данным\n",
    "internet_df.info()"
   ]
  },
  {
   "cell_type": "markdown",
   "id": "ec77e0df",
   "metadata": {},
   "source": [
    "**Первые выводы:**\n",
    "- В датасете представлена информация о 5517 абонентах, подключивших интернет услуги; пропущенных значений не обнаружено.\n",
    "- Все признаки, за исключением *customerID*, являются бинарными категориальными признаками.\n",
    "- Рекомендуется привести имена столбцов к змеиному регистру."
   ]
  },
  {
   "cell_type": "markdown",
   "id": "19ccf913",
   "metadata": {},
   "source": [
    "### Информация об услугах телефонии"
   ]
  },
  {
   "cell_type": "code",
   "execution_count": 16,
   "id": "3f859647",
   "metadata": {},
   "outputs": [
    {
     "data": {
      "text/html": [
       "<div>\n",
       "<style scoped>\n",
       "    .dataframe tbody tr th:only-of-type {\n",
       "        vertical-align: middle;\n",
       "    }\n",
       "\n",
       "    .dataframe tbody tr th {\n",
       "        vertical-align: top;\n",
       "    }\n",
       "\n",
       "    .dataframe thead th {\n",
       "        text-align: right;\n",
       "    }\n",
       "</style>\n",
       "<table border=\"1\" class=\"dataframe\">\n",
       "  <thead>\n",
       "    <tr style=\"text-align: right;\">\n",
       "      <th></th>\n",
       "      <th>customerID</th>\n",
       "      <th>MultipleLines</th>\n",
       "    </tr>\n",
       "  </thead>\n",
       "  <tbody>\n",
       "    <tr>\n",
       "      <th>0</th>\n",
       "      <td>5575-GNVDE</td>\n",
       "      <td>No</td>\n",
       "    </tr>\n",
       "    <tr>\n",
       "      <th>1</th>\n",
       "      <td>3668-QPYBK</td>\n",
       "      <td>No</td>\n",
       "    </tr>\n",
       "    <tr>\n",
       "      <th>2</th>\n",
       "      <td>9237-HQITU</td>\n",
       "      <td>No</td>\n",
       "    </tr>\n",
       "    <tr>\n",
       "      <th>3</th>\n",
       "      <td>9305-CDSKC</td>\n",
       "      <td>Yes</td>\n",
       "    </tr>\n",
       "    <tr>\n",
       "      <th>4</th>\n",
       "      <td>1452-KIOVK</td>\n",
       "      <td>Yes</td>\n",
       "    </tr>\n",
       "  </tbody>\n",
       "</table>\n",
       "</div>"
      ],
      "text/plain": [
       "   customerID MultipleLines\n",
       "0  5575-GNVDE            No\n",
       "1  3668-QPYBK            No\n",
       "2  9237-HQITU            No\n",
       "3  9305-CDSKC           Yes\n",
       "4  1452-KIOVK           Yes"
      ]
     },
     "execution_count": 16,
     "metadata": {},
     "output_type": "execute_result"
    }
   ],
   "source": [
    "# Загружаем информацию об услугах телефонии\n",
    "phone_df = data_loader(phone_link)\n",
    "\n",
    "# Выводим первые 5 строк загруженных данных\n",
    "phone_df.head()"
   ]
  },
  {
   "cell_type": "code",
   "execution_count": 17,
   "id": "88b0bcf6",
   "metadata": {},
   "outputs": [
    {
     "name": "stdout",
     "output_type": "stream",
     "text": [
      "<class 'pandas.core.frame.DataFrame'>\n",
      "RangeIndex: 6361 entries, 0 to 6360\n",
      "Data columns (total 2 columns):\n",
      " #   Column         Non-Null Count  Dtype \n",
      "---  ------         --------------  ----- \n",
      " 0   customerID     6361 non-null   object\n",
      " 1   MultipleLines  6361 non-null   object\n",
      "dtypes: object(2)\n",
      "memory usage: 99.5+ KB\n"
     ]
    }
   ],
   "source": [
    "# Выводим основную информацию по загруженным данным\n",
    "phone_df.info()"
   ]
  },
  {
   "cell_type": "markdown",
   "id": "a47b768f",
   "metadata": {},
   "source": [
    "**Первые выводы:**\n",
    "- В датасете представлена информация о 6361 абоненте, подключивших телефонную связь; пропущенных значений не обнаружено.\n",
    "- Признак *MultipleLines* является бинарным категориальным признаком.\n",
    "- Рекомендуется привести имена столбцов к змеиному регистру."
   ]
  },
  {
   "cell_type": "markdown",
   "id": "5699615d",
   "metadata": {},
   "source": [
    "### Вывод по разделу"
   ]
  },
  {
   "cell_type": "markdown",
   "id": "1026bf3d",
   "metadata": {},
   "source": [
    "- В датасете представлена информация о 7043 абонентах.\n",
    "- Явных пропусков в данных не обнаружено.\n",
    "- Не все абоненты подключали услуги телефонной связи или интернета, поэтому при объединении датафреймов могут возникнуть пропущенные значения.\n",
    "- На основе данных датафрейма *contract_df* необходимо создать два признака:\n",
    "    - *subscriber_left*, отражающий факт ухода клиента;\n",
    "    - *num_of_months*, отражающий количество месяцев подписки абонента.\n",
    "- Почти все признаки, кроме *MonthlyCharges*, *TotalCharges*, *BeginDate*, *EndDate* и *customerID*, являются категориальнымии будут обработаны соответствующим образом.\n",
    "- Требуется изменить типы признаков *BeginDate*, *EndDate* и *TotalCharges* на соответствующие (datetime и float).\n",
    "- Во всех датафреймах необходимо привести названия столбцов к единому формату — snake_case."
   ]
  },
  {
   "cell_type": "markdown",
   "id": "3c8690ae",
   "metadata": {},
   "source": [
    "## Предобработка данных и исследовательский анализ"
   ]
  },
  {
   "cell_type": "markdown",
   "id": "dc4a46e5",
   "metadata": {},
   "source": [
    "### contract_df"
   ]
  },
  {
   "cell_type": "code",
   "execution_count": 18,
   "id": "7a6909a8",
   "metadata": {
    "scrolled": false
   },
   "outputs": [
    {
     "data": {
      "text/html": [
       "<div>\n",
       "<style scoped>\n",
       "    .dataframe tbody tr th:only-of-type {\n",
       "        vertical-align: middle;\n",
       "    }\n",
       "\n",
       "    .dataframe tbody tr th {\n",
       "        vertical-align: top;\n",
       "    }\n",
       "\n",
       "    .dataframe thead th {\n",
       "        text-align: right;\n",
       "    }\n",
       "</style>\n",
       "<table border=\"1\" class=\"dataframe\">\n",
       "  <thead>\n",
       "    <tr style=\"text-align: right;\">\n",
       "      <th></th>\n",
       "      <th>customer_id</th>\n",
       "      <th>begin_date</th>\n",
       "      <th>end_date</th>\n",
       "      <th>type</th>\n",
       "      <th>paperless_billing</th>\n",
       "      <th>payment_method</th>\n",
       "      <th>monthly_charges</th>\n",
       "      <th>total_charges</th>\n",
       "    </tr>\n",
       "  </thead>\n",
       "  <tbody>\n",
       "    <tr>\n",
       "      <th>0</th>\n",
       "      <td>7590-VHVEG</td>\n",
       "      <td>2020-01-01</td>\n",
       "      <td>No</td>\n",
       "      <td>Month-to-month</td>\n",
       "      <td>Yes</td>\n",
       "      <td>Electronic check</td>\n",
       "      <td>29.85</td>\n",
       "      <td>31.04</td>\n",
       "    </tr>\n",
       "  </tbody>\n",
       "</table>\n",
       "</div>"
      ],
      "text/plain": [
       "  customer_id  begin_date end_date            type paperless_billing  \\\n",
       "0  7590-VHVEG  2020-01-01       No  Month-to-month               Yes   \n",
       "\n",
       "     payment_method  monthly_charges total_charges  \n",
       "0  Electronic check            29.85         31.04  "
      ]
     },
     "execution_count": 18,
     "metadata": {},
     "output_type": "execute_result"
    }
   ],
   "source": [
    "# Переименуем столбцы\n",
    "contract_df = renaming_columns(contract_df)\n",
    "\n",
    "# Проверяем корректность преобразований\n",
    "contract_df.head(1)"
   ]
  },
  {
   "cell_type": "code",
   "execution_count": 19,
   "id": "fa4c2440",
   "metadata": {},
   "outputs": [
    {
     "data": {
      "text/html": [
       "<div>\n",
       "<style scoped>\n",
       "    .dataframe tbody tr th:only-of-type {\n",
       "        vertical-align: middle;\n",
       "    }\n",
       "\n",
       "    .dataframe tbody tr th {\n",
       "        vertical-align: top;\n",
       "    }\n",
       "\n",
       "    .dataframe thead th {\n",
       "        text-align: right;\n",
       "    }\n",
       "</style>\n",
       "<table border=\"1\" class=\"dataframe\">\n",
       "  <thead>\n",
       "    <tr style=\"text-align: right;\">\n",
       "      <th></th>\n",
       "      <th>customer_id</th>\n",
       "      <th>begin_date</th>\n",
       "      <th>end_date</th>\n",
       "      <th>type</th>\n",
       "      <th>paperless_billing</th>\n",
       "      <th>payment_method</th>\n",
       "      <th>monthly_charges</th>\n",
       "      <th>total_charges</th>\n",
       "    </tr>\n",
       "  </thead>\n",
       "  <tbody>\n",
       "    <tr>\n",
       "      <th>0</th>\n",
       "      <td>7590-VHVEG</td>\n",
       "      <td>2020-01-01</td>\n",
       "      <td>No</td>\n",
       "      <td>month_to_month</td>\n",
       "      <td>Yes</td>\n",
       "      <td>electronic_check</td>\n",
       "      <td>29.85</td>\n",
       "      <td>31.04</td>\n",
       "    </tr>\n",
       "    <tr>\n",
       "      <th>1</th>\n",
       "      <td>5575-GNVDE</td>\n",
       "      <td>2017-04-01</td>\n",
       "      <td>No</td>\n",
       "      <td>one_year</td>\n",
       "      <td>No</td>\n",
       "      <td>mailed_check</td>\n",
       "      <td>56.95</td>\n",
       "      <td>2071.84</td>\n",
       "    </tr>\n",
       "    <tr>\n",
       "      <th>2</th>\n",
       "      <td>3668-QPYBK</td>\n",
       "      <td>2019-10-01</td>\n",
       "      <td>No</td>\n",
       "      <td>month_to_month</td>\n",
       "      <td>Yes</td>\n",
       "      <td>mailed_check</td>\n",
       "      <td>53.85</td>\n",
       "      <td>226.17</td>\n",
       "    </tr>\n",
       "    <tr>\n",
       "      <th>3</th>\n",
       "      <td>7795-CFOCW</td>\n",
       "      <td>2016-05-01</td>\n",
       "      <td>No</td>\n",
       "      <td>one_year</td>\n",
       "      <td>No</td>\n",
       "      <td>bank_transfer</td>\n",
       "      <td>42.30</td>\n",
       "      <td>1960.6</td>\n",
       "    </tr>\n",
       "    <tr>\n",
       "      <th>4</th>\n",
       "      <td>9237-HQITU</td>\n",
       "      <td>2019-09-01</td>\n",
       "      <td>No</td>\n",
       "      <td>month_to_month</td>\n",
       "      <td>Yes</td>\n",
       "      <td>electronic_check</td>\n",
       "      <td>70.70</td>\n",
       "      <td>353.5</td>\n",
       "    </tr>\n",
       "  </tbody>\n",
       "</table>\n",
       "</div>"
      ],
      "text/plain": [
       "  customer_id  begin_date end_date            type paperless_billing  \\\n",
       "0  7590-VHVEG  2020-01-01       No  month_to_month               Yes   \n",
       "1  5575-GNVDE  2017-04-01       No       one_year                 No   \n",
       "2  3668-QPYBK  2019-10-01       No  month_to_month               Yes   \n",
       "3  7795-CFOCW  2016-05-01       No       one_year                 No   \n",
       "4  9237-HQITU  2019-09-01       No  month_to_month               Yes   \n",
       "\n",
       "     payment_method  monthly_charges total_charges  \n",
       "0  electronic_check            29.85         31.04  \n",
       "1      mailed_check            56.95       2071.84  \n",
       "2      mailed_check            53.85        226.17  \n",
       "3     bank_transfer            42.30        1960.6  \n",
       "4  electronic_check            70.70         353.5  "
      ]
     },
     "execution_count": 19,
     "metadata": {},
     "output_type": "execute_result"
    }
   ],
   "source": [
    "# Приведем значения в столбцах к стандартному виду\n",
    "contract_df['type'] = contract_df['type'].replace({'Month-to-month':'month_to_month', \n",
    "                                                   'Two year':'two_year',\n",
    "                                                   'One year':'one_year '})\n",
    "\n",
    "contract_df['payment_method'] = contract_df['payment_method'].replace({'Electronic check':'electronic_check', \n",
    "                                                                       'Mailed check':'mailed_check',\n",
    "                                                                       'Bank transfer (automatic)':'bank_transfer', \n",
    "                                                                       'Credit card (automatic)':'credit_card'})\n",
    "\n",
    "# Проверяем корректность преобразований\n",
    "contract_df.head()"
   ]
  },
  {
   "cell_type": "code",
   "execution_count": 20,
   "id": "b0a81311",
   "metadata": {},
   "outputs": [
    {
     "data": {
      "text/html": [
       "<div>\n",
       "<style scoped>\n",
       "    .dataframe tbody tr th:only-of-type {\n",
       "        vertical-align: middle;\n",
       "    }\n",
       "\n",
       "    .dataframe tbody tr th {\n",
       "        vertical-align: top;\n",
       "    }\n",
       "\n",
       "    .dataframe thead th {\n",
       "        text-align: right;\n",
       "    }\n",
       "</style>\n",
       "<table border=\"1\" class=\"dataframe\">\n",
       "  <thead>\n",
       "    <tr style=\"text-align: right;\">\n",
       "      <th></th>\n",
       "      <th>customer_id</th>\n",
       "      <th>begin_date</th>\n",
       "      <th>end_date</th>\n",
       "      <th>type</th>\n",
       "      <th>paperless_billing</th>\n",
       "      <th>payment_method</th>\n",
       "      <th>monthly_charges</th>\n",
       "      <th>total_charges</th>\n",
       "      <th>subscriber_left</th>\n",
       "    </tr>\n",
       "  </thead>\n",
       "  <tbody>\n",
       "    <tr>\n",
       "      <th>7</th>\n",
       "      <td>6713-OKOMC</td>\n",
       "      <td>2019-04-01</td>\n",
       "      <td>No</td>\n",
       "      <td>month_to_month</td>\n",
       "      <td>No</td>\n",
       "      <td>mailed_check</td>\n",
       "      <td>29.75</td>\n",
       "      <td>300.48</td>\n",
       "      <td>0</td>\n",
       "    </tr>\n",
       "    <tr>\n",
       "      <th>8</th>\n",
       "      <td>7892-POOKP</td>\n",
       "      <td>2017-07-01</td>\n",
       "      <td>No</td>\n",
       "      <td>month_to_month</td>\n",
       "      <td>Yes</td>\n",
       "      <td>electronic_check</td>\n",
       "      <td>104.80</td>\n",
       "      <td>3573.68</td>\n",
       "      <td>0</td>\n",
       "    </tr>\n",
       "    <tr>\n",
       "      <th>9</th>\n",
       "      <td>6388-TABGU</td>\n",
       "      <td>2014-12-01</td>\n",
       "      <td>2017-05-01</td>\n",
       "      <td>one_year</td>\n",
       "      <td>No</td>\n",
       "      <td>bank_transfer</td>\n",
       "      <td>56.15</td>\n",
       "      <td>1628.35</td>\n",
       "      <td>1</td>\n",
       "    </tr>\n",
       "    <tr>\n",
       "      <th>10</th>\n",
       "      <td>9763-GRSKD</td>\n",
       "      <td>2019-01-01</td>\n",
       "      <td>No</td>\n",
       "      <td>month_to_month</td>\n",
       "      <td>Yes</td>\n",
       "      <td>mailed_check</td>\n",
       "      <td>49.95</td>\n",
       "      <td>649.35</td>\n",
       "      <td>0</td>\n",
       "    </tr>\n",
       "    <tr>\n",
       "      <th>11</th>\n",
       "      <td>7469-LKBCI</td>\n",
       "      <td>2018-10-01</td>\n",
       "      <td>No</td>\n",
       "      <td>two_year</td>\n",
       "      <td>No</td>\n",
       "      <td>credit_card</td>\n",
       "      <td>18.95</td>\n",
       "      <td>312.3</td>\n",
       "      <td>0</td>\n",
       "    </tr>\n",
       "  </tbody>\n",
       "</table>\n",
       "</div>"
      ],
      "text/plain": [
       "   customer_id  begin_date    end_date            type paperless_billing  \\\n",
       "7   6713-OKOMC  2019-04-01          No  month_to_month                No   \n",
       "8   7892-POOKP  2017-07-01          No  month_to_month               Yes   \n",
       "9   6388-TABGU  2014-12-01  2017-05-01       one_year                 No   \n",
       "10  9763-GRSKD  2019-01-01          No  month_to_month               Yes   \n",
       "11  7469-LKBCI  2018-10-01          No        two_year                No   \n",
       "\n",
       "      payment_method  monthly_charges total_charges  subscriber_left  \n",
       "7       mailed_check            29.75        300.48                0  \n",
       "8   electronic_check           104.80       3573.68                0  \n",
       "9      bank_transfer            56.15       1628.35                1  \n",
       "10      mailed_check            49.95        649.35                0  \n",
       "11       credit_card            18.95         312.3                0  "
      ]
     },
     "execution_count": 20,
     "metadata": {},
     "output_type": "execute_result"
    }
   ],
   "source": [
    "# Создаем целевой столбец 'subscriber_left', отражающий факт ухода клиента:\n",
    "# 1 — клиент ушел \n",
    "# 0 — клиент остался\n",
    "\n",
    "contract_df['subscriber_left'] = contract_df['end_date'].apply(lambda x: 1 if x != 'No' else 0)\n",
    "\n",
    "# Проверяем корректность преобразований\n",
    "contract_df[7:12]"
   ]
  },
  {
   "cell_type": "markdown",
   "id": "328085fe",
   "metadata": {},
   "source": [
    "В датасете присутствуют абоненты, которые подключились в конце рассматриваемого периода (2020-02-01). В столбце total_charges для таких клиентов стоит заглушка ' ', которую необходимо заменить на 0, поскольку эти абоненты ещё не успели оплатить тариф за месяц. Это странно, так как оплата за услуги обычно производится в начале месяца.\n",
    "\n",
    "Решение заменить пропуски на 0 было принято после анализа абонентов, подключившихся 2020-01-01 и 2019-12-01, которые оплатили ровно за 1 и 2 месяца соответственно."
   ]
  },
  {
   "cell_type": "code",
   "execution_count": 21,
   "id": "9fbad521",
   "metadata": {
    "scrolled": true
   },
   "outputs": [
    {
     "data": {
      "text/html": [
       "<div>\n",
       "<style scoped>\n",
       "    .dataframe tbody tr th:only-of-type {\n",
       "        vertical-align: middle;\n",
       "    }\n",
       "\n",
       "    .dataframe tbody tr th {\n",
       "        vertical-align: top;\n",
       "    }\n",
       "\n",
       "    .dataframe thead th {\n",
       "        text-align: right;\n",
       "    }\n",
       "</style>\n",
       "<table border=\"1\" class=\"dataframe\">\n",
       "  <thead>\n",
       "    <tr style=\"text-align: right;\">\n",
       "      <th></th>\n",
       "      <th>customer_id</th>\n",
       "      <th>begin_date</th>\n",
       "      <th>end_date</th>\n",
       "      <th>type</th>\n",
       "      <th>paperless_billing</th>\n",
       "      <th>payment_method</th>\n",
       "      <th>monthly_charges</th>\n",
       "      <th>total_charges</th>\n",
       "      <th>subscriber_left</th>\n",
       "    </tr>\n",
       "  </thead>\n",
       "  <tbody>\n",
       "    <tr>\n",
       "      <th>488</th>\n",
       "      <td>4472-LVYGI</td>\n",
       "      <td>2020-02-01</td>\n",
       "      <td>No</td>\n",
       "      <td>two_year</td>\n",
       "      <td>Yes</td>\n",
       "      <td>bank_transfer</td>\n",
       "      <td>52.55</td>\n",
       "      <td></td>\n",
       "      <td>0</td>\n",
       "    </tr>\n",
       "    <tr>\n",
       "      <th>753</th>\n",
       "      <td>3115-CZMZD</td>\n",
       "      <td>2020-02-01</td>\n",
       "      <td>No</td>\n",
       "      <td>two_year</td>\n",
       "      <td>No</td>\n",
       "      <td>mailed_check</td>\n",
       "      <td>20.25</td>\n",
       "      <td></td>\n",
       "      <td>0</td>\n",
       "    </tr>\n",
       "    <tr>\n",
       "      <th>936</th>\n",
       "      <td>5709-LVOEQ</td>\n",
       "      <td>2020-02-01</td>\n",
       "      <td>No</td>\n",
       "      <td>two_year</td>\n",
       "      <td>No</td>\n",
       "      <td>mailed_check</td>\n",
       "      <td>80.85</td>\n",
       "      <td></td>\n",
       "      <td>0</td>\n",
       "    </tr>\n",
       "  </tbody>\n",
       "</table>\n",
       "</div>"
      ],
      "text/plain": [
       "    customer_id  begin_date end_date      type paperless_billing  \\\n",
       "488  4472-LVYGI  2020-02-01       No  two_year               Yes   \n",
       "753  3115-CZMZD  2020-02-01       No  two_year                No   \n",
       "936  5709-LVOEQ  2020-02-01       No  two_year                No   \n",
       "\n",
       "    payment_method  monthly_charges total_charges  subscriber_left  \n",
       "488  bank_transfer            52.55                              0  \n",
       "753   mailed_check            20.25                              0  \n",
       "936   mailed_check            80.85                              0  "
      ]
     },
     "execution_count": 21,
     "metadata": {},
     "output_type": "execute_result"
    }
   ],
   "source": [
    "# Пример новых абонентов\n",
    "contract_df[contract_df['total_charges'] == ' '].head(3)"
   ]
  },
  {
   "cell_type": "code",
   "execution_count": 22,
   "id": "83d32814",
   "metadata": {},
   "outputs": [
    {
     "data": {
      "text/plain": [
       "0"
      ]
     },
     "execution_count": 22,
     "metadata": {},
     "output_type": "execute_result"
    }
   ],
   "source": [
    "# Производим замену в столбце 'total_charges'\n",
    "contract_df['total_charges'] = contract_df['total_charges'].replace(' ', 0)\n",
    "\n",
    "# Проверяем корректность преобразований\n",
    "contract_df[contract_df['total_charges'] == ' ']['customer_id'].count()"
   ]
  },
  {
   "cell_type": "markdown",
   "id": "8abb74cc",
   "metadata": {},
   "source": [
    "Мы не можем изменить тип данных столбца *end_date* на datetime, пока в нём присутствует строковое значение 'No'. Заменим это значение на актуальную дату — 1 февраля 2020 года."
   ]
  },
  {
   "cell_type": "code",
   "execution_count": 23,
   "id": "97ff424c",
   "metadata": {},
   "outputs": [
    {
     "data": {
      "text/html": [
       "<div>\n",
       "<style scoped>\n",
       "    .dataframe tbody tr th:only-of-type {\n",
       "        vertical-align: middle;\n",
       "    }\n",
       "\n",
       "    .dataframe tbody tr th {\n",
       "        vertical-align: top;\n",
       "    }\n",
       "\n",
       "    .dataframe thead th {\n",
       "        text-align: right;\n",
       "    }\n",
       "</style>\n",
       "<table border=\"1\" class=\"dataframe\">\n",
       "  <thead>\n",
       "    <tr style=\"text-align: right;\">\n",
       "      <th></th>\n",
       "      <th>customer_id</th>\n",
       "      <th>begin_date</th>\n",
       "      <th>end_date</th>\n",
       "      <th>type</th>\n",
       "      <th>paperless_billing</th>\n",
       "      <th>payment_method</th>\n",
       "      <th>monthly_charges</th>\n",
       "      <th>total_charges</th>\n",
       "      <th>subscriber_left</th>\n",
       "    </tr>\n",
       "  </thead>\n",
       "  <tbody>\n",
       "    <tr>\n",
       "      <th>0</th>\n",
       "      <td>7590-VHVEG</td>\n",
       "      <td>2020-01-01</td>\n",
       "      <td>No</td>\n",
       "      <td>month_to_month</td>\n",
       "      <td>Yes</td>\n",
       "      <td>electronic_check</td>\n",
       "      <td>29.85</td>\n",
       "      <td>31.04</td>\n",
       "      <td>0</td>\n",
       "    </tr>\n",
       "    <tr>\n",
       "      <th>1</th>\n",
       "      <td>5575-GNVDE</td>\n",
       "      <td>2017-04-01</td>\n",
       "      <td>No</td>\n",
       "      <td>one_year</td>\n",
       "      <td>No</td>\n",
       "      <td>mailed_check</td>\n",
       "      <td>56.95</td>\n",
       "      <td>2071.84</td>\n",
       "      <td>0</td>\n",
       "    </tr>\n",
       "  </tbody>\n",
       "</table>\n",
       "</div>"
      ],
      "text/plain": [
       "  customer_id  begin_date end_date            type paperless_billing  \\\n",
       "0  7590-VHVEG  2020-01-01       No  month_to_month               Yes   \n",
       "1  5575-GNVDE  2017-04-01       No       one_year                 No   \n",
       "\n",
       "     payment_method  monthly_charges total_charges  subscriber_left  \n",
       "0  electronic_check            29.85         31.04                0  \n",
       "1      mailed_check            56.95       2071.84                0  "
      ]
     },
     "execution_count": 23,
     "metadata": {},
     "output_type": "execute_result"
    }
   ],
   "source": [
    "# Пример оставшихся абонентов\n",
    "contract_df[contract_df['end_date'] == 'No'].head(2)"
   ]
  },
  {
   "cell_type": "code",
   "execution_count": 24,
   "id": "4d2bc05a",
   "metadata": {},
   "outputs": [
    {
     "data": {
      "text/plain": [
       "0"
      ]
     },
     "execution_count": 24,
     "metadata": {},
     "output_type": "execute_result"
    }
   ],
   "source": [
    "# Производим замену в столбце 'end_date'\n",
    "contract_df['end_date'] = contract_df['end_date'].replace('No', '2020-02-01')\n",
    "\n",
    "# Проверяем корректность преобразований\n",
    "contract_df[contract_df['end_date'] == 'No']['customer_id'].count()"
   ]
  },
  {
   "cell_type": "code",
   "execution_count": 25,
   "id": "b690feaa",
   "metadata": {},
   "outputs": [
    {
     "name": "stdout",
     "output_type": "stream",
     "text": [
      "<class 'pandas.core.frame.DataFrame'>\n",
      "RangeIndex: 7043 entries, 0 to 7042\n",
      "Data columns (total 9 columns):\n",
      " #   Column             Non-Null Count  Dtype         \n",
      "---  ------             --------------  -----         \n",
      " 0   customer_id        7043 non-null   object        \n",
      " 1   begin_date         7043 non-null   datetime64[ns]\n",
      " 2   end_date           7043 non-null   datetime64[ns]\n",
      " 3   type               7043 non-null   object        \n",
      " 4   paperless_billing  7043 non-null   object        \n",
      " 5   payment_method     7043 non-null   object        \n",
      " 6   monthly_charges    7043 non-null   float64       \n",
      " 7   total_charges      7043 non-null   float64       \n",
      " 8   subscriber_left    7043 non-null   int64         \n",
      "dtypes: datetime64[ns](2), float64(2), int64(1), object(4)\n",
      "memory usage: 495.3+ KB\n"
     ]
    }
   ],
   "source": [
    "# Изменяем тип данных\n",
    "contract_df['begin_date'] = pd.to_datetime(contract_df['begin_date'])\n",
    "contract_df['end_date'] = pd.to_datetime(contract_df['end_date'])\n",
    "contract_df['total_charges'] = contract_df['total_charges'].astype(float)\n",
    "\n",
    "# Проверяем корректность преобразований\n",
    "contract_df.info()"
   ]
  },
  {
   "cell_type": "code",
   "execution_count": 26,
   "id": "ff8182f4",
   "metadata": {
    "scrolled": true
   },
   "outputs": [
    {
     "data": {
      "text/html": [
       "<div>\n",
       "<style scoped>\n",
       "    .dataframe tbody tr th:only-of-type {\n",
       "        vertical-align: middle;\n",
       "    }\n",
       "\n",
       "    .dataframe tbody tr th {\n",
       "        vertical-align: top;\n",
       "    }\n",
       "\n",
       "    .dataframe thead th {\n",
       "        text-align: right;\n",
       "    }\n",
       "</style>\n",
       "<table border=\"1\" class=\"dataframe\">\n",
       "  <thead>\n",
       "    <tr style=\"text-align: right;\">\n",
       "      <th></th>\n",
       "      <th>begin_date</th>\n",
       "      <th>end_date</th>\n",
       "      <th>num_of_months</th>\n",
       "    </tr>\n",
       "  </thead>\n",
       "  <tbody>\n",
       "    <tr>\n",
       "      <th>0</th>\n",
       "      <td>2020-01-01</td>\n",
       "      <td>2020-02-01</td>\n",
       "      <td>1</td>\n",
       "    </tr>\n",
       "    <tr>\n",
       "      <th>1</th>\n",
       "      <td>2017-04-01</td>\n",
       "      <td>2020-02-01</td>\n",
       "      <td>34</td>\n",
       "    </tr>\n",
       "    <tr>\n",
       "      <th>2</th>\n",
       "      <td>2019-10-01</td>\n",
       "      <td>2020-02-01</td>\n",
       "      <td>4</td>\n",
       "    </tr>\n",
       "    <tr>\n",
       "      <th>3</th>\n",
       "      <td>2016-05-01</td>\n",
       "      <td>2020-02-01</td>\n",
       "      <td>45</td>\n",
       "    </tr>\n",
       "    <tr>\n",
       "      <th>4</th>\n",
       "      <td>2019-09-01</td>\n",
       "      <td>2020-02-01</td>\n",
       "      <td>5</td>\n",
       "    </tr>\n",
       "  </tbody>\n",
       "</table>\n",
       "</div>"
      ],
      "text/plain": [
       "  begin_date   end_date  num_of_months\n",
       "0 2020-01-01 2020-02-01              1\n",
       "1 2017-04-01 2020-02-01             34\n",
       "2 2019-10-01 2020-02-01              4\n",
       "3 2016-05-01 2020-02-01             45\n",
       "4 2019-09-01 2020-02-01              5"
      ]
     },
     "execution_count": 26,
     "metadata": {},
     "output_type": "execute_result"
    }
   ],
   "source": [
    "# Рассчёт количества месяцев с помощью функции months_between\n",
    "contract_df['num_of_months'] = contract_df.apply(lambda row: months_between(row['begin_date'], row['end_date']),\n",
    "                                                                                                             axis=1)\n",
    "# Проверяем корректность преобразований\n",
    "contract_df[['begin_date', 'end_date', 'num_of_months']].head()"
   ]
  },
  {
   "cell_type": "code",
   "execution_count": 27,
   "id": "eba36cd6",
   "metadata": {},
   "outputs": [
    {
     "name": "stdout",
     "output_type": "stream",
     "text": [
      "Для датафрейма contract_df характерно:\n",
      "\n",
      "Число явных дубликатов: 0\n",
      "\n",
      "Пропущенные значения:\n",
      "customer_id          0\n",
      "begin_date           0\n",
      "end_date             0\n",
      "type                 0\n",
      "paperless_billing    0\n",
      "payment_method       0\n",
      "monthly_charges      0\n",
      "total_charges        0\n",
      "subscriber_left      0\n",
      "num_of_months        0\n",
      "dtype: int64\n",
      "\n",
      "В столбце 'customer_id' 7043 уникальных значений\n",
      "\n",
      "В столбце 'begin_date' 77 уникальных значений\n",
      "\n",
      "В столбце 'end_date' 67 уникальных значений\n",
      "\n",
      "В столбце 'type' 3 уникальных значений\n",
      "\n",
      "В столбце 'paperless_billing' 2 уникальных значений\n",
      "\n",
      "В столбце 'payment_method' 4 уникальных значений\n",
      "\n",
      "В столбце 'monthly_charges' 1585 уникальных значений\n",
      "\n",
      "В столбце 'total_charges' 6658 уникальных значений\n",
      "\n",
      "В столбце 'subscriber_left' 2 уникальных значений\n",
      "\n",
      "В столбце 'num_of_months' 76 уникальных значений\n"
     ]
    }
   ],
   "source": [
    "# Рассмотрим информацию о значениях в столбцах contract_df\n",
    "df_analysis(contract_df, 'contract_df')"
   ]
  },
  {
   "cell_type": "code",
   "execution_count": 28,
   "id": "7d1ff42c",
   "metadata": {
    "scrolled": true
   },
   "outputs": [
    {
     "name": "stdout",
     "output_type": "stream",
     "text": [
      "В исходных данных рассматривается период с 2013-10-01 по 2020-02-01\n"
     ]
    }
   ],
   "source": [
    "# Рассматриваемый период\n",
    "first_date = contract_df['begin_date'].min().date()\n",
    "last_date = contract_df['end_date'].max().date()\n",
    "\n",
    "print(f'В исходных данных рассматривается период с {first_date} по {last_date}')"
   ]
  },
  {
   "cell_type": "markdown",
   "id": "cc6acb45",
   "metadata": {},
   "source": [
    "Изучим распределение количественных и категориальных признаков в датафрейме *contract_df* с помощью соответствующих графиков"
   ]
  },
  {
   "cell_type": "code",
   "execution_count": 29,
   "id": "ba82af9f",
   "metadata": {},
   "outputs": [
    {
     "data": {
      "image/png": "[encoded data removed]",
      "text/plain": [
       "<Figure size 432x432 with 1 Axes>"
      ]
     },
     "metadata": {
      "needs_background": "light"
     },
     "output_type": "display_data"
    },
    {
     "name": "stdout",
     "output_type": "stream",
     "text": [
      "Распределение по категориям:\n",
      "month_to_month    3875\n",
      "two_year          1695\n",
      "one_year          1473\n",
      "Name: type, dtype: int64\n"
     ]
    }
   ],
   "source": [
    "# Строим график\n",
    "graph_cat_feature(contract_df, 'type', 'Тип оплаты')"
   ]
  },
  {
   "cell_type": "markdown",
   "id": "ad87f855",
   "metadata": {},
   "source": [
    "Большинство абонентов предпочитают помесячную форму оплаты"
   ]
  },
  {
   "cell_type": "code",
   "execution_count": 30,
   "id": "823569aa",
   "metadata": {},
   "outputs": [
    {
     "data": {
      "image/png": "[encoded data removed]",
      "text/plain": [
       "<Figure size 432x432 with 1 Axes>"
      ]
     },
     "metadata": {
      "needs_background": "light"
     },
     "output_type": "display_data"
    },
    {
     "name": "stdout",
     "output_type": "stream",
     "text": [
      "Распределение по категориям:\n",
      "Yes    4171\n",
      "No     2872\n",
      "Name: paperless_billing, dtype: int64\n"
     ]
    }
   ],
   "source": [
    "# Строим график\n",
    "graph_cat_feature(contract_df, 'paperless_billing', 'Электронный расчётный лист')"
   ]
  },
  {
   "cell_type": "markdown",
   "id": "cfa1d758",
   "metadata": {},
   "source": [
    "Около 60% абонентов выбирают электронную версию счёта, остальные — бумажную"
   ]
  },
  {
   "cell_type": "code",
   "execution_count": 31,
   "id": "e29a7ab3",
   "metadata": {
    "scrolled": false
   },
   "outputs": [
    {
     "data": {
      "image/png": "[encoded data removed]",
      "text/plain": [
       "<Figure size 432x432 with 1 Axes>"
      ]
     },
     "metadata": {
      "needs_background": "light"
     },
     "output_type": "display_data"
    },
    {
     "name": "stdout",
     "output_type": "stream",
     "text": [
      "Распределение по категориям:\n",
      "electronic_check    2365\n",
      "mailed_check        1612\n",
      "bank_transfer       1544\n",
      "credit_card         1522\n",
      "Name: payment_method, dtype: int64\n"
     ]
    }
   ],
   "source": [
    "# Строим график и выводим описательную статистику\n",
    "graph_cat_feature(contract_df, 'payment_method', 'Тип платежа')"
   ]
  },
  {
   "cell_type": "markdown",
   "id": "56370ef0",
   "metadata": {},
   "source": [
    "На графике заметно преобладание абонентов, выбравших электронные чеки; остальные категории распределены примерно равномерно"
   ]
  },
  {
   "cell_type": "code",
   "execution_count": 32,
   "id": "c0ebe054",
   "metadata": {
    "scrolled": false
   },
   "outputs": [
    {
     "data": {
      "image/png": "[encoded data removed]",
      "text/plain": [
       "<Figure size 864x432 with 2 Axes>"
      ]
     },
     "metadata": {
      "needs_background": "light"
     },
     "output_type": "display_data"
    },
    {
     "name": "stdout",
     "output_type": "stream",
     "text": [
      "Рассмотрим описательную статистику по признаку \"monthly_charges\":\n",
      "count    7043.000000\n",
      "mean       64.761692\n",
      "std        30.090047\n",
      "min        18.250000\n",
      "25%        35.500000\n",
      "50%        70.350000\n",
      "75%        89.850000\n",
      "max       118.750000\n",
      "Name: monthly_charges, dtype: float64\n"
     ]
    }
   ],
   "source": [
    "# Строим график и выводим описательную статистику\n",
    "graph_quant_feature(contract_df, 'monthly_charges', 'Расходы за месяц')"
   ]
  },
  {
   "cell_type": "markdown",
   "id": "89249584",
   "metadata": {},
   "source": [
    "На графике расходов за месяц выделяется пик в диапазоне 18.25–30, где сосредоточено около 22% всех пользователей; при этом выбросы на диаграмме размаха отсутствуют"
   ]
  },
  {
   "cell_type": "code",
   "execution_count": 33,
   "id": "eade6f58",
   "metadata": {
    "scrolled": false
   },
   "outputs": [
    {
     "data": {
      "image/png": "[encoded data removed]",
      "text/plain": [
       "<Figure size 864x432 with 2 Axes>"
      ]
     },
     "metadata": {
      "needs_background": "light"
     },
     "output_type": "display_data"
    },
    {
     "name": "stdout",
     "output_type": "stream",
     "text": [
      "Рассмотрим описательную статистику по признаку \"total_charges\":\n",
      "count    7043.000000\n",
      "mean     2115.312885\n",
      "std      2112.742814\n",
      "min         0.000000\n",
      "25%       436.750000\n",
      "50%      1343.350000\n",
      "75%      3236.690000\n",
      "max      9221.380000\n",
      "Name: total_charges, dtype: float64\n"
     ]
    }
   ],
   "source": [
    "# Строим график и выводим описательную статистику\n",
    "graph_quant_feature(contract_df, 'total_charges', 'Общие расходы абонента')"
   ]
  },
  {
   "cell_type": "code",
   "execution_count": 34,
   "id": "5452d7b8",
   "metadata": {
    "scrolled": true
   },
   "outputs": [
    {
     "data": {
      "text/plain": [
       "Timestamp('2015-02-01 00:00:00')"
      ]
     },
     "execution_count": 34,
     "metadata": {},
     "output_type": "execute_result"
    }
   ],
   "source": [
    "contract_df[contract_df['total_charges'] > 7000]['begin_date'].max()"
   ]
  },
  {
   "cell_type": "code",
   "execution_count": 35,
   "id": "7b204c42",
   "metadata": {
    "scrolled": true
   },
   "outputs": [
    {
     "data": {
      "text/plain": [
       "108.14999999999999"
      ]
     },
     "execution_count": 35,
     "metadata": {},
     "output_type": "execute_result"
    }
   ],
   "source": [
    "contract_df[contract_df['total_charges'] > 7000]['monthly_charges'].mean()"
   ]
  },
  {
   "cell_type": "markdown",
   "id": "677ff23b",
   "metadata": {},
   "source": [
    "У половины абонентов общие расходы не превышают 1500, а значения выше 7000 выглядят как выбросы, однако они обоснованы — это клиенты с длительным сроком подключения (более 6 лет) и среднемесячными расходами около 108"
   ]
  },
  {
   "cell_type": "code",
   "execution_count": 36,
   "id": "ce5a60ea",
   "metadata": {},
   "outputs": [
    {
     "data": {
      "image/png": "[encoded data removed]",
      "text/plain": [
       "<Figure size 432x432 with 1 Axes>"
      ]
     },
     "metadata": {
      "needs_background": "light"
     },
     "output_type": "display_data"
    },
    {
     "name": "stdout",
     "output_type": "stream",
     "text": [
      "Распределение по категориям:\n",
      "0    5942\n",
      "1    1101\n",
      "Name: subscriber_left, dtype: int64\n"
     ]
    }
   ],
   "source": [
    "# Строим график и выводим описательную статистику\n",
    "graph_cat_feature(contract_df, 'subscriber_left', 'Клиент ушел')"
   ]
  },
  {
   "cell_type": "markdown",
   "id": "43b14e3c",
   "metadata": {},
   "source": [
    "В данных наблюдается значительный дисбаланс классов: абонентов, не расторгнувших контракт, почти в 6 раз больше. Это необходимо учитывать при обучении ml-моделей"
   ]
  },
  {
   "cell_type": "code",
   "execution_count": 37,
   "id": "8dcb8854",
   "metadata": {},
   "outputs": [
    {
     "data": {
      "image/png": "[encoded data removed]",
      "text/plain": [
       "<Figure size 864x432 with 2 Axes>"
      ]
     },
     "metadata": {
      "needs_background": "light"
     },
     "output_type": "display_data"
    },
    {
     "name": "stdout",
     "output_type": "stream",
     "text": [
      "Рассмотрим описательную статистику по признаку \"num_of_months\":\n",
      "count    7043.000000\n",
      "mean       29.495385\n",
      "std        22.446726\n",
      "min         0.000000\n",
      "25%         9.000000\n",
      "50%        25.000000\n",
      "75%        48.000000\n",
      "max        76.000000\n",
      "Name: num_of_months, dtype: float64\n"
     ]
    }
   ],
   "source": [
    "# Строим график и выводим описательную статистику\n",
    "graph_quant_feature(contract_df, 'num_of_months', 'Количество месяцев подписки абонентов')"
   ]
  },
  {
   "cell_type": "markdown",
   "id": "b1b9c50d",
   "metadata": {},
   "source": [
    "Согласно графику, большинство абонентов являются клиентами компании менее года; медианный срок — около двух лет, а у 75% клиентов он составляет не более четырёх лет."
   ]
  },
  {
   "cell_type": "markdown",
   "id": "3fe86bfb",
   "metadata": {},
   "source": [
    "### personal_df"
   ]
  },
  {
   "cell_type": "code",
   "execution_count": 38,
   "id": "f21efc71",
   "metadata": {
    "scrolled": true
   },
   "outputs": [
    {
     "data": {
      "text/html": [
       "<div>\n",
       "<style scoped>\n",
       "    .dataframe tbody tr th:only-of-type {\n",
       "        vertical-align: middle;\n",
       "    }\n",
       "\n",
       "    .dataframe tbody tr th {\n",
       "        vertical-align: top;\n",
       "    }\n",
       "\n",
       "    .dataframe thead th {\n",
       "        text-align: right;\n",
       "    }\n",
       "</style>\n",
       "<table border=\"1\" class=\"dataframe\">\n",
       "  <thead>\n",
       "    <tr style=\"text-align: right;\">\n",
       "      <th></th>\n",
       "      <th>customer_id</th>\n",
       "      <th>gender</th>\n",
       "      <th>senior_citizen</th>\n",
       "      <th>partner</th>\n",
       "      <th>dependents</th>\n",
       "    </tr>\n",
       "  </thead>\n",
       "  <tbody>\n",
       "    <tr>\n",
       "      <th>0</th>\n",
       "      <td>7590-VHVEG</td>\n",
       "      <td>Female</td>\n",
       "      <td>0</td>\n",
       "      <td>Yes</td>\n",
       "      <td>No</td>\n",
       "    </tr>\n",
       "    <tr>\n",
       "      <th>1</th>\n",
       "      <td>5575-GNVDE</td>\n",
       "      <td>Male</td>\n",
       "      <td>0</td>\n",
       "      <td>No</td>\n",
       "      <td>No</td>\n",
       "    </tr>\n",
       "    <tr>\n",
       "      <th>2</th>\n",
       "      <td>3668-QPYBK</td>\n",
       "      <td>Male</td>\n",
       "      <td>0</td>\n",
       "      <td>No</td>\n",
       "      <td>No</td>\n",
       "    </tr>\n",
       "  </tbody>\n",
       "</table>\n",
       "</div>"
      ],
      "text/plain": [
       "  customer_id  gender  senior_citizen partner dependents\n",
       "0  7590-VHVEG  Female               0     Yes         No\n",
       "1  5575-GNVDE    Male               0      No         No\n",
       "2  3668-QPYBK    Male               0      No         No"
      ]
     },
     "execution_count": 38,
     "metadata": {},
     "output_type": "execute_result"
    }
   ],
   "source": [
    "# Переименуем столбцы\n",
    "personal_df = renaming_columns(personal_df)\n",
    "\n",
    "# Проверяем корректность преобразований\n",
    "personal_df.head(3)"
   ]
  },
  {
   "cell_type": "code",
   "execution_count": 39,
   "id": "0bd53ae8",
   "metadata": {},
   "outputs": [
    {
     "data": {
      "text/html": [
       "<div>\n",
       "<style scoped>\n",
       "    .dataframe tbody tr th:only-of-type {\n",
       "        vertical-align: middle;\n",
       "    }\n",
       "\n",
       "    .dataframe tbody tr th {\n",
       "        vertical-align: top;\n",
       "    }\n",
       "\n",
       "    .dataframe thead th {\n",
       "        text-align: right;\n",
       "    }\n",
       "</style>\n",
       "<table border=\"1\" class=\"dataframe\">\n",
       "  <thead>\n",
       "    <tr style=\"text-align: right;\">\n",
       "      <th></th>\n",
       "      <th>customer_id</th>\n",
       "      <th>gender</th>\n",
       "      <th>senior_citizen</th>\n",
       "      <th>partner</th>\n",
       "      <th>dependents</th>\n",
       "    </tr>\n",
       "  </thead>\n",
       "  <tbody>\n",
       "    <tr>\n",
       "      <th>4790</th>\n",
       "      <td>5216-WASFJ</td>\n",
       "      <td>Female</td>\n",
       "      <td>Yes</td>\n",
       "      <td>Yes</td>\n",
       "      <td>No</td>\n",
       "    </tr>\n",
       "    <tr>\n",
       "      <th>6181</th>\n",
       "      <td>4937-QPZPO</td>\n",
       "      <td>Male</td>\n",
       "      <td>No</td>\n",
       "      <td>Yes</td>\n",
       "      <td>Yes</td>\n",
       "    </tr>\n",
       "    <tr>\n",
       "      <th>3073</th>\n",
       "      <td>5762-TJXGK</td>\n",
       "      <td>Female</td>\n",
       "      <td>No</td>\n",
       "      <td>No</td>\n",
       "      <td>No</td>\n",
       "    </tr>\n",
       "    <tr>\n",
       "      <th>1739</th>\n",
       "      <td>9804-ICWBG</td>\n",
       "      <td>Male</td>\n",
       "      <td>No</td>\n",
       "      <td>No</td>\n",
       "      <td>No</td>\n",
       "    </tr>\n",
       "    <tr>\n",
       "      <th>5565</th>\n",
       "      <td>5087-SUURX</td>\n",
       "      <td>Female</td>\n",
       "      <td>No</td>\n",
       "      <td>Yes</td>\n",
       "      <td>No</td>\n",
       "    </tr>\n",
       "  </tbody>\n",
       "</table>\n",
       "</div>"
      ],
      "text/plain": [
       "     customer_id  gender senior_citizen partner dependents\n",
       "4790  5216-WASFJ  Female            Yes     Yes         No\n",
       "6181  4937-QPZPO    Male             No     Yes        Yes\n",
       "3073  5762-TJXGK  Female             No      No         No\n",
       "1739  9804-ICWBG    Male             No      No         No\n",
       "5565  5087-SUURX  Female             No     Yes         No"
      ]
     },
     "execution_count": 39,
     "metadata": {},
     "output_type": "execute_result"
    }
   ],
   "source": [
    "# Приведём значения столбца senior_citizen к единому формату категориальных признаков в рамках этого проекта\n",
    "personal_df['senior_citizen'] = personal_df['senior_citizen'].apply(lambda x: 'Yes' if x == 1 else 'No')\n",
    "\n",
    "# Проверяем корректность преобразований\n",
    "personal_df.sample(5)"
   ]
  },
  {
   "cell_type": "code",
   "execution_count": 40,
   "id": "5afe84dd",
   "metadata": {},
   "outputs": [
    {
     "name": "stdout",
     "output_type": "stream",
     "text": [
      "Для датафрейма personal_df характерно:\n",
      "\n",
      "Число явных дубликатов: 0\n",
      "\n",
      "Пропущенные значения:\n",
      "customer_id       0\n",
      "gender            0\n",
      "senior_citizen    0\n",
      "partner           0\n",
      "dependents        0\n",
      "dtype: int64\n",
      "\n",
      "В столбце 'customer_id' 7043 уникальных значений\n",
      "\n",
      "В столбце 'gender' 2 уникальных значений\n",
      "\n",
      "В столбце 'senior_citizen' 2 уникальных значений\n",
      "\n",
      "В столбце 'partner' 2 уникальных значений\n",
      "\n",
      "В столбце 'dependents' 2 уникальных значений\n"
     ]
    }
   ],
   "source": [
    "# Рассмотрим информацию о значениях в столбцах personal_df\n",
    "df_analysis(personal_df, 'personal_df')"
   ]
  },
  {
   "cell_type": "code",
   "execution_count": 41,
   "id": "9af34710",
   "metadata": {},
   "outputs": [
    {
     "data": {
      "image/png": "[encoded data removed]",
      "text/plain": [
       "<Figure size 432x432 with 1 Axes>"
      ]
     },
     "metadata": {
      "needs_background": "light"
     },
     "output_type": "display_data"
    },
    {
     "name": "stdout",
     "output_type": "stream",
     "text": [
      "Распределение по категориям:\n",
      "Male      3555\n",
      "Female    3488\n",
      "Name: gender, dtype: int64\n"
     ]
    }
   ],
   "source": [
    "# Строим график и выводим описательную статистику\n",
    "graph_cat_feature(personal_df, 'gender', 'Пол абонента')"
   ]
  },
  {
   "cell_type": "markdown",
   "id": "a2763bab",
   "metadata": {},
   "source": [
    "Значения пола абонентов распределились практически поровну, но мужчины немного преобладают"
   ]
  },
  {
   "cell_type": "code",
   "execution_count": 42,
   "id": "5f5f7b3b",
   "metadata": {},
   "outputs": [
    {
     "data": {
      "image/png": "[encoded data removed]",
      "text/plain": [
       "<Figure size 432x432 with 1 Axes>"
      ]
     },
     "metadata": {
      "needs_background": "light"
     },
     "output_type": "display_data"
    },
    {
     "name": "stdout",
     "output_type": "stream",
     "text": [
      "Распределение по категориям:\n",
      "No     5901\n",
      "Yes    1142\n",
      "Name: senior_citizen, dtype: int64\n"
     ]
    }
   ],
   "source": [
    "# Строим график и выводим описательную статистику\n",
    "graph_cat_feature(personal_df, 'senior_citizen', 'Является ли абонент пенсионером')"
   ]
  },
  {
   "cell_type": "markdown",
   "id": "222ca922",
   "metadata": {},
   "source": [
    "Пенсионеры составляют лишь 17% от общего числа абонентов"
   ]
  },
  {
   "cell_type": "code",
   "execution_count": 43,
   "id": "3fbdaa69",
   "metadata": {},
   "outputs": [
    {
     "data": {
      "image/png": "[encoded data removed]",
      "text/plain": [
       "<Figure size 432x432 with 1 Axes>"
      ]
     },
     "metadata": {
      "needs_background": "light"
     },
     "output_type": "display_data"
    },
    {
     "name": "stdout",
     "output_type": "stream",
     "text": [
      "Распределение по категориям:\n",
      "No     3641\n",
      "Yes    3402\n",
      "Name: partner, dtype: int64\n"
     ]
    }
   ],
   "source": [
    "# Строим график и выводим описательную статистику\n",
    "graph_cat_feature(personal_df, 'partner', 'Наличие у абонента супруга или супруги')"
   ]
  },
  {
   "cell_type": "markdown",
   "id": "2e23a7c1",
   "metadata": {},
   "source": [
    "Абоненты, состоящие в браке, и не состоящие в браке распределены примерно поровну, однако немного больше людей без супругов"
   ]
  },
  {
   "cell_type": "code",
   "execution_count": 44,
   "id": "bc01a972",
   "metadata": {},
   "outputs": [
    {
     "data": {
      "image/png": "[encoded data removed]",
      "text/plain": [
       "<Figure size 432x432 with 1 Axes>"
      ]
     },
     "metadata": {
      "needs_background": "light"
     },
     "output_type": "display_data"
    },
    {
     "name": "stdout",
     "output_type": "stream",
     "text": [
      "Распределение по категориям:\n",
      "No     4933\n",
      "Yes    2110\n",
      "Name: dependents, dtype: int64\n"
     ]
    }
   ],
   "source": [
    "# Строим график и выводим описательную статистику\n",
    "graph_cat_feature(personal_df, 'dependents', 'Наличие у абонента детей')"
   ]
  },
  {
   "cell_type": "markdown",
   "id": "ddeb6498",
   "metadata": {},
   "source": [
    "Абонентов без детей почти в 2,5 раза больше, чем тех, у кого дети есть."
   ]
  },
  {
   "cell_type": "markdown",
   "id": "1de0797a",
   "metadata": {},
   "source": [
    "### internet_df"
   ]
  },
  {
   "cell_type": "code",
   "execution_count": 45,
   "id": "809323e1",
   "metadata": {
    "scrolled": true
   },
   "outputs": [
    {
     "data": {
      "text/html": [
       "<div>\n",
       "<style scoped>\n",
       "    .dataframe tbody tr th:only-of-type {\n",
       "        vertical-align: middle;\n",
       "    }\n",
       "\n",
       "    .dataframe tbody tr th {\n",
       "        vertical-align: top;\n",
       "    }\n",
       "\n",
       "    .dataframe thead th {\n",
       "        text-align: right;\n",
       "    }\n",
       "</style>\n",
       "<table border=\"1\" class=\"dataframe\">\n",
       "  <thead>\n",
       "    <tr style=\"text-align: right;\">\n",
       "      <th></th>\n",
       "      <th>customer_id</th>\n",
       "      <th>internet_service</th>\n",
       "      <th>online_security</th>\n",
       "      <th>online_backup</th>\n",
       "      <th>device_protection</th>\n",
       "      <th>tech_support</th>\n",
       "      <th>streaming_tv</th>\n",
       "      <th>streaming_movies</th>\n",
       "    </tr>\n",
       "  </thead>\n",
       "  <tbody>\n",
       "    <tr>\n",
       "      <th>0</th>\n",
       "      <td>7590-VHVEG</td>\n",
       "      <td>DSL</td>\n",
       "      <td>No</td>\n",
       "      <td>Yes</td>\n",
       "      <td>No</td>\n",
       "      <td>No</td>\n",
       "      <td>No</td>\n",
       "      <td>No</td>\n",
       "    </tr>\n",
       "    <tr>\n",
       "      <th>1</th>\n",
       "      <td>5575-GNVDE</td>\n",
       "      <td>DSL</td>\n",
       "      <td>Yes</td>\n",
       "      <td>No</td>\n",
       "      <td>Yes</td>\n",
       "      <td>No</td>\n",
       "      <td>No</td>\n",
       "      <td>No</td>\n",
       "    </tr>\n",
       "    <tr>\n",
       "      <th>2</th>\n",
       "      <td>3668-QPYBK</td>\n",
       "      <td>DSL</td>\n",
       "      <td>Yes</td>\n",
       "      <td>Yes</td>\n",
       "      <td>No</td>\n",
       "      <td>No</td>\n",
       "      <td>No</td>\n",
       "      <td>No</td>\n",
       "    </tr>\n",
       "  </tbody>\n",
       "</table>\n",
       "</div>"
      ],
      "text/plain": [
       "  customer_id internet_service online_security online_backup  \\\n",
       "0  7590-VHVEG              DSL              No           Yes   \n",
       "1  5575-GNVDE              DSL             Yes            No   \n",
       "2  3668-QPYBK              DSL             Yes           Yes   \n",
       "\n",
       "  device_protection tech_support streaming_tv streaming_movies  \n",
       "0                No           No           No               No  \n",
       "1               Yes           No           No               No  \n",
       "2                No           No           No               No  "
      ]
     },
     "execution_count": 45,
     "metadata": {},
     "output_type": "execute_result"
    }
   ],
   "source": [
    "# Переименуем столбцы\n",
    "internet_df = renaming_columns(internet_df)\n",
    "\n",
    "# Проверяем корректность преобразований\n",
    "internet_df.head(3)"
   ]
  },
  {
   "cell_type": "code",
   "execution_count": 46,
   "id": "38e51a05",
   "metadata": {},
   "outputs": [
    {
     "data": {
      "text/html": [
       "<div>\n",
       "<style scoped>\n",
       "    .dataframe tbody tr th:only-of-type {\n",
       "        vertical-align: middle;\n",
       "    }\n",
       "\n",
       "    .dataframe tbody tr th {\n",
       "        vertical-align: top;\n",
       "    }\n",
       "\n",
       "    .dataframe thead th {\n",
       "        text-align: right;\n",
       "    }\n",
       "</style>\n",
       "<table border=\"1\" class=\"dataframe\">\n",
       "  <thead>\n",
       "    <tr style=\"text-align: right;\">\n",
       "      <th></th>\n",
       "      <th>customer_id</th>\n",
       "      <th>internet_service</th>\n",
       "      <th>online_security</th>\n",
       "      <th>online_backup</th>\n",
       "      <th>device_protection</th>\n",
       "      <th>tech_support</th>\n",
       "      <th>streaming_tv</th>\n",
       "      <th>streaming_movies</th>\n",
       "    </tr>\n",
       "  </thead>\n",
       "  <tbody>\n",
       "    <tr>\n",
       "      <th>0</th>\n",
       "      <td>7590-VHVEG</td>\n",
       "      <td>dsl</td>\n",
       "      <td>No</td>\n",
       "      <td>Yes</td>\n",
       "      <td>No</td>\n",
       "      <td>No</td>\n",
       "      <td>No</td>\n",
       "      <td>No</td>\n",
       "    </tr>\n",
       "    <tr>\n",
       "      <th>1</th>\n",
       "      <td>5575-GNVDE</td>\n",
       "      <td>dsl</td>\n",
       "      <td>Yes</td>\n",
       "      <td>No</td>\n",
       "      <td>Yes</td>\n",
       "      <td>No</td>\n",
       "      <td>No</td>\n",
       "      <td>No</td>\n",
       "    </tr>\n",
       "    <tr>\n",
       "      <th>2</th>\n",
       "      <td>3668-QPYBK</td>\n",
       "      <td>dsl</td>\n",
       "      <td>Yes</td>\n",
       "      <td>Yes</td>\n",
       "      <td>No</td>\n",
       "      <td>No</td>\n",
       "      <td>No</td>\n",
       "      <td>No</td>\n",
       "    </tr>\n",
       "  </tbody>\n",
       "</table>\n",
       "</div>"
      ],
      "text/plain": [
       "  customer_id internet_service online_security online_backup  \\\n",
       "0  7590-VHVEG              dsl              No           Yes   \n",
       "1  5575-GNVDE              dsl             Yes            No   \n",
       "2  3668-QPYBK              dsl             Yes           Yes   \n",
       "\n",
       "  device_protection tech_support streaming_tv streaming_movies  \n",
       "0                No           No           No               No  \n",
       "1               Yes           No           No               No  \n",
       "2                No           No           No               No  "
      ]
     },
     "execution_count": 46,
     "metadata": {},
     "output_type": "execute_result"
    }
   ],
   "source": [
    "# Приведем значение в столбце 'internet_service' к стандартному виду\n",
    "internet_df['internet_service'] = internet_df['internet_service'].replace('Fiber optic', 'Fiber_optic')\n",
    "internet_df['internet_service'] = internet_df['internet_service'].str.lower()\n",
    "\n",
    "# Проверяем корректность преобразований\n",
    "internet_df.head(3)"
   ]
  },
  {
   "cell_type": "code",
   "execution_count": 47,
   "id": "742510a0",
   "metadata": {
    "scrolled": false
   },
   "outputs": [
    {
     "name": "stdout",
     "output_type": "stream",
     "text": [
      "Для датафрейма internet_df характерно:\n",
      "\n",
      "Число явных дубликатов: 0\n",
      "\n",
      "Пропущенные значения:\n",
      "customer_id          0\n",
      "internet_service     0\n",
      "online_security      0\n",
      "online_backup        0\n",
      "device_protection    0\n",
      "tech_support         0\n",
      "streaming_tv         0\n",
      "streaming_movies     0\n",
      "dtype: int64\n",
      "\n",
      "В столбце 'customer_id' 5517 уникальных значений\n",
      "\n",
      "В столбце 'internet_service' 2 уникальных значений\n",
      "\n",
      "В столбце 'online_security' 2 уникальных значений\n",
      "\n",
      "В столбце 'online_backup' 2 уникальных значений\n",
      "\n",
      "В столбце 'device_protection' 2 уникальных значений\n",
      "\n",
      "В столбце 'tech_support' 2 уникальных значений\n",
      "\n",
      "В столбце 'streaming_tv' 2 уникальных значений\n",
      "\n",
      "В столбце 'streaming_movies' 2 уникальных значений\n"
     ]
    }
   ],
   "source": [
    "# Рассмотрим информацию о значениях в столбцах internet_df\n",
    "df_analysis(internet_df, 'internet_df')"
   ]
  },
  {
   "cell_type": "code",
   "execution_count": 48,
   "id": "c615e3cd",
   "metadata": {},
   "outputs": [
    {
     "data": {
      "image/png": "[encoded data removed]",
      "text/plain": [
       "<Figure size 432x432 with 1 Axes>"
      ]
     },
     "metadata": {
      "needs_background": "light"
     },
     "output_type": "display_data"
    },
    {
     "name": "stdout",
     "output_type": "stream",
     "text": [
      "Распределение по категориям:\n",
      "fiber_optic    3096\n",
      "dsl            2421\n",
      "Name: internet_service, dtype: int64\n"
     ]
    }
   ],
   "source": [
    "# Строим график и выводим описательную статистику\n",
    "graph_cat_feature(internet_df, 'internet_service', 'Тип подключения')"
   ]
  },
  {
   "cell_type": "markdown",
   "id": "150be789",
   "metadata": {},
   "source": [
    "Большинство абонентов используют оптоволоконный кабель, что на 675 человек больше, чем тех, кто пользуется телефонной линией"
   ]
  },
  {
   "cell_type": "code",
   "execution_count": 49,
   "id": "4fcac2b5",
   "metadata": {},
   "outputs": [
    {
     "data": {
      "image/png": "[encoded data removed]",
      "text/plain": [
       "<Figure size 432x432 with 1 Axes>"
      ]
     },
     "metadata": {
      "needs_background": "light"
     },
     "output_type": "display_data"
    },
    {
     "name": "stdout",
     "output_type": "stream",
     "text": [
      "Распределение по категориям:\n",
      "No     3498\n",
      "Yes    2019\n",
      "Name: online_security, dtype: int64\n"
     ]
    }
   ],
   "source": [
    "# Строим график и выводим описательную статистику\n",
    "graph_cat_feature(internet_df, 'online_security', 'Блокировка опасных сайтов')"
   ]
  },
  {
   "cell_type": "markdown",
   "id": "b5b82cde",
   "metadata": {},
   "source": [
    "Многие абоненты не используют функцию блокировки опасных сайтов"
   ]
  },
  {
   "cell_type": "code",
   "execution_count": 50,
   "id": "64bbdf31",
   "metadata": {},
   "outputs": [
    {
     "data": {
      "image/png": "[encoded data removed]",
      "text/plain": [
       "<Figure size 432x432 with 1 Axes>"
      ]
     },
     "metadata": {
      "needs_background": "light"
     },
     "output_type": "display_data"
    },
    {
     "name": "stdout",
     "output_type": "stream",
     "text": [
      "Распределение по категориям:\n",
      "No     3088\n",
      "Yes    2429\n",
      "Name: online_backup, dtype: int64\n"
     ]
    }
   ],
   "source": [
    "# Строим график и выводим описательную статистику\n",
    "graph_cat_feature(internet_df, 'online_backup', 'Облачное хранилище файлов для резервного копирования данных')"
   ]
  },
  {
   "cell_type": "markdown",
   "id": "47f9181b",
   "metadata": {},
   "source": [
    "Более половины абонентов не пользуются облачным хранилищем для резервного копирования данных"
   ]
  },
  {
   "cell_type": "code",
   "execution_count": 51,
   "id": "22c58a5c",
   "metadata": {},
   "outputs": [
    {
     "data": {
      "image/png": "[encoded data removed]",
      "text/plain": [
       "<Figure size 432x432 with 1 Axes>"
      ]
     },
     "metadata": {
      "needs_background": "light"
     },
     "output_type": "display_data"
    },
    {
     "name": "stdout",
     "output_type": "stream",
     "text": [
      "Распределение по категориям:\n",
      "No     3095\n",
      "Yes    2422\n",
      "Name: device_protection, dtype: int64\n"
     ]
    }
   ],
   "source": [
    "# Строим график и выводим описательную статистику\n",
    "graph_cat_feature(internet_df, 'device_protection', 'Наличие антивируса')"
   ]
  },
  {
   "cell_type": "markdown",
   "id": "942d527c",
   "metadata": {},
   "source": [
    "Примерно в таких же пропорциях, как абоненты с облачным хранилищем, распределились клиенты, не использующие антивирус"
   ]
  },
  {
   "cell_type": "code",
   "execution_count": 52,
   "id": "c5211316",
   "metadata": {},
   "outputs": [
    {
     "data": {
      "image/png": "[encoded data removed]",
      "text/plain": [
       "<Figure size 432x432 with 1 Axes>"
      ]
     },
     "metadata": {
      "needs_background": "light"
     },
     "output_type": "display_data"
    },
    {
     "name": "stdout",
     "output_type": "stream",
     "text": [
      "Распределение по категориям:\n",
      "No     3473\n",
      "Yes    2044\n",
      "Name: tech_support, dtype: int64\n"
     ]
    }
   ],
   "source": [
    "# Строим график и выводим описательную статистику\n",
    "graph_cat_feature(internet_df, 'tech_support', 'Выделенная линия технической поддержки')"
   ]
  },
  {
   "cell_type": "markdown",
   "id": "72ee9124",
   "metadata": {},
   "source": [
    "Абонентов, не использующих выделенную линию технической поддержки, почти в 1.7 раза больше"
   ]
  },
  {
   "cell_type": "code",
   "execution_count": 53,
   "id": "571625be",
   "metadata": {},
   "outputs": [
    {
     "data": {
      "image/png": "[encoded data removed]",
      "text/plain": [
       "<Figure size 432x432 with 1 Axes>"
      ]
     },
     "metadata": {
      "needs_background": "light"
     },
     "output_type": "display_data"
    },
    {
     "name": "stdout",
     "output_type": "stream",
     "text": [
      "Распределение по категориям:\n",
      "No     2810\n",
      "Yes    2707\n",
      "Name: streaming_tv, dtype: int64\n"
     ]
    }
   ],
   "source": [
    "# Строим график и выводим описательную статистику\n",
    "graph_cat_feature(internet_df, 'streaming_tv', 'Стриминговое телевидение')"
   ]
  },
  {
   "cell_type": "code",
   "execution_count": 54,
   "id": "a83aa19a",
   "metadata": {},
   "outputs": [
    {
     "data": {
      "image/png": "[encoded data removed]",
      "text/plain": [
       "<Figure size 432x432 with 1 Axes>"
      ]
     },
     "metadata": {
      "needs_background": "light"
     },
     "output_type": "display_data"
    },
    {
     "name": "stdout",
     "output_type": "stream",
     "text": [
      "Распределение по категориям:\n",
      "No     2785\n",
      "Yes    2732\n",
      "Name: streaming_movies, dtype: int64\n"
     ]
    }
   ],
   "source": [
    "# Строим график и выводим описательную статистику\n",
    "graph_cat_feature(internet_df, 'streaming_movies', 'Каталог фильмов')"
   ]
  },
  {
   "cell_type": "markdown",
   "id": "de9ee29e",
   "metadata": {},
   "source": [
    "Абоненты, имеющие и не имеющие услуги стримингового телевидения и каталога фильмов, распределились практически поровну."
   ]
  },
  {
   "cell_type": "markdown",
   "id": "73d69355",
   "metadata": {},
   "source": [
    "### phone_df"
   ]
  },
  {
   "cell_type": "code",
   "execution_count": 55,
   "id": "d72b0449",
   "metadata": {},
   "outputs": [
    {
     "data": {
      "text/html": [
       "<div>\n",
       "<style scoped>\n",
       "    .dataframe tbody tr th:only-of-type {\n",
       "        vertical-align: middle;\n",
       "    }\n",
       "\n",
       "    .dataframe tbody tr th {\n",
       "        vertical-align: top;\n",
       "    }\n",
       "\n",
       "    .dataframe thead th {\n",
       "        text-align: right;\n",
       "    }\n",
       "</style>\n",
       "<table border=\"1\" class=\"dataframe\">\n",
       "  <thead>\n",
       "    <tr style=\"text-align: right;\">\n",
       "      <th></th>\n",
       "      <th>customer_id</th>\n",
       "      <th>multiple_lines</th>\n",
       "    </tr>\n",
       "  </thead>\n",
       "  <tbody>\n",
       "    <tr>\n",
       "      <th>0</th>\n",
       "      <td>5575-GNVDE</td>\n",
       "      <td>No</td>\n",
       "    </tr>\n",
       "    <tr>\n",
       "      <th>1</th>\n",
       "      <td>3668-QPYBK</td>\n",
       "      <td>No</td>\n",
       "    </tr>\n",
       "    <tr>\n",
       "      <th>2</th>\n",
       "      <td>9237-HQITU</td>\n",
       "      <td>No</td>\n",
       "    </tr>\n",
       "  </tbody>\n",
       "</table>\n",
       "</div>"
      ],
      "text/plain": [
       "  customer_id multiple_lines\n",
       "0  5575-GNVDE             No\n",
       "1  3668-QPYBK             No\n",
       "2  9237-HQITU             No"
      ]
     },
     "execution_count": 55,
     "metadata": {},
     "output_type": "execute_result"
    }
   ],
   "source": [
    "# Переименуем столбцы\n",
    "phone_df = renaming_columns(phone_df)\n",
    "\n",
    "# Проверяем корректность преобразований\n",
    "phone_df.head(3)"
   ]
  },
  {
   "cell_type": "code",
   "execution_count": 56,
   "id": "a94d6652",
   "metadata": {
    "scrolled": true
   },
   "outputs": [
    {
     "name": "stdout",
     "output_type": "stream",
     "text": [
      "Для датафрейма phone_df характерно:\n",
      "\n",
      "Число явных дубликатов: 0\n",
      "\n",
      "Пропущенные значения:\n",
      "customer_id       0\n",
      "multiple_lines    0\n",
      "dtype: int64\n",
      "\n",
      "В столбце 'customer_id' 6361 уникальных значений\n",
      "\n",
      "В столбце 'multiple_lines' 2 уникальных значений\n"
     ]
    }
   ],
   "source": [
    "# Рассмотрим информацию о значениях в столбцах phone_df\n",
    "df_analysis(phone_df, 'phone_df')"
   ]
  },
  {
   "cell_type": "code",
   "execution_count": 57,
   "id": "7a34df30",
   "metadata": {},
   "outputs": [
    {
     "data": {
      "image/png": "[encoded data removed]",
      "text/plain": [
       "<Figure size 432x432 with 1 Axes>"
      ]
     },
     "metadata": {
      "needs_background": "light"
     },
     "output_type": "display_data"
    },
    {
     "name": "stdout",
     "output_type": "stream",
     "text": [
      "Распределение по категориям:\n",
      "No     3390\n",
      "Yes    2971\n",
      "Name: multiple_lines, dtype: int64\n"
     ]
    }
   ],
   "source": [
    "# Строим график и выводим описательную статистику\n",
    "graph_cat_feature(phone_df, 'multiple_lines', 'Подключение телефона к нескольким линиям одновременно')"
   ]
  },
  {
   "cell_type": "markdown",
   "id": "dd1d2955",
   "metadata": {},
   "source": [
    "Абонентов с услугой *Подключение телефона к нескольким линиям одновременно* на 419 человек меньше, чем тех, у кого эта услуга не подключена, однако классы распределены примерно в равных пропорциях."
   ]
  },
  {
   "cell_type": "markdown",
   "id": "41268c41",
   "metadata": {},
   "source": [
    "### Вывод по разделу"
   ]
  },
  {
   "cell_type": "markdown",
   "id": "328616b9",
   "metadata": {},
   "source": [
    "- Названия столбцов и категориальные значения, отличные от «Yes/No», приведены к единому стилю (snake_case).\n",
    "- Изменены типы данных признаков *begin_date*, *end_date*, *total_charges* и *senior_citizen*.\n",
    "- Добавлены столбцы:\n",
    "    - *subscriber_left* — отражающий факт ухода клиента;\n",
    "    - *num_of_months* — отражающий количество месяцев подписки абонента.\n",
    "- Проведен анализ уникальных значений и их распределений в датафреймах.\n",
    "- Дисбаланс в целевом признаке *subscriber_left* необходимо учитывать при выборе и обучении моделей машинного обучения.\n",
    "- На данном этапе не удалось точно определить, какие признаки будут полезны для обучения моделей, а какие — нет. Этот вопрос будет решён после объединения рассмотренных датафреймов и проведения корреляционного анализа признаков."
   ]
  },
  {
   "cell_type": "markdown",
   "id": "aba780c8",
   "metadata": {},
   "source": [
    "## Объединение данных"
   ]
  },
  {
   "cell_type": "code",
   "execution_count": null,
   "id": "38b40038",
   "metadata": {},
   "outputs": [],
   "source": []
  },
  {
   "cell_type": "markdown",
   "id": "4258fed7",
   "metadata": {},
   "source": [
    "## Подготовка данных"
   ]
  },
  {
   "cell_type": "code",
   "execution_count": null,
   "id": "1c28e75d",
   "metadata": {},
   "outputs": [],
   "source": []
  },
  {
   "cell_type": "markdown",
   "id": "4dbd198c",
   "metadata": {},
   "source": [
    "## Обучение ML-моделей"
   ]
  },
  {
   "cell_type": "code",
   "execution_count": null,
   "id": "8aa822ad",
   "metadata": {},
   "outputs": [],
   "source": []
  },
  {
   "cell_type": "markdown",
   "id": "2bfffe2f",
   "metadata": {},
   "source": [
    "## Выбор лучшей модели"
   ]
  },
  {
   "cell_type": "code",
   "execution_count": null,
   "id": "b77305d9",
   "metadata": {},
   "outputs": [],
   "source": []
  },
  {
   "cell_type": "markdown",
   "id": "80d38615",
   "metadata": {},
   "source": [
    "## Общий вывод"
   ]
  },
  {
   "cell_type": "code",
   "execution_count": null,
   "id": "62cfbeb1",
   "metadata": {},
   "outputs": [],
   "source": []
  }
 ],
 "metadata": {
  "ExecuteTimeLog": [
   {
    "duration": 149,
    "start_time": "2025-06-30T07:18:40.344Z"
   },
   {
    "duration": 42,
    "start_time": "2025-06-30T07:24:49.996Z"
   },
   {
    "duration": 490,
    "start_time": "2025-06-30T07:25:03.264Z"
   },
   {
    "duration": 3,
    "start_time": "2025-06-30T07:25:05.022Z"
   },
   {
    "duration": 383,
    "start_time": "2025-06-30T11:15:34.796Z"
   },
   {
    "duration": 2,
    "start_time": "2025-06-30T11:15:35.181Z"
   },
   {
    "duration": 23,
    "start_time": "2025-06-30T11:15:35.185Z"
   },
   {
    "duration": 4,
    "start_time": "2025-06-30T11:15:35.209Z"
   },
   {
    "duration": 364,
    "start_time": "2025-06-30T15:00:07.502Z"
   },
   {
    "duration": 2,
    "start_time": "2025-06-30T15:00:07.868Z"
   },
   {
    "duration": 38,
    "start_time": "2025-06-30T15:00:07.871Z"
   },
   {
    "duration": 12,
    "start_time": "2025-06-30T15:00:07.913Z"
   },
   {
    "duration": 357,
    "start_time": "2025-06-30T16:28:23.105Z"
   },
   {
    "duration": 2,
    "start_time": "2025-06-30T16:28:23.464Z"
   },
   {
    "duration": 4,
    "start_time": "2025-06-30T16:28:23.468Z"
   },
   {
    "duration": 3,
    "start_time": "2025-06-30T16:28:23.473Z"
   },
   {
    "duration": 8,
    "start_time": "2025-07-01T04:58:57.901Z"
   },
   {
    "duration": 43,
    "start_time": "2025-07-01T05:00:16.292Z"
   },
   {
    "duration": 423,
    "start_time": "2025-07-01T05:00:18.424Z"
   },
   {
    "duration": 3,
    "start_time": "2025-07-01T05:00:20.031Z"
   },
   {
    "duration": 3,
    "start_time": "2025-07-01T05:00:55.896Z"
   },
   {
    "duration": 100,
    "start_time": "2025-07-01T05:01:21.300Z"
   },
   {
    "duration": 3,
    "start_time": "2025-07-01T05:02:19.510Z"
   },
   {
    "duration": 69,
    "start_time": "2025-07-01T05:02:20.148Z"
   },
   {
    "duration": 433,
    "start_time": "2025-07-01T05:05:32.113Z"
   },
   {
    "duration": 2,
    "start_time": "2025-07-01T05:05:32.548Z"
   },
   {
    "duration": 19,
    "start_time": "2025-07-01T05:05:32.552Z"
   },
   {
    "duration": 23,
    "start_time": "2025-07-01T05:05:32.573Z"
   },
   {
    "duration": 107,
    "start_time": "2025-07-01T05:05:32.598Z"
   },
   {
    "duration": 143,
    "start_time": "2025-07-01T05:05:32.707Z"
   },
   {
    "duration": 86,
    "start_time": "2025-07-01T05:05:32.852Z"
   },
   {
    "duration": 97,
    "start_time": "2025-07-01T05:05:32.940Z"
   },
   {
    "duration": 408,
    "start_time": "2025-07-01T05:19:50.566Z"
   },
   {
    "duration": 3,
    "start_time": "2025-07-01T05:19:50.977Z"
   },
   {
    "duration": 45,
    "start_time": "2025-07-01T05:19:50.982Z"
   },
   {
    "duration": 11,
    "start_time": "2025-07-01T05:19:51.029Z"
   },
   {
    "duration": 141,
    "start_time": "2025-07-01T05:19:51.042Z"
   },
   {
    "duration": 50,
    "start_time": "2025-07-01T05:19:51.185Z"
   },
   {
    "duration": 44,
    "start_time": "2025-07-01T05:19:51.237Z"
   },
   {
    "duration": 54,
    "start_time": "2025-07-01T05:19:51.283Z"
   },
   {
    "duration": 13,
    "start_time": "2025-07-01T05:20:46.243Z"
   },
   {
    "duration": 12,
    "start_time": "2025-07-01T05:20:57.580Z"
   },
   {
    "duration": 13,
    "start_time": "2025-07-01T05:21:06.083Z"
   },
   {
    "duration": 14,
    "start_time": "2025-07-01T05:21:21.540Z"
   },
   {
    "duration": 4,
    "start_time": "2025-07-01T06:58:00.271Z"
   },
   {
    "duration": 6,
    "start_time": "2025-07-01T07:03:39.771Z"
   },
   {
    "duration": 12,
    "start_time": "2025-07-01T07:04:05.156Z"
   },
   {
    "duration": 13,
    "start_time": "2025-07-01T07:04:36.193Z"
   },
   {
    "duration": 15,
    "start_time": "2025-07-01T07:04:42.722Z"
   },
   {
    "duration": 5,
    "start_time": "2025-07-01T07:05:41.227Z"
   },
   {
    "duration": 11,
    "start_time": "2025-07-01T07:07:27.042Z"
   },
   {
    "duration": 14,
    "start_time": "2025-07-01T07:09:23.129Z"
   },
   {
    "duration": 11,
    "start_time": "2025-07-01T07:09:26.887Z"
   },
   {
    "duration": 9,
    "start_time": "2025-07-01T07:09:34.037Z"
   },
   {
    "duration": 5,
    "start_time": "2025-07-01T07:21:13.645Z"
   },
   {
    "duration": 33,
    "start_time": "2025-07-01T07:21:21.679Z"
   },
   {
    "duration": 57,
    "start_time": "2025-07-01T07:21:37.579Z"
   },
   {
    "duration": 5,
    "start_time": "2025-07-01T07:21:50.802Z"
   },
   {
    "duration": 39,
    "start_time": "2025-07-01T07:21:52.153Z"
   },
   {
    "duration": 4,
    "start_time": "2025-07-01T07:22:06.395Z"
   },
   {
    "duration": 35,
    "start_time": "2025-07-01T07:22:06.624Z"
   },
   {
    "duration": 4,
    "start_time": "2025-07-01T07:22:27.840Z"
   },
   {
    "duration": 36,
    "start_time": "2025-07-01T07:22:28.226Z"
   },
   {
    "duration": 4,
    "start_time": "2025-07-01T07:22:45.589Z"
   },
   {
    "duration": 42,
    "start_time": "2025-07-01T07:22:46.131Z"
   },
   {
    "duration": 4,
    "start_time": "2025-07-01T07:23:29.445Z"
   },
   {
    "duration": 34,
    "start_time": "2025-07-01T07:23:30.088Z"
   },
   {
    "duration": 4,
    "start_time": "2025-07-01T07:25:19.221Z"
   },
   {
    "duration": 38,
    "start_time": "2025-07-01T07:25:19.580Z"
   },
   {
    "duration": 4,
    "start_time": "2025-07-01T07:25:23.311Z"
   },
   {
    "duration": 35,
    "start_time": "2025-07-01T07:25:25.359Z"
   },
   {
    "duration": 378,
    "start_time": "2025-07-01T07:29:21.494Z"
   },
   {
    "duration": 2,
    "start_time": "2025-07-01T07:29:21.875Z"
   },
   {
    "duration": 5,
    "start_time": "2025-07-01T07:29:21.878Z"
   },
   {
    "duration": 6,
    "start_time": "2025-07-01T07:29:21.884Z"
   },
   {
    "duration": 6,
    "start_time": "2025-07-01T07:29:21.893Z"
   },
   {
    "duration": 7,
    "start_time": "2025-07-01T07:29:21.900Z"
   },
   {
    "duration": 146,
    "start_time": "2025-07-01T07:29:21.908Z"
   },
   {
    "duration": 17,
    "start_time": "2025-07-01T07:29:22.057Z"
   },
   {
    "duration": 81,
    "start_time": "2025-07-01T07:29:22.077Z"
   },
   {
    "duration": 13,
    "start_time": "2025-07-01T07:29:22.159Z"
   },
   {
    "duration": 205,
    "start_time": "2025-07-01T07:29:22.174Z"
   },
   {
    "duration": 13,
    "start_time": "2025-07-01T07:29:22.380Z"
   },
   {
    "duration": 77,
    "start_time": "2025-07-01T07:29:22.395Z"
   },
   {
    "duration": 10,
    "start_time": "2025-07-01T07:29:22.475Z"
   },
   {
    "duration": 15,
    "start_time": "2025-07-01T07:29:22.486Z"
   },
   {
    "duration": 50,
    "start_time": "2025-07-01T07:29:22.502Z"
   },
   {
    "duration": 5,
    "start_time": "2025-07-01T07:31:42.660Z"
   },
   {
    "duration": 35,
    "start_time": "2025-07-01T07:31:45.996Z"
   },
   {
    "duration": 5,
    "start_time": "2025-07-01T07:31:57.297Z"
   },
   {
    "duration": 35,
    "start_time": "2025-07-01T07:32:01.519Z"
   },
   {
    "duration": 5,
    "start_time": "2025-07-01T07:32:08.313Z"
   },
   {
    "duration": 36,
    "start_time": "2025-07-01T07:32:12.471Z"
   },
   {
    "duration": 5,
    "start_time": "2025-07-01T07:35:57.701Z"
   },
   {
    "duration": 92,
    "start_time": "2025-07-01T07:36:01.907Z"
   },
   {
    "duration": 4,
    "start_time": "2025-07-01T07:36:26.950Z"
   },
   {
    "duration": 38,
    "start_time": "2025-07-01T07:36:30.132Z"
   },
   {
    "duration": 5,
    "start_time": "2025-07-01T08:08:22.574Z"
   },
   {
    "duration": 6,
    "start_time": "2025-07-01T08:08:36.042Z"
   },
   {
    "duration": 7,
    "start_time": "2025-07-01T08:08:45.936Z"
   },
   {
    "duration": 14,
    "start_time": "2025-07-01T08:09:03.962Z"
   },
   {
    "duration": 1922,
    "start_time": "2025-07-01T08:12:04.953Z"
   },
   {
    "duration": 1779,
    "start_time": "2025-07-01T08:12:20.732Z"
   },
   {
    "duration": 1946,
    "start_time": "2025-07-01T08:16:06.811Z"
   },
   {
    "duration": 5,
    "start_time": "2025-07-01T08:17:25.979Z"
   },
   {
    "duration": 4,
    "start_time": "2025-07-01T08:17:42.392Z"
   },
   {
    "duration": 23,
    "start_time": "2025-07-01T08:17:45.376Z"
   },
   {
    "duration": 10,
    "start_time": "2025-07-01T08:18:28.480Z"
   },
   {
    "duration": 9,
    "start_time": "2025-07-01T08:18:48.311Z"
   },
   {
    "duration": 14,
    "start_time": "2025-07-01T08:18:51.826Z"
   },
   {
    "duration": 9,
    "start_time": "2025-07-01T08:24:01.829Z"
   },
   {
    "duration": 19,
    "start_time": "2025-07-01T08:24:09.816Z"
   },
   {
    "duration": 19,
    "start_time": "2025-07-01T08:24:55.977Z"
   },
   {
    "duration": 14,
    "start_time": "2025-07-01T08:29:25.951Z"
   },
   {
    "duration": 4,
    "start_time": "2025-07-01T08:30:15.754Z"
   },
   {
    "duration": 33,
    "start_time": "2025-07-01T08:39:11.295Z"
   },
   {
    "duration": 429,
    "start_time": "2025-07-01T08:39:42.428Z"
   },
   {
    "duration": 3,
    "start_time": "2025-07-01T08:39:42.859Z"
   },
   {
    "duration": 31,
    "start_time": "2025-07-01T08:39:42.863Z"
   },
   {
    "duration": 13,
    "start_time": "2025-07-01T08:39:42.895Z"
   },
   {
    "duration": 12,
    "start_time": "2025-07-01T08:39:42.910Z"
   },
   {
    "duration": 13,
    "start_time": "2025-07-01T08:39:42.923Z"
   },
   {
    "duration": 176,
    "start_time": "2025-07-01T08:39:42.937Z"
   },
   {
    "duration": 13,
    "start_time": "2025-07-01T08:39:43.115Z"
   },
   {
    "duration": 90,
    "start_time": "2025-07-01T08:39:43.129Z"
   },
   {
    "duration": 12,
    "start_time": "2025-07-01T08:39:43.221Z"
   },
   {
    "duration": 106,
    "start_time": "2025-07-01T08:39:43.235Z"
   },
   {
    "duration": 13,
    "start_time": "2025-07-01T08:39:43.343Z"
   },
   {
    "duration": 87,
    "start_time": "2025-07-01T08:39:43.357Z"
   },
   {
    "duration": 16,
    "start_time": "2025-07-01T08:39:43.447Z"
   },
   {
    "duration": 20,
    "start_time": "2025-07-01T08:39:43.465Z"
   },
   {
    "duration": 23,
    "start_time": "2025-07-01T08:39:43.487Z"
   },
   {
    "duration": 35,
    "start_time": "2025-07-01T08:39:43.511Z"
   },
   {
    "duration": 4,
    "start_time": "2025-07-01T08:39:43.548Z"
   },
   {
    "duration": 5,
    "start_time": "2025-07-01T08:39:43.554Z"
   },
   {
    "duration": 23,
    "start_time": "2025-07-01T08:39:43.561Z"
   },
   {
    "duration": 62,
    "start_time": "2025-07-01T08:39:43.586Z"
   },
   {
    "duration": 5,
    "start_time": "2025-07-01T08:39:43.650Z"
   },
   {
    "duration": 407,
    "start_time": "2025-07-01T08:48:48.672Z"
   },
   {
    "duration": 3,
    "start_time": "2025-07-01T08:48:49.081Z"
   },
   {
    "duration": 6,
    "start_time": "2025-07-01T08:48:49.085Z"
   },
   {
    "duration": 4,
    "start_time": "2025-07-01T08:48:49.093Z"
   },
   {
    "duration": 5,
    "start_time": "2025-07-01T08:48:49.100Z"
   },
   {
    "duration": 6,
    "start_time": "2025-07-01T08:48:49.106Z"
   },
   {
    "duration": 95,
    "start_time": "2025-07-01T08:48:49.114Z"
   },
   {
    "duration": 15,
    "start_time": "2025-07-01T08:48:49.211Z"
   },
   {
    "duration": 57,
    "start_time": "2025-07-01T08:48:49.228Z"
   },
   {
    "duration": 15,
    "start_time": "2025-07-01T08:48:49.287Z"
   },
   {
    "duration": 66,
    "start_time": "2025-07-01T08:48:49.304Z"
   },
   {
    "duration": 13,
    "start_time": "2025-07-01T08:48:49.372Z"
   },
   {
    "duration": 49,
    "start_time": "2025-07-01T08:48:49.387Z"
   },
   {
    "duration": 11,
    "start_time": "2025-07-01T08:48:49.439Z"
   },
   {
    "duration": 42,
    "start_time": "2025-07-01T08:48:49.452Z"
   },
   {
    "duration": 29,
    "start_time": "2025-07-01T08:48:49.496Z"
   },
   {
    "duration": 36,
    "start_time": "2025-07-01T08:48:49.527Z"
   },
   {
    "duration": 28,
    "start_time": "2025-07-01T08:48:49.565Z"
   },
   {
    "duration": 33,
    "start_time": "2025-07-01T08:48:49.595Z"
   },
   {
    "duration": 19,
    "start_time": "2025-07-01T08:48:49.629Z"
   },
   {
    "duration": 46,
    "start_time": "2025-07-01T08:48:49.650Z"
   },
   {
    "duration": 42,
    "start_time": "2025-07-01T08:48:49.698Z"
   },
   {
    "duration": 5,
    "start_time": "2025-07-01T08:48:49.742Z"
   },
   {
    "duration": 32,
    "start_time": "2025-07-01T08:49:26.499Z"
   },
   {
    "duration": 7,
    "start_time": "2025-07-01T08:50:35.390Z"
   },
   {
    "duration": 391,
    "start_time": "2025-07-01T08:54:18.772Z"
   },
   {
    "duration": 2,
    "start_time": "2025-07-01T08:54:19.165Z"
   },
   {
    "duration": 5,
    "start_time": "2025-07-01T08:54:19.169Z"
   },
   {
    "duration": 5,
    "start_time": "2025-07-01T08:54:19.176Z"
   },
   {
    "duration": 6,
    "start_time": "2025-07-01T08:54:19.183Z"
   },
   {
    "duration": 10,
    "start_time": "2025-07-01T08:54:19.191Z"
   },
   {
    "duration": 92,
    "start_time": "2025-07-01T08:54:19.203Z"
   },
   {
    "duration": 14,
    "start_time": "2025-07-01T08:54:19.296Z"
   },
   {
    "duration": 47,
    "start_time": "2025-07-01T08:54:19.311Z"
   },
   {
    "duration": 13,
    "start_time": "2025-07-01T08:54:19.359Z"
   },
   {
    "duration": 67,
    "start_time": "2025-07-01T08:54:19.374Z"
   },
   {
    "duration": 13,
    "start_time": "2025-07-01T08:54:19.443Z"
   },
   {
    "duration": 60,
    "start_time": "2025-07-01T08:54:19.457Z"
   },
   {
    "duration": 10,
    "start_time": "2025-07-01T08:54:19.520Z"
   },
   {
    "duration": 13,
    "start_time": "2025-07-01T08:54:19.532Z"
   },
   {
    "duration": 16,
    "start_time": "2025-07-01T08:54:19.546Z"
   },
   {
    "duration": 14,
    "start_time": "2025-07-01T08:54:19.564Z"
   },
   {
    "duration": 9,
    "start_time": "2025-07-01T08:54:19.580Z"
   },
   {
    "duration": 14,
    "start_time": "2025-07-01T08:54:19.591Z"
   },
   {
    "duration": 37,
    "start_time": "2025-07-01T08:54:19.607Z"
   },
   {
    "duration": 21,
    "start_time": "2025-07-01T08:54:19.646Z"
   },
   {
    "duration": 35,
    "start_time": "2025-07-01T08:54:19.669Z"
   },
   {
    "duration": 34,
    "start_time": "2025-07-01T08:54:19.705Z"
   },
   {
    "duration": 431,
    "start_time": "2025-07-01T08:55:47.718Z"
   },
   {
    "duration": 3,
    "start_time": "2025-07-01T08:55:48.151Z"
   },
   {
    "duration": 44,
    "start_time": "2025-07-01T08:55:48.155Z"
   },
   {
    "duration": 4,
    "start_time": "2025-07-01T08:55:48.200Z"
   },
   {
    "duration": 6,
    "start_time": "2025-07-01T08:55:48.206Z"
   },
   {
    "duration": 11,
    "start_time": "2025-07-01T08:55:48.213Z"
   },
   {
    "duration": 69,
    "start_time": "2025-07-01T08:55:48.225Z"
   },
   {
    "duration": 14,
    "start_time": "2025-07-01T08:55:48.296Z"
   },
   {
    "duration": 37,
    "start_time": "2025-07-01T08:55:48.312Z"
   },
   {
    "duration": 12,
    "start_time": "2025-07-01T08:55:48.350Z"
   },
   {
    "duration": 58,
    "start_time": "2025-07-01T08:55:48.364Z"
   },
   {
    "duration": 11,
    "start_time": "2025-07-01T08:55:48.424Z"
   },
   {
    "duration": 40,
    "start_time": "2025-07-01T08:55:48.436Z"
   },
   {
    "duration": 9,
    "start_time": "2025-07-01T08:55:48.478Z"
   },
   {
    "duration": 13,
    "start_time": "2025-07-01T08:55:48.489Z"
   },
   {
    "duration": 22,
    "start_time": "2025-07-01T08:55:48.504Z"
   },
   {
    "duration": 18,
    "start_time": "2025-07-01T08:55:48.528Z"
   },
   {
    "duration": 19,
    "start_time": "2025-07-01T08:55:48.547Z"
   },
   {
    "duration": 12,
    "start_time": "2025-07-01T08:55:48.568Z"
   },
   {
    "duration": 7,
    "start_time": "2025-07-01T08:55:48.582Z"
   },
   {
    "duration": 24,
    "start_time": "2025-07-01T08:55:48.591Z"
   },
   {
    "duration": 56,
    "start_time": "2025-07-01T08:55:48.617Z"
   },
   {
    "duration": 5,
    "start_time": "2025-07-01T08:55:48.674Z"
   },
   {
    "duration": 6,
    "start_time": "2025-07-01T09:01:06.731Z"
   },
   {
    "duration": 15,
    "start_time": "2025-07-01T09:01:35.012Z"
   },
   {
    "duration": 3,
    "start_time": "2025-07-01T09:09:01.803Z"
   },
   {
    "duration": 4,
    "start_time": "2025-07-01T09:09:50.016Z"
   },
   {
    "duration": 454,
    "start_time": "2025-07-01T09:11:40.642Z"
   },
   {
    "duration": 3,
    "start_time": "2025-07-01T09:11:41.098Z"
   },
   {
    "duration": 11,
    "start_time": "2025-07-01T09:11:41.102Z"
   },
   {
    "duration": 15,
    "start_time": "2025-07-01T09:11:41.115Z"
   },
   {
    "duration": 40,
    "start_time": "2025-07-01T09:11:41.133Z"
   },
   {
    "duration": 106,
    "start_time": "2025-07-01T09:11:41.175Z"
   },
   {
    "duration": 7,
    "start_time": "2025-07-01T09:11:41.283Z"
   },
   {
    "duration": 102,
    "start_time": "2025-07-01T09:11:41.292Z"
   },
   {
    "duration": 15,
    "start_time": "2025-07-01T09:11:41.396Z"
   },
   {
    "duration": 56,
    "start_time": "2025-07-01T09:11:41.413Z"
   },
   {
    "duration": 14,
    "start_time": "2025-07-01T09:11:41.471Z"
   },
   {
    "duration": 51,
    "start_time": "2025-07-01T09:11:41.486Z"
   },
   {
    "duration": 12,
    "start_time": "2025-07-01T09:11:41.539Z"
   },
   {
    "duration": 52,
    "start_time": "2025-07-01T09:11:41.553Z"
   },
   {
    "duration": 11,
    "start_time": "2025-07-01T09:11:41.607Z"
   },
   {
    "duration": 39,
    "start_time": "2025-07-01T09:11:41.619Z"
   },
   {
    "duration": 26,
    "start_time": "2025-07-01T09:11:41.660Z"
   },
   {
    "duration": 16,
    "start_time": "2025-07-01T09:11:41.688Z"
   },
   {
    "duration": 15,
    "start_time": "2025-07-01T09:11:41.706Z"
   },
   {
    "duration": 16,
    "start_time": "2025-07-01T09:11:41.723Z"
   },
   {
    "duration": 8,
    "start_time": "2025-07-01T09:11:41.740Z"
   },
   {
    "duration": 21,
    "start_time": "2025-07-01T09:11:41.749Z"
   },
   {
    "duration": 167,
    "start_time": "2025-07-01T09:11:41.772Z"
   },
   {
    "duration": 3,
    "start_time": "2025-07-01T09:11:41.941Z"
   },
   {
    "duration": 133,
    "start_time": "2025-07-01T09:11:41.945Z"
   },
   {
    "duration": 6,
    "start_time": "2025-07-01T09:11:42.080Z"
   },
   {
    "duration": 11,
    "start_time": "2025-07-01T09:12:20.644Z"
   },
   {
    "duration": 424,
    "start_time": "2025-07-01T09:13:18.953Z"
   },
   {
    "duration": 3,
    "start_time": "2025-07-01T09:13:19.379Z"
   },
   {
    "duration": 22,
    "start_time": "2025-07-01T09:13:19.383Z"
   },
   {
    "duration": 4,
    "start_time": "2025-07-01T09:13:19.407Z"
   },
   {
    "duration": 16,
    "start_time": "2025-07-01T09:13:19.414Z"
   },
   {
    "duration": 8,
    "start_time": "2025-07-01T09:13:19.431Z"
   },
   {
    "duration": 10,
    "start_time": "2025-07-01T09:13:19.441Z"
   },
   {
    "duration": 81,
    "start_time": "2025-07-01T09:13:19.453Z"
   },
   {
    "duration": 14,
    "start_time": "2025-07-01T09:13:19.536Z"
   },
   {
    "duration": 51,
    "start_time": "2025-07-01T09:13:19.551Z"
   },
   {
    "duration": 12,
    "start_time": "2025-07-01T09:13:19.604Z"
   },
   {
    "duration": 42,
    "start_time": "2025-07-01T09:13:19.618Z"
   },
   {
    "duration": 11,
    "start_time": "2025-07-01T09:13:19.662Z"
   },
   {
    "duration": 51,
    "start_time": "2025-07-01T09:13:19.676Z"
   },
   {
    "duration": 11,
    "start_time": "2025-07-01T09:13:19.728Z"
   },
   {
    "duration": 18,
    "start_time": "2025-07-01T09:13:19.741Z"
   },
   {
    "duration": 45,
    "start_time": "2025-07-01T09:13:19.760Z"
   },
   {
    "duration": 30,
    "start_time": "2025-07-01T09:13:19.807Z"
   },
   {
    "duration": 40,
    "start_time": "2025-07-01T09:13:19.839Z"
   },
   {
    "duration": 25,
    "start_time": "2025-07-01T09:13:19.881Z"
   },
   {
    "duration": 12,
    "start_time": "2025-07-01T09:13:19.908Z"
   },
   {
    "duration": 54,
    "start_time": "2025-07-01T09:13:19.922Z"
   },
   {
    "duration": 159,
    "start_time": "2025-07-01T09:13:19.977Z"
   },
   {
    "duration": 34,
    "start_time": "2025-07-01T09:13:20.137Z"
   },
   {
    "duration": 67,
    "start_time": "2025-07-01T09:13:20.173Z"
   },
   {
    "duration": 23,
    "start_time": "2025-07-01T10:15:05.919Z"
   },
   {
    "duration": 430,
    "start_time": "2025-07-01T10:17:30.140Z"
   },
   {
    "duration": 2,
    "start_time": "2025-07-01T10:17:30.572Z"
   },
   {
    "duration": 36,
    "start_time": "2025-07-01T10:17:30.576Z"
   },
   {
    "duration": 48,
    "start_time": "2025-07-01T10:17:30.614Z"
   },
   {
    "duration": 21,
    "start_time": "2025-07-01T10:17:30.664Z"
   },
   {
    "duration": 31,
    "start_time": "2025-07-01T10:17:30.686Z"
   },
   {
    "duration": 19,
    "start_time": "2025-07-01T10:17:30.718Z"
   },
   {
    "duration": 138,
    "start_time": "2025-07-01T10:17:30.739Z"
   },
   {
    "duration": 14,
    "start_time": "2025-07-01T10:17:30.879Z"
   },
   {
    "duration": 128,
    "start_time": "2025-07-01T10:17:30.895Z"
   },
   {
    "duration": 12,
    "start_time": "2025-07-01T10:17:31.025Z"
   },
   {
    "duration": 86,
    "start_time": "2025-07-01T10:17:31.039Z"
   },
   {
    "duration": 12,
    "start_time": "2025-07-01T10:17:31.128Z"
   },
   {
    "duration": 71,
    "start_time": "2025-07-01T10:17:31.143Z"
   },
   {
    "duration": 10,
    "start_time": "2025-07-01T10:17:31.216Z"
   },
   {
    "duration": 69,
    "start_time": "2025-07-01T10:17:31.228Z"
   },
   {
    "duration": 48,
    "start_time": "2025-07-01T10:17:31.299Z"
   },
   {
    "duration": 15,
    "start_time": "2025-07-01T10:17:31.349Z"
   },
   {
    "duration": 16,
    "start_time": "2025-07-01T10:17:31.366Z"
   },
   {
    "duration": 17,
    "start_time": "2025-07-01T10:17:31.384Z"
   },
   {
    "duration": 33,
    "start_time": "2025-07-01T10:17:31.402Z"
   },
   {
    "duration": 7,
    "start_time": "2025-07-01T10:17:31.437Z"
   },
   {
    "duration": 35,
    "start_time": "2025-07-01T10:17:31.445Z"
   },
   {
    "duration": 150,
    "start_time": "2025-07-01T10:17:31.481Z"
   },
   {
    "duration": 42,
    "start_time": "2025-07-01T10:17:31.632Z"
   },
   {
    "duration": 42,
    "start_time": "2025-07-01T10:17:31.676Z"
   },
   {
    "duration": 14,
    "start_time": "2025-07-01T10:26:37.210Z"
   },
   {
    "duration": 69,
    "start_time": "2025-07-01T10:27:37.675Z"
   },
   {
    "duration": 4,
    "start_time": "2025-07-01T10:30:14.324Z"
   },
   {
    "duration": 5,
    "start_time": "2025-07-01T10:31:09.116Z"
   },
   {
    "duration": 1439,
    "start_time": "2025-07-01T10:33:34.147Z"
   },
   {
    "duration": 2,
    "start_time": "2025-07-01T10:33:35.588Z"
   },
   {
    "duration": 59,
    "start_time": "2025-07-01T10:33:35.592Z"
   },
   {
    "duration": 52,
    "start_time": "2025-07-01T10:33:35.653Z"
   },
   {
    "duration": 47,
    "start_time": "2025-07-01T10:33:35.708Z"
   },
   {
    "duration": 53,
    "start_time": "2025-07-01T10:33:35.757Z"
   },
   {
    "duration": 67,
    "start_time": "2025-07-01T10:33:35.812Z"
   },
   {
    "duration": 34,
    "start_time": "2025-07-01T10:33:35.881Z"
   },
   {
    "duration": 37,
    "start_time": "2025-07-01T10:33:35.917Z"
   },
   {
    "duration": 100,
    "start_time": "2025-07-01T10:33:35.956Z"
   },
   {
    "duration": 16,
    "start_time": "2025-07-01T10:33:36.058Z"
   },
   {
    "duration": 69,
    "start_time": "2025-07-01T10:33:36.076Z"
   },
   {
    "duration": 14,
    "start_time": "2025-07-01T10:33:36.147Z"
   },
   {
    "duration": 47,
    "start_time": "2025-07-01T10:33:36.165Z"
   },
   {
    "duration": 29,
    "start_time": "2025-07-01T10:33:36.214Z"
   },
   {
    "duration": 92,
    "start_time": "2025-07-01T10:33:36.245Z"
   },
   {
    "duration": 95,
    "start_time": "2025-07-01T10:33:36.339Z"
   },
   {
    "duration": 14,
    "start_time": "2025-07-01T10:33:36.435Z"
   },
   {
    "duration": 27,
    "start_time": "2025-07-01T10:33:36.451Z"
   },
   {
    "duration": 28,
    "start_time": "2025-07-01T10:33:36.479Z"
   },
   {
    "duration": 32,
    "start_time": "2025-07-01T10:33:36.510Z"
   },
   {
    "duration": 29,
    "start_time": "2025-07-01T10:33:36.544Z"
   },
   {
    "duration": 41,
    "start_time": "2025-07-01T10:33:36.574Z"
   },
   {
    "duration": 25,
    "start_time": "2025-07-01T10:33:36.617Z"
   },
   {
    "duration": 59,
    "start_time": "2025-07-01T10:33:36.644Z"
   },
   {
    "duration": 141,
    "start_time": "2025-07-01T10:33:36.705Z"
   },
   {
    "duration": 38,
    "start_time": "2025-07-01T10:33:36.847Z"
   },
   {
    "duration": 20,
    "start_time": "2025-07-01T10:33:36.887Z"
   },
   {
    "duration": 499,
    "start_time": "2025-07-01T10:33:36.909Z"
   },
   {
    "duration": 491,
    "start_time": "2025-07-01T10:33:37.410Z"
   },
   {
    "duration": 15,
    "start_time": "2025-07-01T10:33:37.902Z"
   },
   {
    "duration": 7,
    "start_time": "2025-07-01T10:34:25.120Z"
   },
   {
    "duration": 4,
    "start_time": "2025-07-01T10:34:25.563Z"
   },
   {
    "duration": 254,
    "start_time": "2025-07-01T10:34:30.511Z"
   },
   {
    "duration": 454,
    "start_time": "2025-07-01T10:34:32.364Z"
   },
   {
    "duration": 346,
    "start_time": "2025-07-01T10:36:08.796Z"
   },
   {
    "duration": 342,
    "start_time": "2025-07-01T10:36:38.377Z"
   },
   {
    "duration": 285,
    "start_time": "2025-07-01T10:37:01.608Z"
   },
   {
    "duration": 9,
    "start_time": "2025-07-01T10:38:12.975Z"
   },
   {
    "duration": 398,
    "start_time": "2025-07-01T10:38:17.700Z"
   },
   {
    "duration": 400,
    "start_time": "2025-07-01T10:38:43.549Z"
   },
   {
    "duration": 187,
    "start_time": "2025-07-01T10:39:41.989Z"
   },
   {
    "duration": 409,
    "start_time": "2025-07-01T10:40:22.079Z"
   },
   {
    "duration": 1391,
    "start_time": "2025-07-01T10:40:50.893Z"
   },
   {
    "duration": 3,
    "start_time": "2025-07-01T10:40:52.286Z"
   },
   {
    "duration": 12,
    "start_time": "2025-07-01T10:40:52.290Z"
   },
   {
    "duration": 21,
    "start_time": "2025-07-01T10:40:52.304Z"
   },
   {
    "duration": 42,
    "start_time": "2025-07-01T10:40:52.327Z"
   },
   {
    "duration": 131,
    "start_time": "2025-07-01T10:40:52.370Z"
   },
   {
    "duration": 46,
    "start_time": "2025-07-01T10:40:52.503Z"
   },
   {
    "duration": 67,
    "start_time": "2025-07-01T10:40:52.550Z"
   },
   {
    "duration": 11,
    "start_time": "2025-07-01T10:40:52.619Z"
   },
   {
    "duration": 81,
    "start_time": "2025-07-01T10:40:52.631Z"
   },
   {
    "duration": 16,
    "start_time": "2025-07-01T10:40:52.715Z"
   },
   {
    "duration": 67,
    "start_time": "2025-07-01T10:40:52.734Z"
   },
   {
    "duration": 15,
    "start_time": "2025-07-01T10:40:52.803Z"
   },
   {
    "duration": 46,
    "start_time": "2025-07-01T10:40:52.822Z"
   },
   {
    "duration": 14,
    "start_time": "2025-07-01T10:40:52.871Z"
   },
   {
    "duration": 101,
    "start_time": "2025-07-01T10:40:52.888Z"
   },
   {
    "duration": 58,
    "start_time": "2025-07-01T10:40:52.990Z"
   },
   {
    "duration": 14,
    "start_time": "2025-07-01T10:40:53.051Z"
   },
   {
    "duration": 31,
    "start_time": "2025-07-01T10:40:53.067Z"
   },
   {
    "duration": 16,
    "start_time": "2025-07-01T10:40:53.100Z"
   },
   {
    "duration": 30,
    "start_time": "2025-07-01T10:40:53.118Z"
   },
   {
    "duration": 7,
    "start_time": "2025-07-01T10:40:53.150Z"
   },
   {
    "duration": 38,
    "start_time": "2025-07-01T10:40:53.159Z"
   },
   {
    "duration": 9,
    "start_time": "2025-07-01T10:40:53.199Z"
   },
   {
    "duration": 33,
    "start_time": "2025-07-01T10:40:53.210Z"
   },
   {
    "duration": 145,
    "start_time": "2025-07-01T10:40:53.245Z"
   },
   {
    "duration": 49,
    "start_time": "2025-07-01T10:40:53.392Z"
   },
   {
    "duration": 5,
    "start_time": "2025-07-01T10:40:53.443Z"
   },
   {
    "duration": 300,
    "start_time": "2025-07-01T10:40:53.450Z"
   },
   {
    "duration": 233,
    "start_time": "2025-07-01T10:40:53.752Z"
   },
   {
    "duration": 297,
    "start_time": "2025-07-01T10:40:53.987Z"
   },
   {
    "duration": 411,
    "start_time": "2025-07-01T10:40:54.287Z"
   },
   {
    "duration": 381,
    "start_time": "2025-07-01T10:40:54.700Z"
   },
   {
    "duration": 292,
    "start_time": "2025-07-01T10:40:55.083Z"
   },
   {
    "duration": 440,
    "start_time": "2025-07-01T10:40:55.377Z"
   },
   {
    "duration": 20,
    "start_time": "2025-07-01T10:40:55.819Z"
   },
   {
    "duration": 1252,
    "start_time": "2025-07-01T11:08:37.515Z"
   },
   {
    "duration": 2,
    "start_time": "2025-07-01T11:08:38.770Z"
   },
   {
    "duration": 17,
    "start_time": "2025-07-01T11:08:38.774Z"
   },
   {
    "duration": 9,
    "start_time": "2025-07-01T11:08:38.793Z"
   },
   {
    "duration": 6,
    "start_time": "2025-07-01T11:08:38.805Z"
   },
   {
    "duration": 17,
    "start_time": "2025-07-01T11:08:38.812Z"
   },
   {
    "duration": 9,
    "start_time": "2025-07-01T11:08:38.831Z"
   },
   {
    "duration": 9,
    "start_time": "2025-07-01T11:08:38.842Z"
   },
   {
    "duration": 19,
    "start_time": "2025-07-01T11:08:38.853Z"
   },
   {
    "duration": 77,
    "start_time": "2025-07-01T11:08:38.874Z"
   },
   {
    "duration": 14,
    "start_time": "2025-07-01T11:08:38.953Z"
   },
   {
    "duration": 109,
    "start_time": "2025-07-01T11:08:38.968Z"
   },
   {
    "duration": 11,
    "start_time": "2025-07-01T11:08:39.079Z"
   },
   {
    "duration": 104,
    "start_time": "2025-07-01T11:08:39.092Z"
   },
   {
    "duration": 12,
    "start_time": "2025-07-01T11:08:39.198Z"
   },
   {
    "duration": 37,
    "start_time": "2025-07-01T11:08:39.212Z"
   },
   {
    "duration": 10,
    "start_time": "2025-07-01T11:08:39.251Z"
   },
   {
    "duration": 18,
    "start_time": "2025-07-01T11:08:39.262Z"
   },
   {
    "duration": 45,
    "start_time": "2025-07-01T11:08:39.281Z"
   },
   {
    "duration": 16,
    "start_time": "2025-07-01T11:08:39.328Z"
   },
   {
    "duration": 13,
    "start_time": "2025-07-01T11:08:39.346Z"
   },
   {
    "duration": 7,
    "start_time": "2025-07-01T11:08:39.360Z"
   },
   {
    "duration": 18,
    "start_time": "2025-07-01T11:08:39.369Z"
   },
   {
    "duration": 8,
    "start_time": "2025-07-01T11:08:39.388Z"
   },
   {
    "duration": 52,
    "start_time": "2025-07-01T11:08:39.398Z"
   },
   {
    "duration": 114,
    "start_time": "2025-07-01T11:08:39.452Z"
   },
   {
    "duration": 33,
    "start_time": "2025-07-01T11:08:39.568Z"
   },
   {
    "duration": 4,
    "start_time": "2025-07-01T11:08:39.603Z"
   },
   {
    "duration": 266,
    "start_time": "2025-07-01T11:08:39.609Z"
   },
   {
    "duration": 208,
    "start_time": "2025-07-01T11:08:39.876Z"
   },
   {
    "duration": 304,
    "start_time": "2025-07-01T11:08:40.086Z"
   },
   {
    "duration": 397,
    "start_time": "2025-07-01T11:08:40.392Z"
   },
   {
    "duration": 398,
    "start_time": "2025-07-01T11:08:40.790Z"
   },
   {
    "duration": 283,
    "start_time": "2025-07-01T11:08:41.190Z"
   },
   {
    "duration": 420,
    "start_time": "2025-07-01T11:08:41.475Z"
   },
   {
    "duration": 14,
    "start_time": "2025-07-01T11:08:41.897Z"
   },
   {
    "duration": 5,
    "start_time": "2025-07-01T11:34:04.276Z"
   },
   {
    "duration": 216,
    "start_time": "2025-07-01T11:34:09.561Z"
   },
   {
    "duration": 4,
    "start_time": "2025-07-01T11:36:09.420Z"
   },
   {
    "duration": 232,
    "start_time": "2025-07-01T11:36:14.543Z"
   },
   {
    "duration": 5,
    "start_time": "2025-07-01T11:38:58.963Z"
   },
   {
    "duration": 1210,
    "start_time": "2025-07-01T11:39:02.859Z"
   },
   {
    "duration": 3,
    "start_time": "2025-07-01T11:39:04.071Z"
   },
   {
    "duration": 111,
    "start_time": "2025-07-01T11:39:04.075Z"
   },
   {
    "duration": 19,
    "start_time": "2025-07-01T11:39:04.188Z"
   },
   {
    "duration": 24,
    "start_time": "2025-07-01T11:39:04.211Z"
   },
   {
    "duration": 19,
    "start_time": "2025-07-01T11:39:04.237Z"
   },
   {
    "duration": 32,
    "start_time": "2025-07-01T11:39:04.258Z"
   },
   {
    "duration": 8,
    "start_time": "2025-07-01T11:39:04.292Z"
   },
   {
    "duration": 25,
    "start_time": "2025-07-01T11:39:04.302Z"
   },
   {
    "duration": 153,
    "start_time": "2025-07-01T11:39:04.329Z"
   },
   {
    "duration": 13,
    "start_time": "2025-07-01T11:39:04.484Z"
   },
   {
    "duration": 71,
    "start_time": "2025-07-01T11:39:04.499Z"
   },
   {
    "duration": 13,
    "start_time": "2025-07-01T11:39:04.572Z"
   },
   {
    "duration": 152,
    "start_time": "2025-07-01T11:39:04.588Z"
   },
   {
    "duration": 38,
    "start_time": "2025-07-01T11:39:04.742Z"
   },
   {
    "duration": 89,
    "start_time": "2025-07-01T11:39:04.781Z"
   },
   {
    "duration": 11,
    "start_time": "2025-07-01T11:39:04.872Z"
   },
   {
    "duration": 43,
    "start_time": "2025-07-01T11:39:04.885Z"
   },
   {
    "duration": 22,
    "start_time": "2025-07-01T11:39:04.929Z"
   },
   {
    "duration": 20,
    "start_time": "2025-07-01T11:39:04.952Z"
   },
   {
    "duration": 48,
    "start_time": "2025-07-01T11:39:04.974Z"
   },
   {
    "duration": 18,
    "start_time": "2025-07-01T11:39:05.024Z"
   },
   {
    "duration": 14,
    "start_time": "2025-07-01T11:39:05.043Z"
   },
   {
    "duration": 28,
    "start_time": "2025-07-01T11:39:05.058Z"
   },
   {
    "duration": 21,
    "start_time": "2025-07-01T11:39:05.088Z"
   },
   {
    "duration": 118,
    "start_time": "2025-07-01T11:39:05.111Z"
   },
   {
    "duration": 27,
    "start_time": "2025-07-01T11:39:05.231Z"
   },
   {
    "duration": 65,
    "start_time": "2025-07-01T11:39:05.260Z"
   },
   {
    "duration": 265,
    "start_time": "2025-07-01T11:39:05.327Z"
   },
   {
    "duration": 287,
    "start_time": "2025-07-01T11:39:05.594Z"
   },
   {
    "duration": 289,
    "start_time": "2025-07-01T11:39:05.883Z"
   },
   {
    "duration": 416,
    "start_time": "2025-07-01T11:39:06.174Z"
   },
   {
    "duration": 390,
    "start_time": "2025-07-01T11:39:06.592Z"
   },
   {
    "duration": 310,
    "start_time": "2025-07-01T11:39:06.983Z"
   },
   {
    "duration": 501,
    "start_time": "2025-07-01T11:39:07.295Z"
   },
   {
    "duration": 14,
    "start_time": "2025-07-01T11:39:07.798Z"
   },
   {
    "duration": 4,
    "start_time": "2025-07-01T11:40:42.495Z"
   },
   {
    "duration": 38,
    "start_time": "2025-07-01T11:40:47.527Z"
   },
   {
    "duration": 4,
    "start_time": "2025-07-01T11:41:21.681Z"
   },
   {
    "duration": 1255,
    "start_time": "2025-07-01T11:41:25.111Z"
   },
   {
    "duration": 3,
    "start_time": "2025-07-01T11:41:26.368Z"
   },
   {
    "duration": 7,
    "start_time": "2025-07-01T11:41:26.372Z"
   },
   {
    "duration": 4,
    "start_time": "2025-07-01T11:41:26.381Z"
   },
   {
    "duration": 6,
    "start_time": "2025-07-01T11:41:26.389Z"
   },
   {
    "duration": 8,
    "start_time": "2025-07-01T11:41:26.396Z"
   },
   {
    "duration": 8,
    "start_time": "2025-07-01T11:41:26.405Z"
   },
   {
    "duration": 27,
    "start_time": "2025-07-01T11:41:26.415Z"
   },
   {
    "duration": 15,
    "start_time": "2025-07-01T11:41:26.444Z"
   },
   {
    "duration": 74,
    "start_time": "2025-07-01T11:41:26.461Z"
   },
   {
    "duration": 14,
    "start_time": "2025-07-01T11:41:26.536Z"
   },
   {
    "duration": 48,
    "start_time": "2025-07-01T11:41:26.552Z"
   },
   {
    "duration": 13,
    "start_time": "2025-07-01T11:41:26.602Z"
   },
   {
    "duration": 153,
    "start_time": "2025-07-01T11:41:26.618Z"
   },
   {
    "duration": 12,
    "start_time": "2025-07-01T11:41:26.772Z"
   },
   {
    "duration": 72,
    "start_time": "2025-07-01T11:41:26.786Z"
   },
   {
    "duration": 11,
    "start_time": "2025-07-01T11:41:26.860Z"
   },
   {
    "duration": 45,
    "start_time": "2025-07-01T11:41:26.872Z"
   },
   {
    "duration": 57,
    "start_time": "2025-07-01T11:41:26.919Z"
   },
   {
    "duration": 41,
    "start_time": "2025-07-01T11:41:26.978Z"
   },
   {
    "duration": 40,
    "start_time": "2025-07-01T11:41:27.020Z"
   },
   {
    "duration": 28,
    "start_time": "2025-07-01T11:41:27.061Z"
   },
   {
    "duration": 37,
    "start_time": "2025-07-01T11:41:27.091Z"
   },
   {
    "duration": 46,
    "start_time": "2025-07-01T11:41:27.129Z"
   },
   {
    "duration": 32,
    "start_time": "2025-07-01T11:41:27.177Z"
   },
   {
    "duration": 216,
    "start_time": "2025-07-01T11:41:27.210Z"
   },
   {
    "duration": 28,
    "start_time": "2025-07-01T11:41:27.427Z"
   },
   {
    "duration": 5,
    "start_time": "2025-07-01T11:41:27.457Z"
   },
   {
    "duration": 312,
    "start_time": "2025-07-01T11:41:27.463Z"
   },
   {
    "duration": 290,
    "start_time": "2025-07-01T11:41:27.777Z"
   },
   {
    "duration": 224,
    "start_time": "2025-07-01T11:41:28.068Z"
   },
   {
    "duration": 446,
    "start_time": "2025-07-01T11:41:28.294Z"
   },
   {
    "duration": 392,
    "start_time": "2025-07-01T11:41:28.741Z"
   },
   {
    "duration": 320,
    "start_time": "2025-07-01T11:41:29.138Z"
   },
   {
    "duration": 435,
    "start_time": "2025-07-01T11:41:29.460Z"
   },
   {
    "duration": 13,
    "start_time": "2025-07-01T11:41:29.897Z"
   },
   {
    "duration": 22,
    "start_time": "2025-07-01T11:44:21.467Z"
   },
   {
    "duration": 10,
    "start_time": "2025-07-01T11:44:27.195Z"
   },
   {
    "duration": 11,
    "start_time": "2025-07-01T11:44:36.590Z"
   },
   {
    "duration": 12,
    "start_time": "2025-07-01T11:44:42.666Z"
   },
   {
    "duration": 12,
    "start_time": "2025-07-01T11:44:45.136Z"
   },
   {
    "duration": 20,
    "start_time": "2025-07-01T11:44:49.421Z"
   },
   {
    "duration": 12,
    "start_time": "2025-07-01T11:45:13.756Z"
   },
   {
    "duration": 6,
    "start_time": "2025-07-01T11:45:28.237Z"
   },
   {
    "duration": 16,
    "start_time": "2025-07-01T11:50:06.146Z"
   },
   {
    "duration": 20,
    "start_time": "2025-07-01T11:50:19.441Z"
   },
   {
    "duration": 6,
    "start_time": "2025-07-01T11:50:37.412Z"
   },
   {
    "duration": 19,
    "start_time": "2025-07-01T11:51:39.050Z"
   },
   {
    "duration": 6,
    "start_time": "2025-07-01T11:51:50.486Z"
   },
   {
    "duration": 19,
    "start_time": "2025-07-01T11:52:04.632Z"
   },
   {
    "duration": 9,
    "start_time": "2025-07-01T11:52:13.699Z"
   },
   {
    "duration": 12,
    "start_time": "2025-07-01T12:02:35.302Z"
   },
   {
    "duration": 13,
    "start_time": "2025-07-01T12:02:41.731Z"
   },
   {
    "duration": 10,
    "start_time": "2025-07-01T12:04:04.925Z"
   },
   {
    "duration": 21,
    "start_time": "2025-07-01T12:11:33.884Z"
   },
   {
    "duration": 17,
    "start_time": "2025-07-01T12:12:54.905Z"
   },
   {
    "duration": 109,
    "start_time": "2025-07-01T12:13:38.122Z"
   },
   {
    "duration": 19,
    "start_time": "2025-07-01T12:13:49.470Z"
   },
   {
    "duration": 282,
    "start_time": "2025-07-01T12:13:54.174Z"
   },
   {
    "duration": 249,
    "start_time": "2025-07-01T12:15:27.037Z"
   },
   {
    "duration": 270,
    "start_time": "2025-07-01T12:15:27.690Z"
   },
   {
    "duration": 200,
    "start_time": "2025-07-01T12:15:28.281Z"
   },
   {
    "duration": 13,
    "start_time": "2025-07-01T12:26:56.868Z"
   },
   {
    "duration": 1323,
    "start_time": "2025-07-01T12:27:27.301Z"
   },
   {
    "duration": 2,
    "start_time": "2025-07-01T12:27:28.626Z"
   },
   {
    "duration": 27,
    "start_time": "2025-07-01T12:27:28.629Z"
   },
   {
    "duration": 36,
    "start_time": "2025-07-01T12:27:28.657Z"
   },
   {
    "duration": 34,
    "start_time": "2025-07-01T12:27:28.695Z"
   },
   {
    "duration": 37,
    "start_time": "2025-07-01T12:27:28.731Z"
   },
   {
    "duration": 103,
    "start_time": "2025-07-01T12:27:28.770Z"
   },
   {
    "duration": 80,
    "start_time": "2025-07-01T12:27:28.876Z"
   },
   {
    "duration": 49,
    "start_time": "2025-07-01T12:27:28.959Z"
   },
   {
    "duration": 135,
    "start_time": "2025-07-01T12:27:29.011Z"
   },
   {
    "duration": 16,
    "start_time": "2025-07-01T12:27:29.149Z"
   },
   {
    "duration": 113,
    "start_time": "2025-07-01T12:27:29.167Z"
   },
   {
    "duration": 12,
    "start_time": "2025-07-01T12:27:29.282Z"
   },
   {
    "duration": 64,
    "start_time": "2025-07-01T12:27:29.297Z"
   },
   {
    "duration": 12,
    "start_time": "2025-07-01T12:27:29.363Z"
   },
   {
    "duration": 68,
    "start_time": "2025-07-01T12:27:29.377Z"
   },
   {
    "duration": 37,
    "start_time": "2025-07-01T12:27:29.447Z"
   },
   {
    "duration": 17,
    "start_time": "2025-07-01T12:27:29.486Z"
   },
   {
    "duration": 20,
    "start_time": "2025-07-01T12:27:29.505Z"
   },
   {
    "duration": 18,
    "start_time": "2025-07-01T12:27:29.527Z"
   },
   {
    "duration": 39,
    "start_time": "2025-07-01T12:27:29.548Z"
   },
   {
    "duration": 16,
    "start_time": "2025-07-01T12:27:29.589Z"
   },
   {
    "duration": 22,
    "start_time": "2025-07-01T12:27:29.607Z"
   },
   {
    "duration": 6,
    "start_time": "2025-07-01T12:27:29.631Z"
   },
   {
    "duration": 23,
    "start_time": "2025-07-01T12:27:29.639Z"
   },
   {
    "duration": 116,
    "start_time": "2025-07-01T12:27:29.664Z"
   },
   {
    "duration": 23,
    "start_time": "2025-07-01T12:27:29.782Z"
   },
   {
    "duration": 4,
    "start_time": "2025-07-01T12:27:29.807Z"
   },
   {
    "duration": 270,
    "start_time": "2025-07-01T12:27:29.813Z"
   },
   {
    "duration": 282,
    "start_time": "2025-07-01T12:27:30.084Z"
   },
   {
    "duration": 229,
    "start_time": "2025-07-01T12:27:30.367Z"
   },
   {
    "duration": 480,
    "start_time": "2025-07-01T12:27:30.598Z"
   },
   {
    "duration": 407,
    "start_time": "2025-07-01T12:27:31.079Z"
   },
   {
    "duration": 6,
    "start_time": "2025-07-01T12:27:31.488Z"
   },
   {
    "duration": 42,
    "start_time": "2025-07-01T12:27:31.495Z"
   },
   {
    "duration": 341,
    "start_time": "2025-07-01T12:27:31.540Z"
   },
   {
    "duration": 420,
    "start_time": "2025-07-01T12:27:31.883Z"
   },
   {
    "duration": 10,
    "start_time": "2025-07-01T12:27:32.305Z"
   },
   {
    "duration": 127,
    "start_time": "2025-07-01T12:27:32.317Z"
   },
   {
    "duration": 27,
    "start_time": "2025-07-01T12:27:32.446Z"
   },
   {
    "duration": 25,
    "start_time": "2025-07-01T12:27:32.478Z"
   },
   {
    "duration": 60,
    "start_time": "2025-07-01T12:27:32.505Z"
   },
   {
    "duration": 238,
    "start_time": "2025-07-01T12:27:32.566Z"
   },
   {
    "duration": 258,
    "start_time": "2025-07-01T12:27:32.805Z"
   },
   {
    "duration": 233,
    "start_time": "2025-07-01T12:27:33.065Z"
   },
   {
    "duration": 292,
    "start_time": "2025-07-01T12:27:33.300Z"
   },
   {
    "duration": 19,
    "start_time": "2025-07-01T12:27:46.272Z"
   },
   {
    "duration": 13,
    "start_time": "2025-07-01T12:28:36.276Z"
   },
   {
    "duration": 11,
    "start_time": "2025-07-01T12:33:56.357Z"
   },
   {
    "duration": 13,
    "start_time": "2025-07-01T12:33:59.958Z"
   },
   {
    "duration": 17,
    "start_time": "2025-07-01T12:34:23.221Z"
   },
   {
    "duration": 23,
    "start_time": "2025-07-01T12:35:42.125Z"
   },
   {
    "duration": 11,
    "start_time": "2025-07-01T12:37:02.141Z"
   },
   {
    "duration": 1319,
    "start_time": "2025-07-01T12:39:20.783Z"
   },
   {
    "duration": 3,
    "start_time": "2025-07-01T12:39:22.104Z"
   },
   {
    "duration": 5,
    "start_time": "2025-07-01T12:39:22.108Z"
   },
   {
    "duration": 4,
    "start_time": "2025-07-01T12:39:22.115Z"
   },
   {
    "duration": 24,
    "start_time": "2025-07-01T12:39:22.121Z"
   },
   {
    "duration": 9,
    "start_time": "2025-07-01T12:39:22.147Z"
   },
   {
    "duration": 5,
    "start_time": "2025-07-01T12:39:22.159Z"
   },
   {
    "duration": 7,
    "start_time": "2025-07-01T12:39:22.165Z"
   },
   {
    "duration": 10,
    "start_time": "2025-07-01T12:39:22.173Z"
   },
   {
    "duration": 117,
    "start_time": "2025-07-01T12:39:22.184Z"
   },
   {
    "duration": 14,
    "start_time": "2025-07-01T12:39:22.302Z"
   },
   {
    "duration": 50,
    "start_time": "2025-07-01T12:39:22.318Z"
   },
   {
    "duration": 12,
    "start_time": "2025-07-01T12:39:22.370Z"
   },
   {
    "duration": 85,
    "start_time": "2025-07-01T12:39:22.385Z"
   },
   {
    "duration": 12,
    "start_time": "2025-07-01T12:39:22.472Z"
   },
   {
    "duration": 71,
    "start_time": "2025-07-01T12:39:22.485Z"
   },
   {
    "duration": 14,
    "start_time": "2025-07-01T12:39:22.558Z"
   },
   {
    "duration": 13,
    "start_time": "2025-07-01T12:39:22.574Z"
   },
   {
    "duration": 17,
    "start_time": "2025-07-01T12:39:22.589Z"
   },
   {
    "duration": 18,
    "start_time": "2025-07-01T12:39:22.608Z"
   },
   {
    "duration": 20,
    "start_time": "2025-07-01T12:39:22.628Z"
   },
   {
    "duration": 13,
    "start_time": "2025-07-01T12:39:22.650Z"
   },
   {
    "duration": 13,
    "start_time": "2025-07-01T12:39:22.665Z"
   },
   {
    "duration": 7,
    "start_time": "2025-07-01T12:39:22.680Z"
   },
   {
    "duration": 20,
    "start_time": "2025-07-01T12:39:22.689Z"
   },
   {
    "duration": 146,
    "start_time": "2025-07-01T12:39:22.711Z"
   },
   {
    "duration": 24,
    "start_time": "2025-07-01T12:39:22.858Z"
   },
   {
    "duration": 43,
    "start_time": "2025-07-01T12:39:22.884Z"
   },
   {
    "duration": 343,
    "start_time": "2025-07-01T12:39:22.929Z"
   },
   {
    "duration": 392,
    "start_time": "2025-07-01T12:39:23.273Z"
   },
   {
    "duration": 326,
    "start_time": "2025-07-01T12:39:23.666Z"
   },
   {
    "duration": 440,
    "start_time": "2025-07-01T12:39:23.993Z"
   },
   {
    "duration": 449,
    "start_time": "2025-07-01T12:39:24.440Z"
   },
   {
    "duration": 7,
    "start_time": "2025-07-01T12:39:24.891Z"
   },
   {
    "duration": 8,
    "start_time": "2025-07-01T12:39:24.899Z"
   },
   {
    "duration": 383,
    "start_time": "2025-07-01T12:39:24.909Z"
   },
   {
    "duration": 515,
    "start_time": "2025-07-01T12:39:25.294Z"
   },
   {
    "duration": 28,
    "start_time": "2025-07-01T12:39:25.811Z"
   },
   {
    "duration": 21,
    "start_time": "2025-07-01T12:39:25.842Z"
   },
   {
    "duration": 29,
    "start_time": "2025-07-01T12:39:25.865Z"
   },
   {
    "duration": 307,
    "start_time": "2025-07-01T12:39:25.901Z"
   },
   {
    "duration": 272,
    "start_time": "2025-07-01T12:39:26.210Z"
   },
   {
    "duration": 317,
    "start_time": "2025-07-01T12:39:26.484Z"
   },
   {
    "duration": 280,
    "start_time": "2025-07-01T12:39:26.803Z"
   },
   {
    "duration": 12,
    "start_time": "2025-07-01T12:39:27.085Z"
   },
   {
    "duration": 14,
    "start_time": "2025-07-01T12:39:27.099Z"
   },
   {
    "duration": 42,
    "start_time": "2025-07-01T12:39:27.115Z"
   },
   {
    "duration": 21,
    "start_time": "2025-07-01T12:39:27.159Z"
   },
   {
    "duration": 299,
    "start_time": "2025-07-01T12:39:27.182Z"
   },
   {
    "duration": 304,
    "start_time": "2025-07-01T12:39:27.483Z"
   },
   {
    "duration": 309,
    "start_time": "2025-07-01T12:39:27.788Z"
   },
   {
    "duration": 278,
    "start_time": "2025-07-01T12:39:28.099Z"
   },
   {
    "duration": 282,
    "start_time": "2025-07-01T12:39:28.378Z"
   },
   {
    "duration": 229,
    "start_time": "2025-07-01T12:39:28.662Z"
   },
   {
    "duration": 387,
    "start_time": "2025-07-01T12:39:28.893Z"
   },
   {
    "duration": 1255,
    "start_time": "2025-07-01T12:53:47.149Z"
   },
   {
    "duration": 2,
    "start_time": "2025-07-01T12:53:48.406Z"
   },
   {
    "duration": 9,
    "start_time": "2025-07-01T12:53:48.409Z"
   },
   {
    "duration": 5,
    "start_time": "2025-07-01T12:53:48.420Z"
   },
   {
    "duration": 14,
    "start_time": "2025-07-01T12:53:48.427Z"
   },
   {
    "duration": 7,
    "start_time": "2025-07-01T12:53:48.445Z"
   },
   {
    "duration": 27,
    "start_time": "2025-07-01T12:53:48.455Z"
   },
   {
    "duration": 6,
    "start_time": "2025-07-01T12:53:48.484Z"
   },
   {
    "duration": 12,
    "start_time": "2025-07-01T12:53:48.491Z"
   },
   {
    "duration": 75,
    "start_time": "2025-07-01T12:53:48.504Z"
   },
   {
    "duration": 13,
    "start_time": "2025-07-01T12:53:48.581Z"
   },
   {
    "duration": 41,
    "start_time": "2025-07-01T12:53:48.596Z"
   },
   {
    "duration": 22,
    "start_time": "2025-07-01T12:53:48.639Z"
   },
   {
    "duration": 45,
    "start_time": "2025-07-01T12:53:48.666Z"
   },
   {
    "duration": 12,
    "start_time": "2025-07-01T12:53:48.713Z"
   },
   {
    "duration": 43,
    "start_time": "2025-07-01T12:53:48.739Z"
   },
   {
    "duration": 11,
    "start_time": "2025-07-01T12:53:48.783Z"
   },
   {
    "duration": 44,
    "start_time": "2025-07-01T12:53:48.795Z"
   },
   {
    "duration": 31,
    "start_time": "2025-07-01T12:53:48.841Z"
   },
   {
    "duration": 25,
    "start_time": "2025-07-01T12:53:48.874Z"
   },
   {
    "duration": 108,
    "start_time": "2025-07-01T12:53:48.901Z"
   },
   {
    "duration": 14,
    "start_time": "2025-07-01T12:53:49.010Z"
   },
   {
    "duration": 38,
    "start_time": "2025-07-01T12:53:49.025Z"
   },
   {
    "duration": 8,
    "start_time": "2025-07-01T12:53:49.065Z"
   },
   {
    "duration": 20,
    "start_time": "2025-07-01T12:53:49.075Z"
   },
   {
    "duration": 129,
    "start_time": "2025-07-01T12:53:49.097Z"
   },
   {
    "duration": 36,
    "start_time": "2025-07-01T12:53:49.227Z"
   },
   {
    "duration": 5,
    "start_time": "2025-07-01T12:53:49.265Z"
   },
   {
    "duration": 311,
    "start_time": "2025-07-01T12:53:49.271Z"
   },
   {
    "duration": 285,
    "start_time": "2025-07-01T12:53:49.583Z"
   },
   {
    "duration": 232,
    "start_time": "2025-07-01T12:53:49.870Z"
   },
   {
    "duration": 478,
    "start_time": "2025-07-01T12:53:50.104Z"
   },
   {
    "duration": 418,
    "start_time": "2025-07-01T12:53:50.583Z"
   },
   {
    "duration": 6,
    "start_time": "2025-07-01T12:53:51.003Z"
   },
   {
    "duration": 14,
    "start_time": "2025-07-01T12:53:51.011Z"
   },
   {
    "duration": 345,
    "start_time": "2025-07-01T12:53:51.038Z"
   },
   {
    "duration": 438,
    "start_time": "2025-07-01T12:53:51.385Z"
   },
   {
    "duration": 17,
    "start_time": "2025-07-01T12:53:51.824Z"
   },
   {
    "duration": 20,
    "start_time": "2025-07-01T12:53:51.842Z"
   },
   {
    "duration": 35,
    "start_time": "2025-07-01T12:53:51.863Z"
   },
   {
    "duration": 280,
    "start_time": "2025-07-01T12:53:51.901Z"
   },
   {
    "duration": 292,
    "start_time": "2025-07-01T12:53:52.183Z"
   },
   {
    "duration": 234,
    "start_time": "2025-07-01T12:53:52.477Z"
   },
   {
    "duration": 278,
    "start_time": "2025-07-01T12:53:52.713Z"
   },
   {
    "duration": 12,
    "start_time": "2025-07-01T12:53:52.992Z"
   },
   {
    "duration": 47,
    "start_time": "2025-07-01T12:53:53.005Z"
   },
   {
    "duration": 237,
    "start_time": "2025-07-01T12:53:53.054Z"
   },
   {
    "duration": 283,
    "start_time": "2025-07-01T12:53:53.293Z"
   },
   {
    "duration": 310,
    "start_time": "2025-07-01T12:53:53.577Z"
   },
   {
    "duration": 286,
    "start_time": "2025-07-01T12:53:53.889Z"
   },
   {
    "duration": 294,
    "start_time": "2025-07-01T12:53:54.177Z"
   },
   {
    "duration": 215,
    "start_time": "2025-07-01T12:53:54.473Z"
   },
   {
    "duration": 378,
    "start_time": "2025-07-01T12:53:54.690Z"
   },
   {
    "duration": 14,
    "start_time": "2025-07-01T12:54:45.250Z"
   },
   {
    "duration": 15,
    "start_time": "2025-07-01T12:54:49.675Z"
   },
   {
    "duration": 9,
    "start_time": "2025-07-01T12:55:28.271Z"
   },
   {
    "duration": 16,
    "start_time": "2025-07-01T12:55:28.622Z"
   },
   {
    "duration": 11,
    "start_time": "2025-07-01T12:55:28.991Z"
   },
   {
    "duration": 17,
    "start_time": "2025-07-01T12:55:29.778Z"
   },
   {
    "duration": 250,
    "start_time": "2025-07-01T12:56:42.247Z"
   },
   {
    "duration": 1207,
    "start_time": "2025-07-01T13:00:34.566Z"
   },
   {
    "duration": 2,
    "start_time": "2025-07-01T13:00:35.775Z"
   },
   {
    "duration": 14,
    "start_time": "2025-07-01T13:00:35.779Z"
   },
   {
    "duration": 14,
    "start_time": "2025-07-01T13:00:35.795Z"
   },
   {
    "duration": 5,
    "start_time": "2025-07-01T13:00:35.811Z"
   },
   {
    "duration": 24,
    "start_time": "2025-07-01T13:00:35.817Z"
   },
   {
    "duration": 68,
    "start_time": "2025-07-01T13:00:35.843Z"
   },
   {
    "duration": 74,
    "start_time": "2025-07-01T13:00:35.913Z"
   },
   {
    "duration": 15,
    "start_time": "2025-07-01T13:00:35.989Z"
   },
   {
    "duration": 110,
    "start_time": "2025-07-01T13:00:36.006Z"
   },
   {
    "duration": 15,
    "start_time": "2025-07-01T13:00:36.118Z"
   },
   {
    "duration": 106,
    "start_time": "2025-07-01T13:00:36.135Z"
   },
   {
    "duration": 12,
    "start_time": "2025-07-01T13:00:36.243Z"
   },
   {
    "duration": 75,
    "start_time": "2025-07-01T13:00:36.258Z"
   },
   {
    "duration": 14,
    "start_time": "2025-07-01T13:00:36.334Z"
   },
   {
    "duration": 67,
    "start_time": "2025-07-01T13:00:36.350Z"
   },
   {
    "duration": 15,
    "start_time": "2025-07-01T13:00:36.419Z"
   },
   {
    "duration": 63,
    "start_time": "2025-07-01T13:00:36.436Z"
   },
   {
    "duration": 39,
    "start_time": "2025-07-01T13:00:36.500Z"
   },
   {
    "duration": 41,
    "start_time": "2025-07-01T13:00:36.540Z"
   },
   {
    "duration": 27,
    "start_time": "2025-07-01T13:00:36.583Z"
   },
   {
    "duration": 23,
    "start_time": "2025-07-01T13:00:36.611Z"
   },
   {
    "duration": 12,
    "start_time": "2025-07-01T13:00:36.636Z"
   },
   {
    "duration": 7,
    "start_time": "2025-07-01T13:00:36.650Z"
   },
   {
    "duration": 29,
    "start_time": "2025-07-01T13:00:36.658Z"
   },
   {
    "duration": 120,
    "start_time": "2025-07-01T13:00:36.689Z"
   },
   {
    "duration": 34,
    "start_time": "2025-07-01T13:00:36.811Z"
   },
   {
    "duration": 17,
    "start_time": "2025-07-01T13:00:36.846Z"
   },
   {
    "duration": 293,
    "start_time": "2025-07-01T13:00:36.865Z"
   },
   {
    "duration": 233,
    "start_time": "2025-07-01T13:00:37.159Z"
   },
   {
    "duration": 291,
    "start_time": "2025-07-01T13:00:37.393Z"
   },
   {
    "duration": 402,
    "start_time": "2025-07-01T13:00:37.686Z"
   },
   {
    "duration": 388,
    "start_time": "2025-07-01T13:00:38.090Z"
   },
   {
    "duration": 7,
    "start_time": "2025-07-01T13:00:38.480Z"
   },
   {
    "duration": 10,
    "start_time": "2025-07-01T13:00:38.489Z"
   },
   {
    "duration": 350,
    "start_time": "2025-07-01T13:00:38.501Z"
   },
   {
    "duration": 433,
    "start_time": "2025-07-01T13:00:38.853Z"
   },
   {
    "duration": 11,
    "start_time": "2025-07-01T13:00:39.287Z"
   },
   {
    "duration": 16,
    "start_time": "2025-07-01T13:00:39.300Z"
   },
   {
    "duration": 31,
    "start_time": "2025-07-01T13:00:39.318Z"
   },
   {
    "duration": 235,
    "start_time": "2025-07-01T13:00:39.355Z"
   },
   {
    "duration": 259,
    "start_time": "2025-07-01T13:00:39.592Z"
   },
   {
    "duration": 232,
    "start_time": "2025-07-01T13:00:39.853Z"
   },
   {
    "duration": 273,
    "start_time": "2025-07-01T13:00:40.086Z"
   },
   {
    "duration": 12,
    "start_time": "2025-07-01T13:00:40.361Z"
   },
   {
    "duration": 46,
    "start_time": "2025-07-01T13:00:40.376Z"
   },
   {
    "duration": 248,
    "start_time": "2025-07-01T13:00:40.424Z"
   },
   {
    "duration": 273,
    "start_time": "2025-07-01T13:00:40.675Z"
   },
   {
    "duration": 237,
    "start_time": "2025-07-01T13:00:40.951Z"
   },
   {
    "duration": 266,
    "start_time": "2025-07-01T13:00:41.189Z"
   },
   {
    "duration": 227,
    "start_time": "2025-07-01T13:00:41.457Z"
   },
   {
    "duration": 261,
    "start_time": "2025-07-01T13:00:41.686Z"
   },
   {
    "duration": 320,
    "start_time": "2025-07-01T13:00:41.949Z"
   },
   {
    "duration": 9,
    "start_time": "2025-07-01T13:00:42.270Z"
   },
   {
    "duration": 13,
    "start_time": "2025-07-01T13:00:42.280Z"
   },
   {
    "duration": 275,
    "start_time": "2025-07-01T13:00:42.295Z"
   },
   {
    "duration": 100,
    "start_time": "2025-07-01T13:40:58.702Z"
   },
   {
    "duration": 14,
    "start_time": "2025-07-01T13:41:43.220Z"
   },
   {
    "duration": 1215,
    "start_time": "2025-07-01T13:42:28.054Z"
   },
   {
    "duration": 2,
    "start_time": "2025-07-01T13:42:29.271Z"
   },
   {
    "duration": 9,
    "start_time": "2025-07-01T13:42:29.275Z"
   },
   {
    "duration": 4,
    "start_time": "2025-07-01T13:42:29.286Z"
   },
   {
    "duration": 5,
    "start_time": "2025-07-01T13:42:29.291Z"
   },
   {
    "duration": 16,
    "start_time": "2025-07-01T13:42:29.297Z"
   },
   {
    "duration": 6,
    "start_time": "2025-07-01T13:42:29.315Z"
   },
   {
    "duration": 18,
    "start_time": "2025-07-01T13:42:29.323Z"
   },
   {
    "duration": 8,
    "start_time": "2025-07-01T13:42:29.343Z"
   },
   {
    "duration": 120,
    "start_time": "2025-07-01T13:42:29.353Z"
   },
   {
    "duration": 14,
    "start_time": "2025-07-01T13:42:29.474Z"
   },
   {
    "duration": 75,
    "start_time": "2025-07-01T13:42:29.490Z"
   },
   {
    "duration": 11,
    "start_time": "2025-07-01T13:42:29.567Z"
   },
   {
    "duration": 83,
    "start_time": "2025-07-01T13:42:29.580Z"
   },
   {
    "duration": 11,
    "start_time": "2025-07-01T13:42:29.665Z"
   },
   {
    "duration": 103,
    "start_time": "2025-07-01T13:42:29.678Z"
   },
   {
    "duration": 11,
    "start_time": "2025-07-01T13:42:29.783Z"
   },
   {
    "duration": 42,
    "start_time": "2025-07-01T13:42:29.796Z"
   },
   {
    "duration": 36,
    "start_time": "2025-07-01T13:42:29.839Z"
   },
   {
    "duration": 16,
    "start_time": "2025-07-01T13:42:29.877Z"
   },
   {
    "duration": 26,
    "start_time": "2025-07-01T13:42:29.894Z"
   },
   {
    "duration": 17,
    "start_time": "2025-07-01T13:42:29.921Z"
   },
   {
    "duration": 24,
    "start_time": "2025-07-01T13:42:29.939Z"
   },
   {
    "duration": 7,
    "start_time": "2025-07-01T13:42:29.964Z"
   },
   {
    "duration": 36,
    "start_time": "2025-07-01T13:42:29.972Z"
   },
   {
    "duration": 107,
    "start_time": "2025-07-01T13:42:30.009Z"
   },
   {
    "duration": 31,
    "start_time": "2025-07-01T13:42:30.118Z"
   },
   {
    "duration": 42,
    "start_time": "2025-07-01T13:42:30.154Z"
   },
   {
    "duration": 282,
    "start_time": "2025-07-01T13:42:30.197Z"
   },
   {
    "duration": 281,
    "start_time": "2025-07-01T13:42:30.481Z"
   },
   {
    "duration": 246,
    "start_time": "2025-07-01T13:42:30.763Z"
   },
   {
    "duration": 1207,
    "start_time": "2025-07-01T14:07:38.272Z"
   },
   {
    "duration": 3,
    "start_time": "2025-07-01T14:07:39.482Z"
   },
   {
    "duration": 17,
    "start_time": "2025-07-01T14:07:39.487Z"
   },
   {
    "duration": 9,
    "start_time": "2025-07-01T14:07:39.505Z"
   },
   {
    "duration": 32,
    "start_time": "2025-07-01T14:07:39.516Z"
   },
   {
    "duration": 15,
    "start_time": "2025-07-01T14:07:39.550Z"
   },
   {
    "duration": 42,
    "start_time": "2025-07-01T14:07:39.567Z"
   },
   {
    "duration": 28,
    "start_time": "2025-07-01T14:07:39.610Z"
   },
   {
    "duration": 39,
    "start_time": "2025-07-01T14:07:39.640Z"
   },
   {
    "duration": 97,
    "start_time": "2025-07-01T14:07:39.680Z"
   },
   {
    "duration": 13,
    "start_time": "2025-07-01T14:07:39.780Z"
   },
   {
    "duration": 135,
    "start_time": "2025-07-01T14:07:39.796Z"
   },
   {
    "duration": 13,
    "start_time": "2025-07-01T14:07:39.933Z"
   },
   {
    "duration": 269,
    "start_time": "2025-07-01T14:07:39.951Z"
   },
   {
    "duration": 13,
    "start_time": "2025-07-01T14:07:40.222Z"
   },
   {
    "duration": 72,
    "start_time": "2025-07-01T14:07:40.237Z"
   },
   {
    "duration": 11,
    "start_time": "2025-07-01T14:07:40.310Z"
   },
   {
    "duration": 14,
    "start_time": "2025-07-01T14:07:40.323Z"
   },
   {
    "duration": 19,
    "start_time": "2025-07-01T14:07:40.338Z"
   },
   {
    "duration": 20,
    "start_time": "2025-07-01T14:07:40.359Z"
   },
   {
    "duration": 31,
    "start_time": "2025-07-01T14:07:40.381Z"
   },
   {
    "duration": 10,
    "start_time": "2025-07-01T14:07:40.414Z"
   },
   {
    "duration": 19,
    "start_time": "2025-07-01T14:07:40.439Z"
   },
   {
    "duration": 9,
    "start_time": "2025-07-01T14:07:40.459Z"
   },
   {
    "duration": 25,
    "start_time": "2025-07-01T14:07:40.470Z"
   },
   {
    "duration": 143,
    "start_time": "2025-07-01T14:07:40.497Z"
   },
   {
    "duration": 22,
    "start_time": "2025-07-01T14:07:40.642Z"
   },
   {
    "duration": 5,
    "start_time": "2025-07-01T14:07:40.666Z"
   },
   {
    "duration": 340,
    "start_time": "2025-07-01T14:07:40.672Z"
   },
   {
    "duration": 277,
    "start_time": "2025-07-01T14:07:41.013Z"
   },
   {
    "duration": 306,
    "start_time": "2025-07-01T14:07:41.292Z"
   },
   {
    "duration": 431,
    "start_time": "2025-07-01T14:07:41.600Z"
   },
   {
    "duration": 415,
    "start_time": "2025-07-01T14:07:42.033Z"
   },
   {
    "duration": 6,
    "start_time": "2025-07-01T14:07:42.450Z"
   },
   {
    "duration": 10,
    "start_time": "2025-07-01T14:07:42.458Z"
   },
   {
    "duration": 303,
    "start_time": "2025-07-01T14:07:42.470Z"
   },
   {
    "duration": 433,
    "start_time": "2025-07-01T14:07:42.775Z"
   },
   {
    "duration": 9,
    "start_time": "2025-07-01T14:07:43.209Z"
   },
   {
    "duration": 28,
    "start_time": "2025-07-01T14:07:43.220Z"
   },
   {
    "duration": 18,
    "start_time": "2025-07-01T14:07:43.250Z"
   },
   {
    "duration": 308,
    "start_time": "2025-07-01T14:07:43.273Z"
   },
   {
    "duration": 264,
    "start_time": "2025-07-01T14:07:43.583Z"
   },
   {
    "duration": 236,
    "start_time": "2025-07-01T14:07:43.850Z"
   },
   {
    "duration": 273,
    "start_time": "2025-07-01T14:07:44.088Z"
   },
   {
    "duration": 11,
    "start_time": "2025-07-01T14:07:44.363Z"
   },
   {
    "duration": 15,
    "start_time": "2025-07-01T14:07:44.376Z"
   },
   {
    "duration": 61,
    "start_time": "2025-07-01T14:07:44.393Z"
   },
   {
    "duration": 239,
    "start_time": "2025-07-01T14:07:44.456Z"
   },
   {
    "duration": 270,
    "start_time": "2025-07-01T14:07:44.697Z"
   },
   {
    "duration": 282,
    "start_time": "2025-07-01T14:07:44.969Z"
   },
   {
    "duration": 240,
    "start_time": "2025-07-01T14:07:45.254Z"
   },
   {
    "duration": 271,
    "start_time": "2025-07-01T14:07:45.496Z"
   },
   {
    "duration": 228,
    "start_time": "2025-07-01T14:07:45.768Z"
   },
   {
    "duration": 387,
    "start_time": "2025-07-01T14:07:45.998Z"
   },
   {
    "duration": 9,
    "start_time": "2025-07-01T14:07:46.386Z"
   },
   {
    "duration": 76,
    "start_time": "2025-07-01T14:07:46.396Z"
   },
   {
    "duration": 203,
    "start_time": "2025-07-01T14:07:46.473Z"
   },
   {
    "duration": 13,
    "start_time": "2025-07-01T14:14:43.842Z"
   },
   {
    "duration": 1268,
    "start_time": "2025-07-01T14:29:01.106Z"
   },
   {
    "duration": 2,
    "start_time": "2025-07-01T14:29:02.376Z"
   },
   {
    "duration": 60,
    "start_time": "2025-07-01T14:29:02.379Z"
   },
   {
    "duration": 38,
    "start_time": "2025-07-01T14:29:02.441Z"
   },
   {
    "duration": 49,
    "start_time": "2025-07-01T14:29:02.481Z"
   },
   {
    "duration": 54,
    "start_time": "2025-07-01T14:29:02.531Z"
   },
   {
    "duration": 73,
    "start_time": "2025-07-01T14:29:02.587Z"
   },
   {
    "duration": 81,
    "start_time": "2025-07-01T14:29:02.662Z"
   },
   {
    "duration": 62,
    "start_time": "2025-07-01T14:29:02.746Z"
   },
   {
    "duration": 125,
    "start_time": "2025-07-01T14:29:02.810Z"
   },
   {
    "duration": 62,
    "start_time": "2025-07-01T14:29:02.937Z"
   },
   {
    "duration": 107,
    "start_time": "2025-07-01T14:29:03.001Z"
   },
   {
    "duration": 14,
    "start_time": "2025-07-01T14:29:03.110Z"
   },
   {
    "duration": 96,
    "start_time": "2025-07-01T14:29:03.127Z"
   },
   {
    "duration": 12,
    "start_time": "2025-07-01T14:29:03.225Z"
   },
   {
    "duration": 76,
    "start_time": "2025-07-01T14:29:03.239Z"
   },
   {
    "duration": 10,
    "start_time": "2025-07-01T14:29:03.317Z"
   },
   {
    "duration": 42,
    "start_time": "2025-07-01T14:29:03.328Z"
   },
   {
    "duration": 70,
    "start_time": "2025-07-01T14:29:03.372Z"
   },
   {
    "duration": 91,
    "start_time": "2025-07-01T14:29:03.444Z"
   },
   {
    "duration": 25,
    "start_time": "2025-07-01T14:29:03.538Z"
   },
   {
    "duration": 26,
    "start_time": "2025-07-01T14:29:03.566Z"
   },
   {
    "duration": 32,
    "start_time": "2025-07-01T14:29:03.594Z"
   },
   {
    "duration": 9,
    "start_time": "2025-07-01T14:29:03.629Z"
   },
   {
    "duration": 32,
    "start_time": "2025-07-01T14:29:03.640Z"
   },
   {
    "duration": 130,
    "start_time": "2025-07-01T14:29:03.674Z"
   },
   {
    "duration": 37,
    "start_time": "2025-07-01T14:29:03.807Z"
   },
   {
    "duration": 29,
    "start_time": "2025-07-01T14:29:03.846Z"
   },
   {
    "duration": 389,
    "start_time": "2025-07-01T14:29:03.877Z"
   },
   {
    "duration": 218,
    "start_time": "2025-07-01T14:29:04.268Z"
   },
   {
    "duration": 286,
    "start_time": "2025-07-01T14:29:04.488Z"
   },
   {
    "duration": 417,
    "start_time": "2025-07-01T14:29:04.776Z"
   },
   {
    "duration": 382,
    "start_time": "2025-07-01T14:29:05.195Z"
   },
   {
    "duration": 7,
    "start_time": "2025-07-01T14:29:05.578Z"
   },
   {
    "duration": 57,
    "start_time": "2025-07-01T14:29:05.586Z"
   },
   {
    "duration": 345,
    "start_time": "2025-07-01T14:29:05.645Z"
   },
   {
    "duration": 427,
    "start_time": "2025-07-01T14:29:05.991Z"
   },
   {
    "duration": 10,
    "start_time": "2025-07-01T14:29:06.420Z"
   },
   {
    "duration": 46,
    "start_time": "2025-07-01T14:29:06.440Z"
   },
   {
    "duration": 120,
    "start_time": "2025-07-01T14:29:06.488Z"
   },
   {
    "duration": 262,
    "start_time": "2025-07-01T14:29:06.612Z"
   },
   {
    "duration": 226,
    "start_time": "2025-07-01T14:29:06.875Z"
   },
   {
    "duration": 274,
    "start_time": "2025-07-01T14:29:07.103Z"
   },
   {
    "duration": 265,
    "start_time": "2025-07-01T14:29:07.379Z"
   },
   {
    "duration": 11,
    "start_time": "2025-07-01T14:29:07.645Z"
   },
   {
    "duration": 55,
    "start_time": "2025-07-01T14:29:07.658Z"
   },
   {
    "duration": 53,
    "start_time": "2025-07-01T14:29:07.716Z"
   },
   {
    "duration": 297,
    "start_time": "2025-07-01T14:29:07.771Z"
   },
   {
    "duration": 215,
    "start_time": "2025-07-01T14:29:08.070Z"
   },
   {
    "duration": 274,
    "start_time": "2025-07-01T14:29:08.287Z"
   },
   {
    "duration": 216,
    "start_time": "2025-07-01T14:29:08.563Z"
   },
   {
    "duration": 279,
    "start_time": "2025-07-01T14:29:08.781Z"
   },
   {
    "duration": 211,
    "start_time": "2025-07-01T14:29:09.062Z"
   },
   {
    "duration": 300,
    "start_time": "2025-07-01T14:29:09.275Z"
   },
   {
    "duration": 9,
    "start_time": "2025-07-01T14:29:09.576Z"
   },
   {
    "duration": 13,
    "start_time": "2025-07-01T14:29:09.640Z"
   },
   {
    "duration": 228,
    "start_time": "2025-07-01T14:29:09.655Z"
   }
  ],
  "kernelspec": {
   "display_name": "Python 3 (ipykernel)",
   "language": "python",
   "name": "python3"
  },
  "language_info": {
   "codemirror_mode": {
    "name": "ipython",
    "version": 3
   },
   "file_extension": ".py",
   "mimetype": "text/x-python",
   "name": "python",
   "nbconvert_exporter": "python",
   "pygments_lexer": "ipython3",
   "version": "3.9.5"
  },
  "toc": {
   "base_numbering": 1,
   "nav_menu": {},
   "number_sections": true,
   "sideBar": true,
   "skip_h1_title": true,
   "title_cell": "Содержание",
   "title_sidebar": "Contents",
   "toc_cell": true,
   "toc_position": {},
   "toc_section_display": true,
   "toc_window_display": false
  }
 },
 "nbformat": 4,
 "nbformat_minor": 5
}
