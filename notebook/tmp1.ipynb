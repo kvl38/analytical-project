{
 "cells": [
  {
   "cell_type": "markdown",
   "id": "2e913af1",
   "metadata": {
    "toc": true
   },
   "source": [
    "<h1>Содержание<span class=\"tocSkip\"></span></h1>\n",
    "<div class=\"toc\"><ul class=\"toc-item\"><li><span><a href=\"#Загрузка-данных\" data-toc-modified-id=\"Загрузка-данных-1\"><span class=\"toc-item-num\">1&nbsp;&nbsp;</span>Загрузка данных</a></span></li><li><span><a href=\"#Исследовательский-анализ-и-предобработка-данных\" data-toc-modified-id=\"Исследовательский-анализ-и-предобработка-данных-2\"><span class=\"toc-item-num\">2&nbsp;&nbsp;</span>Исследовательский анализ и предобработка данных</a></span></li><li><span><a href=\"#Объединение-данных\" data-toc-modified-id=\"Объединение-данных-3\"><span class=\"toc-item-num\">3&nbsp;&nbsp;</span>Объединение данных</a></span></li><li><span><a href=\"#Подготовка-данных\" data-toc-modified-id=\"Подготовка-данных-4\"><span class=\"toc-item-num\">4&nbsp;&nbsp;</span>Подготовка данных</a></span></li><li><span><a href=\"#Обучение-ML-моделей\" data-toc-modified-id=\"Обучение-ML-моделей-5\"><span class=\"toc-item-num\">5&nbsp;&nbsp;</span>Обучение ML-моделей</a></span></li><li><span><a href=\"#Выбор-лучшей-модели\" data-toc-modified-id=\"Выбор-лучшей-модели-6\"><span class=\"toc-item-num\">6&nbsp;&nbsp;</span>Выбор лучшей модели</a></span></li><li><span><a href=\"#Общий-вывод\" data-toc-modified-id=\"Общий-вывод-7\"><span class=\"toc-item-num\">7&nbsp;&nbsp;</span>Общий вывод</a></span></li></ul></div>"
   ]
  },
  {
   "cell_type": "markdown",
   "id": "41593303",
   "metadata": {},
   "source": [
    "# Прогнозирование оттока клиентов телекоммуникационного оператора"
   ]
  },
  {
   "cell_type": "markdown",
   "id": "74d55b23",
   "metadata": {},
   "source": [
    "**Описание проекта:**\n",
    "\n",
    "Компания «ТелеДом», один из игроков телекоммуникационного рынка, заинтересована в снижении уровня оттока клиентов. Для этого планируется внедрение системы, которая будет прогнозировать вероятность расторжения договора на основе имеющихся клиентских данных. Это позволит сотрудникам «ТелеДом» своевременно выявлять склонных к оттоку клиентов и предлагать им промокоды или специальные условия, чтобы повысить уровень удержания.\n",
    "\n",
    "**Цель проекта:**\n",
    "\n",
    "Разработать модель машинного обучения, способную предсказывать, разорвёт ли абонент договор.\n",
    "\n",
    "**Задачи:**\n",
    "\n",
    "- Загрузить данные\n",
    "- Предобработать данные\n",
    "- Провести исследовательский анализ и выявить ключевые факторы, влияющие на отток\n",
    "- Обучить и сравнить модели машинного обучения\n",
    "- Разработать финальную классификационную модель для прогнозирования вероятности оттока клиентов\n",
    "\n",
    "**Описание данных:**\n",
    "\n",
    "Данные состоят из нескольких файлов, полученных из разных источников:\n",
    "\n",
    "1) Файл *contract_new.csv* — информация о договоре\n",
    "\n",
    "* customerID — идентификатор абонента;\n",
    "* BeginDate — дата начала действия договора;\n",
    "* EndDate — дата окончания действия договора;\n",
    "* Type — тип оплаты: раз в год-два или ежемесячно;\n",
    "* PaperlessBilling — электронный расчётный лист;\n",
    "* PaymentMethod — тип платежа;\n",
    "* MonthlyCharges — расходы за месяц;\n",
    "* TotalCharges — общие расходы абонента.\n",
    "\n",
    "2) Файл *personal_new.csv* — персональные данные клиента\n",
    "\n",
    "* customerID — идентификатор пользователя;\n",
    "* gender — пол;\n",
    "* SeniorCitizen — является ли абонент пенсионером;\n",
    "* Partner — есть ли у абонента супруг или супруга;\n",
    "* Dependents — есть ли у абонента дети.\n",
    "\n",
    "3) Файл *internet_new.csv* — информация об интернет-услугах\n",
    "\n",
    "* customerID — идентификатор пользователя;\n",
    "* InternetService — тип подключения;\n",
    "* OnlineSecurity — блокировка опасных сайтов;\n",
    "* OnlineBackup — облачное хранилище файлов для резервного копирования данных;\n",
    "* DeviceProtection — антивирус;\n",
    "* TechSupport — выделенная линия технической поддержки;\n",
    "* StreamingTV — стриминговое телевидение;\n",
    "* StreamingMovies — каталог фильмов.\n",
    "\n",
    "4) Файл *phone_new.csv* — информация об услугах телефонии\n",
    "\n",
    "* customerID — идентификатор пользователя;\n",
    "* MultipleLines — подключение телефона к нескольким линиям одновременно."
   ]
  },
  {
   "cell_type": "markdown",
   "id": "be1d097a",
   "metadata": {},
   "source": [
    "## Загрузка данных"
   ]
  },
  {
   "cell_type": "code",
   "execution_count": 1,
   "id": "88c53eed",
   "metadata": {},
   "outputs": [],
   "source": [
    "# Импортируем нужные библиотеки\n",
    "import pandas as pd"
   ]
  },
  {
   "cell_type": "code",
   "execution_count": 2,
   "id": "bb529d9c",
   "metadata": {},
   "outputs": [],
   "source": [
    "# # Установим библиотеку\n",
    "# !pip install phik -q\n",
    "# !pip install --upgrade scikit-learn -q"
   ]
  },
  {
   "cell_type": "code",
   "execution_count": 3,
   "id": "3f5defca",
   "metadata": {},
   "outputs": [],
   "source": [
    "# # Задаем значения констант\n",
    "# RANDOM_STATE = 42\n",
    "# TEST_SIZE = 0.25\n",
    "# cv = 5"
   ]
  },
  {
   "cell_type": "code",
   "execution_count": 4,
   "id": "75acd676",
   "metadata": {},
   "outputs": [],
   "source": [
    "# def data_loader(link: str) -> pd.DataFrame:\n",
    "#     pass"
   ]
  },
  {
   "cell_type": "code",
   "execution_count": null,
   "id": "777361c6",
   "metadata": {},
   "outputs": [],
   "source": []
  },
  {
   "cell_type": "code",
   "execution_count": null,
   "id": "a1c5d173",
   "metadata": {},
   "outputs": [],
   "source": []
  },
  {
   "cell_type": "code",
   "execution_count": null,
   "id": "9f02ff86",
   "metadata": {},
   "outputs": [],
   "source": []
  },
  {
   "cell_type": "code",
   "execution_count": null,
   "id": "3f859647",
   "metadata": {},
   "outputs": [],
   "source": []
  },
  {
   "cell_type": "code",
   "execution_count": null,
   "id": "ad15e8fc",
   "metadata": {},
   "outputs": [],
   "source": []
  },
  {
   "cell_type": "code",
   "execution_count": null,
   "id": "8ed7c4f3",
   "metadata": {},
   "outputs": [],
   "source": []
  },
  {
   "cell_type": "code",
   "execution_count": null,
   "id": "367eceab",
   "metadata": {},
   "outputs": [],
   "source": []
  },
  {
   "cell_type": "code",
   "execution_count": null,
   "id": "23886f36",
   "metadata": {},
   "outputs": [],
   "source": []
  },
  {
   "cell_type": "code",
   "execution_count": null,
   "id": "ddd821e9",
   "metadata": {},
   "outputs": [],
   "source": []
  },
  {
   "cell_type": "code",
   "execution_count": null,
   "id": "23d6b30f",
   "metadata": {},
   "outputs": [],
   "source": []
  },
  {
   "cell_type": "code",
   "execution_count": null,
   "id": "20ece9c3",
   "metadata": {},
   "outputs": [],
   "source": []
  },
  {
   "cell_type": "markdown",
   "id": "3c8690ae",
   "metadata": {},
   "source": [
    "## Исследовательский анализ и предобработка данных"
   ]
  },
  {
   "cell_type": "code",
   "execution_count": null,
   "id": "7a6909a8",
   "metadata": {},
   "outputs": [],
   "source": []
  },
  {
   "cell_type": "code",
   "execution_count": null,
   "id": "afe9a2b0",
   "metadata": {},
   "outputs": [],
   "source": []
  },
  {
   "cell_type": "code",
   "execution_count": null,
   "id": "9cf627b9",
   "metadata": {},
   "outputs": [],
   "source": []
  },
  {
   "cell_type": "code",
   "execution_count": null,
   "id": "ae3c8601",
   "metadata": {},
   "outputs": [],
   "source": []
  },
  {
   "cell_type": "code",
   "execution_count": null,
   "id": "62bf5cba",
   "metadata": {},
   "outputs": [],
   "source": []
  },
  {
   "cell_type": "code",
   "execution_count": null,
   "id": "eba36cd6",
   "metadata": {},
   "outputs": [],
   "source": []
  },
  {
   "cell_type": "code",
   "execution_count": null,
   "id": "0378367c",
   "metadata": {},
   "outputs": [],
   "source": []
  },
  {
   "cell_type": "code",
   "execution_count": null,
   "id": "7d1ff42c",
   "metadata": {},
   "outputs": [],
   "source": []
  },
  {
   "cell_type": "code",
   "execution_count": null,
   "id": "ba82af9f",
   "metadata": {},
   "outputs": [],
   "source": []
  },
  {
   "cell_type": "code",
   "execution_count": null,
   "id": "823569aa",
   "metadata": {},
   "outputs": [],
   "source": []
  },
  {
   "cell_type": "code",
   "execution_count": null,
   "id": "69f6daf2",
   "metadata": {},
   "outputs": [],
   "source": []
  },
  {
   "cell_type": "code",
   "execution_count": null,
   "id": "c8aa59fd",
   "metadata": {},
   "outputs": [],
   "source": []
  },
  {
   "cell_type": "code",
   "execution_count": null,
   "id": "34abbd73",
   "metadata": {},
   "outputs": [],
   "source": []
  },
  {
   "cell_type": "code",
   "execution_count": null,
   "id": "9af34710",
   "metadata": {},
   "outputs": [],
   "source": []
  },
  {
   "cell_type": "markdown",
   "id": "aba780c8",
   "metadata": {},
   "source": [
    "## Объединение данных"
   ]
  },
  {
   "cell_type": "code",
   "execution_count": null,
   "id": "95384b57",
   "metadata": {},
   "outputs": [],
   "source": []
  },
  {
   "cell_type": "code",
   "execution_count": null,
   "id": "d380f92a",
   "metadata": {},
   "outputs": [],
   "source": []
  },
  {
   "cell_type": "code",
   "execution_count": null,
   "id": "f5ce3c88",
   "metadata": {},
   "outputs": [],
   "source": []
  },
  {
   "cell_type": "code",
   "execution_count": null,
   "id": "c6d840e0",
   "metadata": {},
   "outputs": [],
   "source": []
  },
  {
   "cell_type": "code",
   "execution_count": null,
   "id": "b6414504",
   "metadata": {},
   "outputs": [],
   "source": []
  },
  {
   "cell_type": "code",
   "execution_count": null,
   "id": "23f16d4b",
   "metadata": {},
   "outputs": [],
   "source": []
  },
  {
   "cell_type": "code",
   "execution_count": null,
   "id": "1e8dd55b",
   "metadata": {},
   "outputs": [],
   "source": []
  },
  {
   "cell_type": "code",
   "execution_count": null,
   "id": "361c590c",
   "metadata": {},
   "outputs": [],
   "source": []
  },
  {
   "cell_type": "code",
   "execution_count": null,
   "id": "bf8e0d51",
   "metadata": {},
   "outputs": [],
   "source": []
  },
  {
   "cell_type": "code",
   "execution_count": null,
   "id": "38b40038",
   "metadata": {},
   "outputs": [],
   "source": []
  },
  {
   "cell_type": "markdown",
   "id": "4258fed7",
   "metadata": {},
   "source": [
    "## Подготовка данных"
   ]
  },
  {
   "cell_type": "code",
   "execution_count": null,
   "id": "3943a38f",
   "metadata": {},
   "outputs": [],
   "source": []
  },
  {
   "cell_type": "code",
   "execution_count": null,
   "id": "847f1473",
   "metadata": {},
   "outputs": [],
   "source": []
  },
  {
   "cell_type": "code",
   "execution_count": null,
   "id": "9190dde2",
   "metadata": {},
   "outputs": [],
   "source": []
  },
  {
   "cell_type": "code",
   "execution_count": null,
   "id": "ba1acc8d",
   "metadata": {},
   "outputs": [],
   "source": []
  },
  {
   "cell_type": "code",
   "execution_count": null,
   "id": "7330da3f",
   "metadata": {},
   "outputs": [],
   "source": []
  },
  {
   "cell_type": "code",
   "execution_count": null,
   "id": "06d5bad8",
   "metadata": {},
   "outputs": [],
   "source": []
  },
  {
   "cell_type": "code",
   "execution_count": null,
   "id": "fb2e8c78",
   "metadata": {},
   "outputs": [],
   "source": []
  },
  {
   "cell_type": "code",
   "execution_count": null,
   "id": "52393b07",
   "metadata": {},
   "outputs": [],
   "source": []
  },
  {
   "cell_type": "code",
   "execution_count": null,
   "id": "1c28e75d",
   "metadata": {},
   "outputs": [],
   "source": []
  },
  {
   "cell_type": "markdown",
   "id": "4dbd198c",
   "metadata": {},
   "source": [
    "## Обучение ML-моделей"
   ]
  },
  {
   "cell_type": "code",
   "execution_count": null,
   "id": "8aa822ad",
   "metadata": {},
   "outputs": [],
   "source": []
  },
  {
   "cell_type": "code",
   "execution_count": null,
   "id": "da111583",
   "metadata": {},
   "outputs": [],
   "source": []
  },
  {
   "cell_type": "code",
   "execution_count": null,
   "id": "1edd420e",
   "metadata": {},
   "outputs": [],
   "source": []
  },
  {
   "cell_type": "code",
   "execution_count": null,
   "id": "51dd6939",
   "metadata": {},
   "outputs": [],
   "source": []
  },
  {
   "cell_type": "code",
   "execution_count": null,
   "id": "8757d8d1",
   "metadata": {},
   "outputs": [],
   "source": []
  },
  {
   "cell_type": "code",
   "execution_count": null,
   "id": "2d0a08f8",
   "metadata": {},
   "outputs": [],
   "source": []
  },
  {
   "cell_type": "code",
   "execution_count": null,
   "id": "3b1214a3",
   "metadata": {},
   "outputs": [],
   "source": []
  },
  {
   "cell_type": "code",
   "execution_count": null,
   "id": "007f9bde",
   "metadata": {},
   "outputs": [],
   "source": []
  },
  {
   "cell_type": "code",
   "execution_count": null,
   "id": "5ccaaa13",
   "metadata": {},
   "outputs": [],
   "source": []
  },
  {
   "cell_type": "code",
   "execution_count": null,
   "id": "5034a999",
   "metadata": {},
   "outputs": [],
   "source": []
  },
  {
   "cell_type": "code",
   "execution_count": null,
   "id": "8c1b699a",
   "metadata": {},
   "outputs": [],
   "source": []
  },
  {
   "cell_type": "markdown",
   "id": "2bfffe2f",
   "metadata": {},
   "source": [
    "## Выбор лучшей модели"
   ]
  },
  {
   "cell_type": "code",
   "execution_count": null,
   "id": "2096a40a",
   "metadata": {},
   "outputs": [],
   "source": []
  },
  {
   "cell_type": "code",
   "execution_count": null,
   "id": "9082075c",
   "metadata": {},
   "outputs": [],
   "source": []
  },
  {
   "cell_type": "code",
   "execution_count": null,
   "id": "ff5269af",
   "metadata": {},
   "outputs": [],
   "source": []
  },
  {
   "cell_type": "code",
   "execution_count": null,
   "id": "77e91ae5",
   "metadata": {},
   "outputs": [],
   "source": []
  },
  {
   "cell_type": "code",
   "execution_count": null,
   "id": "9557ee86",
   "metadata": {},
   "outputs": [],
   "source": []
  },
  {
   "cell_type": "code",
   "execution_count": null,
   "id": "12463f5a",
   "metadata": {},
   "outputs": [],
   "source": []
  },
  {
   "cell_type": "code",
   "execution_count": null,
   "id": "ba85ae24",
   "metadata": {},
   "outputs": [],
   "source": []
  },
  {
   "cell_type": "code",
   "execution_count": null,
   "id": "b2c84453",
   "metadata": {},
   "outputs": [],
   "source": []
  },
  {
   "cell_type": "code",
   "execution_count": null,
   "id": "b77305d9",
   "metadata": {},
   "outputs": [],
   "source": []
  },
  {
   "cell_type": "markdown",
   "id": "80d38615",
   "metadata": {},
   "source": [
    "## Общий вывод"
   ]
  },
  {
   "cell_type": "code",
   "execution_count": null,
   "id": "fa0f7c78",
   "metadata": {},
   "outputs": [],
   "source": []
  },
  {
   "cell_type": "code",
   "execution_count": null,
   "id": "98002429",
   "metadata": {},
   "outputs": [],
   "source": []
  },
  {
   "cell_type": "code",
   "execution_count": null,
   "id": "0b46f4d3",
   "metadata": {},
   "outputs": [],
   "source": []
  },
  {
   "cell_type": "code",
   "execution_count": null,
   "id": "62cfbeb1",
   "metadata": {},
   "outputs": [],
   "source": []
  }
 ],
 "metadata": {
  "ExecuteTimeLog": [
   {
    "duration": 149,
    "start_time": "2025-06-30T07:18:40.344Z"
   },
   {
    "duration": 42,
    "start_time": "2025-06-30T07:24:49.996Z"
   },
   {
    "duration": 490,
    "start_time": "2025-06-30T07:25:03.264Z"
   },
   {
    "duration": 3,
    "start_time": "2025-06-30T07:25:05.022Z"
   },
   {
    "duration": 383,
    "start_time": "2025-06-30T11:15:34.796Z"
   },
   {
    "duration": 2,
    "start_time": "2025-06-30T11:15:35.181Z"
   },
   {
    "duration": 23,
    "start_time": "2025-06-30T11:15:35.185Z"
   },
   {
    "duration": 4,
    "start_time": "2025-06-30T11:15:35.209Z"
   },
   {
    "duration": 364,
    "start_time": "2025-06-30T15:00:07.502Z"
   },
   {
    "duration": 2,
    "start_time": "2025-06-30T15:00:07.868Z"
   },
   {
    "duration": 38,
    "start_time": "2025-06-30T15:00:07.871Z"
   },
   {
    "duration": 12,
    "start_time": "2025-06-30T15:00:07.913Z"
   },
   {
    "duration": 357,
    "start_time": "2025-06-30T16:28:23.105Z"
   },
   {
    "duration": 2,
    "start_time": "2025-06-30T16:28:23.464Z"
   },
   {
    "duration": 4,
    "start_time": "2025-06-30T16:28:23.468Z"
   },
   {
    "duration": 3,
    "start_time": "2025-06-30T16:28:23.473Z"
   }
  ],
  "kernelspec": {
   "display_name": "Python 3 (ipykernel)",
   "language": "python",
   "name": "python3"
  },
  "language_info": {
   "codemirror_mode": {
    "name": "ipython",
    "version": 3
   },
   "file_extension": ".py",
   "mimetype": "text/x-python",
   "name": "python",
   "nbconvert_exporter": "python",
   "pygments_lexer": "ipython3",
   "version": "3.9.5"
  },
  "toc": {
   "base_numbering": 1,
   "nav_menu": {},
   "number_sections": true,
   "sideBar": true,
   "skip_h1_title": true,
   "title_cell": "Содержание",
   "title_sidebar": "Contents",
   "toc_cell": true,
   "toc_position": {},
   "toc_section_display": true,
   "toc_window_display": false
  }
 },
 "nbformat": 4,
 "nbformat_minor": 5
}
